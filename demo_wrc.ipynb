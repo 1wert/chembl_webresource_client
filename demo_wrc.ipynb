{
 "cells": [
  {
   "cell_type": "markdown",
   "metadata": {},
   "source": [
    "# chembl_webresource_client demo\n",
    "\n",
    "### ChEMBL Group, EMBL-EBI"
   ]
  },
  {
   "cell_type": "markdown",
   "metadata": {},
   "source": [
    "## Introduction\n",
    "\n",
    "This is the only official Python client library developed and supported by ChEMBL group.\n",
    "\n",
    "The library helps accessing ChEMBL data and cheminformatics tools from Python. You don't need to know how to write SQL. You don't need to know how to interact with REST APIs. You don't need to compile or install any cheminformatics frameworks. Results are cached.\n",
    "\n",
    "The client handles interaction with the HTTPS protocol and caches all results in the local file system for faster retrieval. Abstracting away all network-related tasks, the client provides the end user with a convenient interface, giving the impression of working with a local resource. Design is based on the Django QuerySet interface. The client also implements lazy evaluation of results, which means it will only evaluate a request for data when a value is required. This approach reduces number of network requests and increases performance.\n",
    "\n",
    "Please note that the code below attempts to balance clarity and brevity, and is not intended to be a template for production code: error checking, for example, should be much more thorough in practice. "
   ]
  },
  {
   "cell_type": "markdown",
   "metadata": {},
   "source": [
    "## Configuration and setup"
   ]
  },
  {
   "cell_type": "code",
   "execution_count": null,
   "metadata": {},
   "outputs": [],
   "source": [
    "import logging\n",
    "from operator import itemgetter\n",
    "from IPython.display import display, SVG"
   ]
  },
  {
   "cell_type": "code",
   "execution_count": null,
   "metadata": {},
   "outputs": [],
   "source": [
    "# Python modules used for API access...\n",
    "from chembl_webresource_client.new_client import new_client"
   ]
  },
  {
   "cell_type": "markdown",
   "metadata": {},
   "source": [
    "## List of available resources\n",
    "It's easy to get a list of available resources by invoking:"
   ]
  },
  {
   "cell_type": "code",
   "execution_count": 1,
   "metadata": {},
   "outputs": [
    {
     "ename": "NameError",
     "evalue": "name 'new_client' is not defined",
     "output_type": "error",
     "traceback": [
      "\u001b[0;31m---------------------------------------------------------------------------\u001b[0m",
      "\u001b[0;31mNameError\u001b[0m                                 Traceback (most recent call last)",
      "\u001b[0;32m<ipython-input-1-666932303986>\u001b[0m in \u001b[0;36m<module>\u001b[0;34m\u001b[0m\n\u001b[0;32m----> 1\u001b[0;31m \u001b[0mavailable_resources\u001b[0m \u001b[0;34m=\u001b[0m \u001b[0;34m[\u001b[0m\u001b[0mresource\u001b[0m \u001b[0;32mfor\u001b[0m \u001b[0mresource\u001b[0m \u001b[0;32min\u001b[0m \u001b[0mdir\u001b[0m\u001b[0;34m(\u001b[0m\u001b[0mnew_client\u001b[0m\u001b[0;34m)\u001b[0m \u001b[0;32mif\u001b[0m \u001b[0;32mnot\u001b[0m \u001b[0mresource\u001b[0m\u001b[0;34m.\u001b[0m\u001b[0mstartswith\u001b[0m\u001b[0;34m(\u001b[0m\u001b[0;34m'_'\u001b[0m\u001b[0;34m)\u001b[0m\u001b[0;34m]\u001b[0m\u001b[0;34m\u001b[0m\u001b[0;34m\u001b[0m\u001b[0m\n\u001b[0m\u001b[1;32m      2\u001b[0m \u001b[0mprint\u001b[0m\u001b[0;34m(\u001b[0m\u001b[0mavailable_resources\u001b[0m\u001b[0;34m)\u001b[0m\u001b[0;34m\u001b[0m\u001b[0;34m\u001b[0m\u001b[0m\n\u001b[1;32m      3\u001b[0m \u001b[0mprint\u001b[0m\u001b[0;34m(\u001b[0m\u001b[0mlen\u001b[0m\u001b[0;34m(\u001b[0m\u001b[0mavailable_resources\u001b[0m\u001b[0;34m)\u001b[0m\u001b[0;34m)\u001b[0m\u001b[0;34m\u001b[0m\u001b[0;34m\u001b[0m\u001b[0m\n",
      "\u001b[0;31mNameError\u001b[0m: name 'new_client' is not defined"
     ]
    }
   ],
   "source": [
    "available_resources = [resource for resource in dir(new_client) if not resource.startswith('_')]\n",
    "print(available_resources)\n",
    "print(len(available_resources))"
   ]
  },
  {
   "cell_type": "markdown",
   "metadata": {},
   "source": [
    "Which means there are 35 different types of resources available _via_ web services. In this notebook only the most important of these are covered."
   ]
  },
  {
   "cell_type": "markdown",
   "metadata": {},
   "source": [
    "## Molecules\n",
    "\n",
    "Molecule records may be retrieved in a number of ways, such as lookup of single molecules using various identifiers or searching for compounds _via_ substruture or similarity. "
   ]
  },
  {
   "cell_type": "code",
   "execution_count": null,
   "metadata": {},
   "outputs": [],
   "source": [
    "# Get a molecule-handler object for API access and check the connection to the database...\n",
    "molecule = new_client.molecule\n",
    "molecule.set_format('json')\n",
    "print(\"%s molecules available in ChEMBL\" % len(molecule.all()))"
   ]
  },
  {
   "cell_type": "markdown",
   "metadata": {},
   "source": [
    "### Getting a single molecule\n",
    "\n",
    "In order to retrieve a single molecule from the web services, you need to know its unique and unambiguous identifier. In case of molecule resource this can be one of three types:\n",
    "\n",
    " 1. ChEMBL_ID\n",
    " 2. InChI Key\n",
    " 3. Canonical SMILES (non-canonical SMILES will be covered later in this notebook)"
   ]
  },
  {
   "cell_type": "code",
   "execution_count": null,
   "metadata": {},
   "outputs": [],
   "source": [
    "# so this:\n",
    "# 1.\n",
    "m1 = molecule.get('CHEMBL25')\n",
    "# 2.\n",
    "m2 = molecule.get('BSYNRYMUTXBXSQ-UHFFFAOYSA-N')\n",
    "#\n",
    "m3 = molecule.get('CC(=O)Oc1ccccc1C(=O)O')\n",
    "# will return the same data:\n",
    "m1 == m2 == m3"
   ]
  },
  {
   "cell_type": "markdown",
   "metadata": {},
   "source": [
    "### ChEMBL ID\n",
    "\n",
    "All the main entities in the ChEMBL database have a ChEMBL ID. It is a stable identifier designed for straightforward lookup of data."
   ]
  },
  {
   "cell_type": "code",
   "execution_count": 6,
   "metadata": {},
   "outputs": [],
   "source": [
    "# Lapatinib, the bioactive component of the anti-cancer drug Tykerb\n",
    "chembl_id = \"CHEMBL554\" "
   ]
  },
  {
   "cell_type": "code",
   "execution_count": 7,
   "metadata": {},
   "outputs": [
    {
     "data": {
      "text/plain": "{'atc_classifications': ['L01XE07'],\n 'availability_type': 1,\n 'biotherapeutic': None,\n 'black_box_warning': 1,\n 'chebi_par_id': 49603,\n 'chirality': 2,\n 'cross_references': [{'xref_id': 'lapatinib%20ditosylate',\n   'xref_name': 'lapatinib ditosylate',\n   'xref_src': 'DailyMed'},\n  {'xref_id': '103905567',\n   'xref_name': 'SID: 103905567',\n   'xref_src': 'PubChem'},\n  {'xref_id': '103905568',\n   'xref_name': 'SID: 103905568',\n   'xref_src': 'PubChem'},\n  {'xref_id': '144206058',\n   'xref_name': 'SID: 144206058',\n   'xref_src': 'PubChem'},\n  {'xref_id': '170465125',\n   'xref_name': 'SID: 170465125',\n   'xref_src': 'PubChem'},\n  {'xref_id': '50100107', 'xref_name': 'SID: 50100107', 'xref_src': 'PubChem'},\n  {'xref_id': 'Lapatinib', 'xref_name': None, 'xref_src': 'Wikipedia'}],\n 'dosed_ingredient': True,\n 'first_approval': 2007,\n 'first_in_class': 0,\n 'helm_notation': None,\n 'indication_class': None,\n 'inorganic_flag': 0,\n 'max_phase': 4,\n 'molecule_chembl_id': 'CHEMBL554',\n 'molecule_hierarchy': {'molecule_chembl_id': 'CHEMBL554',\n  'parent_chembl_id': 'CHEMBL554'},\n 'molecule_properties': {'alogp': '6.14',\n  'aromatic_rings': 5,\n  'cx_logd': '4.40',\n  'cx_logp': '4.64',\n  'cx_most_apka': None,\n  'cx_most_bpka': '7.26',\n  'full_molformula': 'C29H26ClFN4O4S',\n  'full_mwt': '581.07',\n  'hba': 8,\n  'hba_lipinski': 8,\n  'hbd': 2,\n  'hbd_lipinski': 2,\n  'heavy_atoms': 40,\n  'molecular_species': 'NEUTRAL',\n  'mw_freebase': '581.07',\n  'mw_monoisotopic': '580.1347',\n  'num_lipinski_ro5_violations': 2,\n  'num_ro5_violations': 2,\n  'psa': '106.35',\n  'qed_weighted': '0.18',\n  'ro3_pass': 'N',\n  'rtb': 11},\n 'molecule_structures': {'canonical_smiles': 'CS(=O)(=O)CCNCc1ccc(-c2ccc3ncnc(Nc4ccc(OCc5cccc(F)c5)c(Cl)c4)c3c2)o1',\n  'molfile': '\\n     RDKit          2D\\n\\n 40 44  0  0  0  0  0  0  0  0999 V2000\\n    1.2602   -2.6079    0.0000 C   0  0  0  0  0  0  0  0  0  0  0  0\\n    0.4340   -2.6079    0.0000 C   0  0  0  0  0  0  0  0  0  0  0  0\\n    0.1797   -3.3915    0.0000 C   0  0  0  0  0  0  0  0  0  0  0  0\\n    0.8495   -3.8833    0.0000 O   0  0  0  0  0  0  0  0  0  0  0  0\\n    1.5192   -3.3915    0.0000 C   0  0  0  0  0  0  0  0  0  0  0  0\\n    2.2352   -3.8070    0.0000 C   0  0  0  0  0  0  0  0  0  0  0  0\\n    2.2338   -4.6360    0.0000 C   0  0  0  0  0  0  0  0  0  0  0  0\\n    2.9517   -5.0470    0.0000 C   0  0  0  0  0  0  0  0  0  0  0  0\\n    2.9496   -3.3912    0.0000 C   0  0  0  0  0  0  0  0  0  0  0  0\\n    3.6583   -3.8027    0.0000 C   0  0  0  0  0  0  0  0  0  0  0  0\\n    3.6594   -4.6317    0.0000 C   0  0  0  0  0  0  0  0  0  0  0  0\\n    4.3775   -5.0409    0.0000 N   0  0  0  0  0  0  0  0  0  0  0  0\\n    5.0945   -4.6272    0.0000 C   0  0  0  0  0  0  0  0  0  0  0  0\\n    5.0893   -3.7951    0.0000 N   0  0  0  0  0  0  0  0  0  0  0  0\\n    4.3709   -3.3848    0.0000 C   0  0  0  0  0  0  0  0  0  0  0  0\\n    4.3661   -2.5587    0.0000 N   0  0  0  0  0  0  0  0  0  0  0  0\\n    5.0797   -2.1438    0.0000 C   0  0  0  0  0  0  0  0  0  0  0  0\\n    5.7943   -2.5532    0.0000 C   0  0  0  0  0  0  0  0  0  0  0  0\\n    6.5075   -2.1392    0.0000 C   0  0  0  0  0  0  0  0  0  0  0  0\\n    6.5031   -1.3121    0.0000 C   0  0  0  0  0  0  0  0  0  0  0  0\\n    5.7796   -0.9011    0.0000 C   0  0  0  0  0  0  0  0  0  0  0  0\\n    5.0693   -1.3223    0.0000 C   0  0  0  0  0  0  0  0  0  0  0  0\\n    7.2162   -0.8915    0.0000 O   0  0  0  0  0  0  0  0  0  0  0  0\\n    7.9354   -1.3019    0.0000 C   0  0  0  0  0  0  0  0  0  0  0  0\\n    8.6436   -0.8813    0.0000 C   0  0  0  0  0  0  0  0  0  0  0  0\\n    5.7719   -0.0749    0.0000 Cl  0  0  0  0  0  0  0  0  0  0  0  0\\n    9.3606   -1.2940    0.0000 C   0  0  0  0  0  0  0  0  0  0  0  0\\n   10.0731   -0.8742    0.0000 C   0  0  0  0  0  0  0  0  0  0  0  0\\n   10.0677   -0.0472    0.0000 C   0  0  0  0  0  0  0  0  0  0  0  0\\n    9.3437    0.3582    0.0000 C   0  0  0  0  0  0  0  0  0  0  0  0\\n    8.6340   -0.0593    0.0000 C   0  0  0  0  0  0  0  0  0  0  0  0\\n   10.7920   -1.2849    0.0000 F   0  0  0  0  0  0  0  0  0  0  0  0\\n   -0.5410   -3.7974    0.0000 C   0  0  0  0  0  0  0  0  0  0  0  0\\n   -1.2518   -3.3728    0.0000 N   0  0  0  0  0  0  0  0  0  0  0  0\\n   -1.9684   -3.7790    0.0000 C   0  0  0  0  0  0  0  0  0  0  0  0\\n   -2.6792   -3.3544    0.0000 C   0  0  0  0  0  0  0  0  0  0  0  0\\n   -3.4005   -3.7605    0.0000 S   0  0  0  0  0  0  0  0  0  0  0  0\\n   -4.1113   -3.3359    0.0000 C   0  0  0  0  0  0  0  0  0  0  0  0\\n   -2.9954   -4.4689    0.0000 O   0  0  0  0  0  0  0  0  0  0  0  0\\n   -3.8215   -4.4689    0.0000 O   0  0  0  0  0  0  0  0  0  0  0  0\\n 16 17  1  0\\n 37 39  2  0\\n 37 40  2  0\\n 17 18  2  0\\n  7  8  1  0\\n 18 19  1  0\\n  8 11  2  0\\n 19 20  2  0\\n 20 21  1  0\\n 10  9  2  0\\n 21 22  2  0\\n 22 17  1  0\\n  9  6  1  0\\n 20 23  1  0\\n  1  2  1  0\\n 23 24  1  0\\n  2  3  2  0\\n 24 25  1  0\\n 10 11  1  0\\n 21 26  1  0\\n  3  4  1  0\\n 25 27  2  0\\n 11 12  1  0\\n 27 28  1  0\\n  4  5  1  0\\n 28 29  2  0\\n 12 13  2  0\\n 29 30  1  0\\n  5  1  2  0\\n 30 31  2  0\\n 31 25  1  0\\n 13 14  1  0\\n 28 32  1  0\\n  6  5  1  0\\n  3 33  1  0\\n 14 15  2  0\\n 33 34  1  0\\n 15 10  1  0\\n 34 35  1  0\\n 35 36  1  0\\n 15 16  1  0\\n 36 37  1  0\\n  6  7  2  0\\n 37 38  1  0\\nM  END\\n\\n> <chembl_id>\\nCHEMBL554\\n\\n> <chembl_pref_name>\\nLAPATINIB\\n\\n',\n  'standard_inchi': 'InChI=1S/C29H26ClFN4O4S/c1-40(36,37)12-11-32-16-23-7-10-27(39-23)20-5-8-26-24(14-20)29(34-18-33-26)35-22-6-9-28(25(30)15-22)38-17-19-3-2-4-21(31)13-19/h2-10,13-15,18,32H,11-12,16-17H2,1H3,(H,33,34,35)',\n  'standard_inchi_key': 'BCFGMOOMADDAQU-UHFFFAOYSA-N'},\n 'molecule_synonyms': [{'molecule_synonym': 'GSK-572016',\n   'syn_type': 'RESEARCH_CODE',\n   'synonyms': 'GSK-572016'},\n  {'molecule_synonym': 'GW-2016',\n   'syn_type': 'RESEARCH_CODE',\n   'synonyms': 'GW-2016'},\n  {'molecule_synonym': 'GW572016',\n   'syn_type': 'RESEARCH_CODE',\n   'synonyms': 'GW572016'},\n  {'molecule_synonym': 'GW-572016',\n   'syn_type': 'RESEARCH_CODE',\n   'synonyms': 'GW-572016'},\n  {'molecule_synonym': 'GW-572016X',\n   'syn_type': 'RESEARCH_CODE',\n   'synonyms': 'GW-572016X'},\n  {'molecule_synonym': 'Lapatinib',\n   'syn_type': 'FDA',\n   'synonyms': 'Lapatinib'},\n  {'molecule_synonym': 'Lapatinib',\n   'syn_type': 'ATC',\n   'synonyms': 'LAPATINIB'},\n  {'molecule_synonym': 'Lapatinib',\n   'syn_type': 'BNF',\n   'synonyms': 'LAPATINIB'},\n  {'molecule_synonym': 'Lapatinib',\n   'syn_type': 'INN',\n   'synonyms': 'LAPATINIB'},\n  {'molecule_synonym': 'Lapatinib',\n   'syn_type': 'MERCK_INDEX',\n   'synonyms': 'LAPATINIB'},\n  {'molecule_synonym': 'Lapatinib',\n   'syn_type': 'OTHER',\n   'synonyms': 'LAPATINIB'},\n  {'molecule_synonym': 'Tyverb',\n   'syn_type': 'TRADE_NAME',\n   'synonyms': 'TYVERB'}],\n 'molecule_type': 'Small molecule',\n 'natural_product': 0,\n 'oral': True,\n 'parenteral': False,\n 'polymer_flag': False,\n 'pref_name': 'LAPATINIB',\n 'prodrug': 0,\n 'structure_type': 'MOL',\n 'therapeutic_flag': True,\n 'topical': False,\n 'usan_stem': '-tinib',\n 'usan_stem_definition': 'tyrosine kinase inhibitors',\n 'usan_substem': '-tinib',\n 'usan_year': 2003,\n 'withdrawn_class': None,\n 'withdrawn_country': None,\n 'withdrawn_flag': False,\n 'withdrawn_reason': None,\n 'withdrawn_year': None}"
     },
     "execution_count": 7,
     "metadata": {},
     "output_type": "execute_result"
    }
   ],
   "source": [
    "# Get compound record using client...\n",
    "record_via_client = molecule.get(chembl_id)\n",
    "record_via_client"
   ]
  },
  {
   "cell_type": "markdown",
   "metadata": {},
   "source": [
    "### InChIKey\n",
    "\n",
    "Compound records may also be retrieved _via_ InChI Key lookup."
   ]
  },
  {
   "cell_type": "code",
   "execution_count": 8,
   "metadata": {},
   "outputs": [
    {
     "data": {
      "text/plain": "{'atc_classifications': ['L01XE07'],\n 'availability_type': 1,\n 'biotherapeutic': None,\n 'black_box_warning': 1,\n 'chebi_par_id': 49603,\n 'chirality': 2,\n 'cross_references': [{'xref_id': 'lapatinib%20ditosylate',\n   'xref_name': 'lapatinib ditosylate',\n   'xref_src': 'DailyMed'},\n  {'xref_id': '103905567',\n   'xref_name': 'SID: 103905567',\n   'xref_src': 'PubChem'},\n  {'xref_id': '103905568',\n   'xref_name': 'SID: 103905568',\n   'xref_src': 'PubChem'},\n  {'xref_id': '144206058',\n   'xref_name': 'SID: 144206058',\n   'xref_src': 'PubChem'},\n  {'xref_id': '170465125',\n   'xref_name': 'SID: 170465125',\n   'xref_src': 'PubChem'},\n  {'xref_id': '50100107', 'xref_name': 'SID: 50100107', 'xref_src': 'PubChem'},\n  {'xref_id': 'Lapatinib', 'xref_name': None, 'xref_src': 'Wikipedia'}],\n 'dosed_ingredient': True,\n 'first_approval': 2007,\n 'first_in_class': 0,\n 'helm_notation': None,\n 'indication_class': None,\n 'inorganic_flag': 0,\n 'max_phase': 4,\n 'molecule_chembl_id': 'CHEMBL554',\n 'molecule_hierarchy': {'molecule_chembl_id': 'CHEMBL554',\n  'parent_chembl_id': 'CHEMBL554'},\n 'molecule_properties': {'alogp': '6.14',\n  'aromatic_rings': 5,\n  'cx_logd': '4.40',\n  'cx_logp': '4.64',\n  'cx_most_apka': None,\n  'cx_most_bpka': '7.26',\n  'full_molformula': 'C29H26ClFN4O4S',\n  'full_mwt': '581.07',\n  'hba': 8,\n  'hba_lipinski': 8,\n  'hbd': 2,\n  'hbd_lipinski': 2,\n  'heavy_atoms': 40,\n  'molecular_species': 'NEUTRAL',\n  'mw_freebase': '581.07',\n  'mw_monoisotopic': '580.1347',\n  'num_lipinski_ro5_violations': 2,\n  'num_ro5_violations': 2,\n  'psa': '106.35',\n  'qed_weighted': '0.18',\n  'ro3_pass': 'N',\n  'rtb': 11},\n 'molecule_structures': {'canonical_smiles': 'CS(=O)(=O)CCNCc1ccc(-c2ccc3ncnc(Nc4ccc(OCc5cccc(F)c5)c(Cl)c4)c3c2)o1',\n  'molfile': '\\n     RDKit          2D\\n\\n 40 44  0  0  0  0  0  0  0  0999 V2000\\n    1.2602   -2.6079    0.0000 C   0  0  0  0  0  0  0  0  0  0  0  0\\n    0.4340   -2.6079    0.0000 C   0  0  0  0  0  0  0  0  0  0  0  0\\n    0.1797   -3.3915    0.0000 C   0  0  0  0  0  0  0  0  0  0  0  0\\n    0.8495   -3.8833    0.0000 O   0  0  0  0  0  0  0  0  0  0  0  0\\n    1.5192   -3.3915    0.0000 C   0  0  0  0  0  0  0  0  0  0  0  0\\n    2.2352   -3.8070    0.0000 C   0  0  0  0  0  0  0  0  0  0  0  0\\n    2.2338   -4.6360    0.0000 C   0  0  0  0  0  0  0  0  0  0  0  0\\n    2.9517   -5.0470    0.0000 C   0  0  0  0  0  0  0  0  0  0  0  0\\n    2.9496   -3.3912    0.0000 C   0  0  0  0  0  0  0  0  0  0  0  0\\n    3.6583   -3.8027    0.0000 C   0  0  0  0  0  0  0  0  0  0  0  0\\n    3.6594   -4.6317    0.0000 C   0  0  0  0  0  0  0  0  0  0  0  0\\n    4.3775   -5.0409    0.0000 N   0  0  0  0  0  0  0  0  0  0  0  0\\n    5.0945   -4.6272    0.0000 C   0  0  0  0  0  0  0  0  0  0  0  0\\n    5.0893   -3.7951    0.0000 N   0  0  0  0  0  0  0  0  0  0  0  0\\n    4.3709   -3.3848    0.0000 C   0  0  0  0  0  0  0  0  0  0  0  0\\n    4.3661   -2.5587    0.0000 N   0  0  0  0  0  0  0  0  0  0  0  0\\n    5.0797   -2.1438    0.0000 C   0  0  0  0  0  0  0  0  0  0  0  0\\n    5.7943   -2.5532    0.0000 C   0  0  0  0  0  0  0  0  0  0  0  0\\n    6.5075   -2.1392    0.0000 C   0  0  0  0  0  0  0  0  0  0  0  0\\n    6.5031   -1.3121    0.0000 C   0  0  0  0  0  0  0  0  0  0  0  0\\n    5.7796   -0.9011    0.0000 C   0  0  0  0  0  0  0  0  0  0  0  0\\n    5.0693   -1.3223    0.0000 C   0  0  0  0  0  0  0  0  0  0  0  0\\n    7.2162   -0.8915    0.0000 O   0  0  0  0  0  0  0  0  0  0  0  0\\n    7.9354   -1.3019    0.0000 C   0  0  0  0  0  0  0  0  0  0  0  0\\n    8.6436   -0.8813    0.0000 C   0  0  0  0  0  0  0  0  0  0  0  0\\n    5.7719   -0.0749    0.0000 Cl  0  0  0  0  0  0  0  0  0  0  0  0\\n    9.3606   -1.2940    0.0000 C   0  0  0  0  0  0  0  0  0  0  0  0\\n   10.0731   -0.8742    0.0000 C   0  0  0  0  0  0  0  0  0  0  0  0\\n   10.0677   -0.0472    0.0000 C   0  0  0  0  0  0  0  0  0  0  0  0\\n    9.3437    0.3582    0.0000 C   0  0  0  0  0  0  0  0  0  0  0  0\\n    8.6340   -0.0593    0.0000 C   0  0  0  0  0  0  0  0  0  0  0  0\\n   10.7920   -1.2849    0.0000 F   0  0  0  0  0  0  0  0  0  0  0  0\\n   -0.5410   -3.7974    0.0000 C   0  0  0  0  0  0  0  0  0  0  0  0\\n   -1.2518   -3.3728    0.0000 N   0  0  0  0  0  0  0  0  0  0  0  0\\n   -1.9684   -3.7790    0.0000 C   0  0  0  0  0  0  0  0  0  0  0  0\\n   -2.6792   -3.3544    0.0000 C   0  0  0  0  0  0  0  0  0  0  0  0\\n   -3.4005   -3.7605    0.0000 S   0  0  0  0  0  0  0  0  0  0  0  0\\n   -4.1113   -3.3359    0.0000 C   0  0  0  0  0  0  0  0  0  0  0  0\\n   -2.9954   -4.4689    0.0000 O   0  0  0  0  0  0  0  0  0  0  0  0\\n   -3.8215   -4.4689    0.0000 O   0  0  0  0  0  0  0  0  0  0  0  0\\n 16 17  1  0\\n 37 39  2  0\\n 37 40  2  0\\n 17 18  2  0\\n  7  8  1  0\\n 18 19  1  0\\n  8 11  2  0\\n 19 20  2  0\\n 20 21  1  0\\n 10  9  2  0\\n 21 22  2  0\\n 22 17  1  0\\n  9  6  1  0\\n 20 23  1  0\\n  1  2  1  0\\n 23 24  1  0\\n  2  3  2  0\\n 24 25  1  0\\n 10 11  1  0\\n 21 26  1  0\\n  3  4  1  0\\n 25 27  2  0\\n 11 12  1  0\\n 27 28  1  0\\n  4  5  1  0\\n 28 29  2  0\\n 12 13  2  0\\n 29 30  1  0\\n  5  1  2  0\\n 30 31  2  0\\n 31 25  1  0\\n 13 14  1  0\\n 28 32  1  0\\n  6  5  1  0\\n  3 33  1  0\\n 14 15  2  0\\n 33 34  1  0\\n 15 10  1  0\\n 34 35  1  0\\n 35 36  1  0\\n 15 16  1  0\\n 36 37  1  0\\n  6  7  2  0\\n 37 38  1  0\\nM  END\\n\\n> <chembl_id>\\nCHEMBL554\\n\\n> <chembl_pref_name>\\nLAPATINIB\\n\\n',\n  'standard_inchi': 'InChI=1S/C29H26ClFN4O4S/c1-40(36,37)12-11-32-16-23-7-10-27(39-23)20-5-8-26-24(14-20)29(34-18-33-26)35-22-6-9-28(25(30)15-22)38-17-19-3-2-4-21(31)13-19/h2-10,13-15,18,32H,11-12,16-17H2,1H3,(H,33,34,35)',\n  'standard_inchi_key': 'BCFGMOOMADDAQU-UHFFFAOYSA-N'},\n 'molecule_synonyms': [{'molecule_synonym': 'GSK-572016',\n   'syn_type': 'RESEARCH_CODE',\n   'synonyms': 'GSK-572016'},\n  {'molecule_synonym': 'GW-2016',\n   'syn_type': 'RESEARCH_CODE',\n   'synonyms': 'GW-2016'},\n  {'molecule_synonym': 'GW572016',\n   'syn_type': 'RESEARCH_CODE',\n   'synonyms': 'GW572016'},\n  {'molecule_synonym': 'GW-572016',\n   'syn_type': 'RESEARCH_CODE',\n   'synonyms': 'GW-572016'},\n  {'molecule_synonym': 'GW-572016X',\n   'syn_type': 'RESEARCH_CODE',\n   'synonyms': 'GW-572016X'},\n  {'molecule_synonym': 'Lapatinib',\n   'syn_type': 'FDA',\n   'synonyms': 'Lapatinib'},\n  {'molecule_synonym': 'Lapatinib',\n   'syn_type': 'ATC',\n   'synonyms': 'LAPATINIB'},\n  {'molecule_synonym': 'Lapatinib',\n   'syn_type': 'BNF',\n   'synonyms': 'LAPATINIB'},\n  {'molecule_synonym': 'Lapatinib',\n   'syn_type': 'INN',\n   'synonyms': 'LAPATINIB'},\n  {'molecule_synonym': 'Lapatinib',\n   'syn_type': 'MERCK_INDEX',\n   'synonyms': 'LAPATINIB'},\n  {'molecule_synonym': 'Lapatinib',\n   'syn_type': 'OTHER',\n   'synonyms': 'LAPATINIB'},\n  {'molecule_synonym': 'Tyverb',\n   'syn_type': 'TRADE_NAME',\n   'synonyms': 'TYVERB'}],\n 'molecule_type': 'Small molecule',\n 'natural_product': 0,\n 'oral': True,\n 'parenteral': False,\n 'polymer_flag': False,\n 'pref_name': 'LAPATINIB',\n 'prodrug': 0,\n 'structure_type': 'MOL',\n 'therapeutic_flag': True,\n 'topical': False,\n 'usan_stem': '-tinib',\n 'usan_stem_definition': 'tyrosine kinase inhibitors',\n 'usan_substem': '-tinib',\n 'usan_year': 2003,\n 'withdrawn_class': None,\n 'withdrawn_country': None,\n 'withdrawn_flag': False,\n 'withdrawn_reason': None,\n 'withdrawn_year': None}"
     },
     "execution_count": 8,
     "metadata": {},
     "output_type": "execute_result"
    }
   ],
   "source": [
    "# InChI Key for Lapatinib\n",
    "inchi_key = \"BCFGMOOMADDAQU-UHFFFAOYSA-N\"\n",
    "\n",
    "# getting molecule via client\n",
    "molecule.set_format('json')\n",
    "record_via_client = molecule.get(inchi_key)\n",
    "record_via_client"
   ]
  },
  {
   "cell_type": "markdown",
   "metadata": {},
   "source": [
    "### SMILES\n",
    "\n",
    "Compound records may also be retrieved _via_ SMILES lookup.\n",
    "\n",
    "The purpose of the `get` method is to return objects identified by their unique and unambiguous properties.\n",
    "This is why SMILES provided as arguments to the `get` method need to be canonical.\n",
    "But you can still search for molecules, using non-canonical SMILES - this functionaly will be covered later in this notebook."
   ]
  },
  {
   "cell_type": "code",
   "execution_count": 9,
   "metadata": {},
   "outputs": [
    {
     "data": {
      "text/plain": "{'atc_classifications': ['L01XE07'],\n 'availability_type': 1,\n 'biotherapeutic': None,\n 'black_box_warning': 1,\n 'chebi_par_id': 49603,\n 'chirality': 2,\n 'cross_references': [{'xref_id': 'lapatinib%20ditosylate',\n   'xref_name': 'lapatinib ditosylate',\n   'xref_src': 'DailyMed'},\n  {'xref_id': '103905567',\n   'xref_name': 'SID: 103905567',\n   'xref_src': 'PubChem'},\n  {'xref_id': '103905568',\n   'xref_name': 'SID: 103905568',\n   'xref_src': 'PubChem'},\n  {'xref_id': '144206058',\n   'xref_name': 'SID: 144206058',\n   'xref_src': 'PubChem'},\n  {'xref_id': '170465125',\n   'xref_name': 'SID: 170465125',\n   'xref_src': 'PubChem'},\n  {'xref_id': '50100107', 'xref_name': 'SID: 50100107', 'xref_src': 'PubChem'},\n  {'xref_id': 'Lapatinib', 'xref_name': None, 'xref_src': 'Wikipedia'}],\n 'dosed_ingredient': True,\n 'first_approval': 2007,\n 'first_in_class': 0,\n 'helm_notation': None,\n 'indication_class': None,\n 'inorganic_flag': 0,\n 'max_phase': 4,\n 'molecule_chembl_id': 'CHEMBL554',\n 'molecule_hierarchy': {'molecule_chembl_id': 'CHEMBL554',\n  'parent_chembl_id': 'CHEMBL554'},\n 'molecule_properties': {'alogp': '6.14',\n  'aromatic_rings': 5,\n  'cx_logd': '4.40',\n  'cx_logp': '4.64',\n  'cx_most_apka': None,\n  'cx_most_bpka': '7.26',\n  'full_molformula': 'C29H26ClFN4O4S',\n  'full_mwt': '581.07',\n  'hba': 8,\n  'hba_lipinski': 8,\n  'hbd': 2,\n  'hbd_lipinski': 2,\n  'heavy_atoms': 40,\n  'molecular_species': 'NEUTRAL',\n  'mw_freebase': '581.07',\n  'mw_monoisotopic': '580.1347',\n  'num_lipinski_ro5_violations': 2,\n  'num_ro5_violations': 2,\n  'psa': '106.35',\n  'qed_weighted': '0.18',\n  'ro3_pass': 'N',\n  'rtb': 11},\n 'molecule_structures': {'canonical_smiles': 'CS(=O)(=O)CCNCc1ccc(-c2ccc3ncnc(Nc4ccc(OCc5cccc(F)c5)c(Cl)c4)c3c2)o1',\n  'molfile': '\\n     RDKit          2D\\n\\n 40 44  0  0  0  0  0  0  0  0999 V2000\\n    1.2602   -2.6079    0.0000 C   0  0  0  0  0  0  0  0  0  0  0  0\\n    0.4340   -2.6079    0.0000 C   0  0  0  0  0  0  0  0  0  0  0  0\\n    0.1797   -3.3915    0.0000 C   0  0  0  0  0  0  0  0  0  0  0  0\\n    0.8495   -3.8833    0.0000 O   0  0  0  0  0  0  0  0  0  0  0  0\\n    1.5192   -3.3915    0.0000 C   0  0  0  0  0  0  0  0  0  0  0  0\\n    2.2352   -3.8070    0.0000 C   0  0  0  0  0  0  0  0  0  0  0  0\\n    2.2338   -4.6360    0.0000 C   0  0  0  0  0  0  0  0  0  0  0  0\\n    2.9517   -5.0470    0.0000 C   0  0  0  0  0  0  0  0  0  0  0  0\\n    2.9496   -3.3912    0.0000 C   0  0  0  0  0  0  0  0  0  0  0  0\\n    3.6583   -3.8027    0.0000 C   0  0  0  0  0  0  0  0  0  0  0  0\\n    3.6594   -4.6317    0.0000 C   0  0  0  0  0  0  0  0  0  0  0  0\\n    4.3775   -5.0409    0.0000 N   0  0  0  0  0  0  0  0  0  0  0  0\\n    5.0945   -4.6272    0.0000 C   0  0  0  0  0  0  0  0  0  0  0  0\\n    5.0893   -3.7951    0.0000 N   0  0  0  0  0  0  0  0  0  0  0  0\\n    4.3709   -3.3848    0.0000 C   0  0  0  0  0  0  0  0  0  0  0  0\\n    4.3661   -2.5587    0.0000 N   0  0  0  0  0  0  0  0  0  0  0  0\\n    5.0797   -2.1438    0.0000 C   0  0  0  0  0  0  0  0  0  0  0  0\\n    5.7943   -2.5532    0.0000 C   0  0  0  0  0  0  0  0  0  0  0  0\\n    6.5075   -2.1392    0.0000 C   0  0  0  0  0  0  0  0  0  0  0  0\\n    6.5031   -1.3121    0.0000 C   0  0  0  0  0  0  0  0  0  0  0  0\\n    5.7796   -0.9011    0.0000 C   0  0  0  0  0  0  0  0  0  0  0  0\\n    5.0693   -1.3223    0.0000 C   0  0  0  0  0  0  0  0  0  0  0  0\\n    7.2162   -0.8915    0.0000 O   0  0  0  0  0  0  0  0  0  0  0  0\\n    7.9354   -1.3019    0.0000 C   0  0  0  0  0  0  0  0  0  0  0  0\\n    8.6436   -0.8813    0.0000 C   0  0  0  0  0  0  0  0  0  0  0  0\\n    5.7719   -0.0749    0.0000 Cl  0  0  0  0  0  0  0  0  0  0  0  0\\n    9.3606   -1.2940    0.0000 C   0  0  0  0  0  0  0  0  0  0  0  0\\n   10.0731   -0.8742    0.0000 C   0  0  0  0  0  0  0  0  0  0  0  0\\n   10.0677   -0.0472    0.0000 C   0  0  0  0  0  0  0  0  0  0  0  0\\n    9.3437    0.3582    0.0000 C   0  0  0  0  0  0  0  0  0  0  0  0\\n    8.6340   -0.0593    0.0000 C   0  0  0  0  0  0  0  0  0  0  0  0\\n   10.7920   -1.2849    0.0000 F   0  0  0  0  0  0  0  0  0  0  0  0\\n   -0.5410   -3.7974    0.0000 C   0  0  0  0  0  0  0  0  0  0  0  0\\n   -1.2518   -3.3728    0.0000 N   0  0  0  0  0  0  0  0  0  0  0  0\\n   -1.9684   -3.7790    0.0000 C   0  0  0  0  0  0  0  0  0  0  0  0\\n   -2.6792   -3.3544    0.0000 C   0  0  0  0  0  0  0  0  0  0  0  0\\n   -3.4005   -3.7605    0.0000 S   0  0  0  0  0  0  0  0  0  0  0  0\\n   -4.1113   -3.3359    0.0000 C   0  0  0  0  0  0  0  0  0  0  0  0\\n   -2.9954   -4.4689    0.0000 O   0  0  0  0  0  0  0  0  0  0  0  0\\n   -3.8215   -4.4689    0.0000 O   0  0  0  0  0  0  0  0  0  0  0  0\\n 16 17  1  0\\n 37 39  2  0\\n 37 40  2  0\\n 17 18  2  0\\n  7  8  1  0\\n 18 19  1  0\\n  8 11  2  0\\n 19 20  2  0\\n 20 21  1  0\\n 10  9  2  0\\n 21 22  2  0\\n 22 17  1  0\\n  9  6  1  0\\n 20 23  1  0\\n  1  2  1  0\\n 23 24  1  0\\n  2  3  2  0\\n 24 25  1  0\\n 10 11  1  0\\n 21 26  1  0\\n  3  4  1  0\\n 25 27  2  0\\n 11 12  1  0\\n 27 28  1  0\\n  4  5  1  0\\n 28 29  2  0\\n 12 13  2  0\\n 29 30  1  0\\n  5  1  2  0\\n 30 31  2  0\\n 31 25  1  0\\n 13 14  1  0\\n 28 32  1  0\\n  6  5  1  0\\n  3 33  1  0\\n 14 15  2  0\\n 33 34  1  0\\n 15 10  1  0\\n 34 35  1  0\\n 35 36  1  0\\n 15 16  1  0\\n 36 37  1  0\\n  6  7  2  0\\n 37 38  1  0\\nM  END\\n\\n> <chembl_id>\\nCHEMBL554\\n\\n> <chembl_pref_name>\\nLAPATINIB\\n\\n',\n  'standard_inchi': 'InChI=1S/C29H26ClFN4O4S/c1-40(36,37)12-11-32-16-23-7-10-27(39-23)20-5-8-26-24(14-20)29(34-18-33-26)35-22-6-9-28(25(30)15-22)38-17-19-3-2-4-21(31)13-19/h2-10,13-15,18,32H,11-12,16-17H2,1H3,(H,33,34,35)',\n  'standard_inchi_key': 'BCFGMOOMADDAQU-UHFFFAOYSA-N'},\n 'molecule_synonyms': [{'molecule_synonym': 'GSK-572016',\n   'syn_type': 'RESEARCH_CODE',\n   'synonyms': 'GSK-572016'},\n  {'molecule_synonym': 'GW-2016',\n   'syn_type': 'RESEARCH_CODE',\n   'synonyms': 'GW-2016'},\n  {'molecule_synonym': 'GW572016',\n   'syn_type': 'RESEARCH_CODE',\n   'synonyms': 'GW572016'},\n  {'molecule_synonym': 'GW-572016',\n   'syn_type': 'RESEARCH_CODE',\n   'synonyms': 'GW-572016'},\n  {'molecule_synonym': 'GW-572016X',\n   'syn_type': 'RESEARCH_CODE',\n   'synonyms': 'GW-572016X'},\n  {'molecule_synonym': 'Lapatinib',\n   'syn_type': 'FDA',\n   'synonyms': 'Lapatinib'},\n  {'molecule_synonym': 'Lapatinib',\n   'syn_type': 'ATC',\n   'synonyms': 'LAPATINIB'},\n  {'molecule_synonym': 'Lapatinib',\n   'syn_type': 'BNF',\n   'synonyms': 'LAPATINIB'},\n  {'molecule_synonym': 'Lapatinib',\n   'syn_type': 'INN',\n   'synonyms': 'LAPATINIB'},\n  {'molecule_synonym': 'Lapatinib',\n   'syn_type': 'MERCK_INDEX',\n   'synonyms': 'LAPATINIB'},\n  {'molecule_synonym': 'Lapatinib',\n   'syn_type': 'OTHER',\n   'synonyms': 'LAPATINIB'},\n  {'molecule_synonym': 'Tyverb',\n   'syn_type': 'TRADE_NAME',\n   'synonyms': 'TYVERB'}],\n 'molecule_type': 'Small molecule',\n 'natural_product': 0,\n 'oral': True,\n 'parenteral': False,\n 'polymer_flag': False,\n 'pref_name': 'LAPATINIB',\n 'prodrug': 0,\n 'structure_type': 'MOL',\n 'therapeutic_flag': True,\n 'topical': False,\n 'usan_stem': '-tinib',\n 'usan_stem_definition': 'tyrosine kinase inhibitors',\n 'usan_substem': '-tinib',\n 'usan_year': 2003,\n 'withdrawn_class': None,\n 'withdrawn_country': None,\n 'withdrawn_flag': False,\n 'withdrawn_reason': None,\n 'withdrawn_year': None}"
     },
     "execution_count": 9,
     "metadata": {},
     "output_type": "execute_result"
    }
   ],
   "source": [
    "# Canonoical SMILES for Lapatinib\n",
    "canonical_smiles = \"CS(=O)(=O)CCNCc1ccc(-c2ccc3ncnc(Nc4ccc(OCc5cccc(F)c5)c(Cl)c4)c3c2)o1\"\n",
    "\n",
    "# getting molecule via client\n",
    "molecule.set_format('json')\n",
    "record_via_client = molecule.get(canonical_smiles)\n",
    "record_via_client"
   ]
  },
  {
   "cell_type": "markdown",
   "metadata": {},
   "source": [
    "### Batch queries\n",
    "\n",
    "Multiple records may be requested at once. The `get` method can accept a list of homogenous identifiers."
   ]
  },
  {
   "cell_type": "code",
   "execution_count": 10,
   "metadata": {},
   "outputs": [
    {
     "data": {
      "text/plain": "False"
     },
     "execution_count": 10,
     "metadata": {},
     "output_type": "execute_result"
    }
   ],
   "source": [
    "records1 = molecule.get(['CHEMBL6498', 'CHEMBL6499', 'CHEMBL6505'])\n",
    "records2 = molecule.get(['XSQLHVPPXBBUPP-UHFFFAOYSA-N', 'JXHVRXRRSSBGPY-UHFFFAOYSA-N', 'TUHYVXGNMOGVMR-GASGPIRDSA-N'])\n",
    "records3 = molecule.get(['CNC(=O)c1ccc(cc1)N(CC#C)Cc2ccc3nc(C)nc(O)c3c2',\n",
    "            'Cc1cc2SC(C)(C)CC(C)(C)c2cc1\\\\N=C(/S)\\\\Nc3ccc(cc3)S(=O)(=O)N',\n",
    "            'CC(C)C[C@H](NC(=O)[C@@H](NC(=O)[C@H](Cc1c[nH]c2ccccc12)NC(=O)[C@H]3CCCN3C(=O)C(CCCCN)CCCCN)C(C)(C)C)C(=O)O'])\n",
    "records1 == records2 == records3"
   ]
  },
  {
   "cell_type": "markdown",
   "metadata": {},
   "source": [
    "Please note that the length of url can't be more than 4000 characters. This is why url-based approach should not be used for a very long lists of identifiers. Also `molecule.get` call needs to be modified slightly in that case."
   ]
  },
  {
   "cell_type": "code",
   "execution_count": 11,
   "metadata": {},
   "outputs": [
    {
     "data": {
      "text/plain": "170"
     },
     "execution_count": 11,
     "metadata": {},
     "output_type": "execute_result"
    }
   ],
   "source": [
    "# Generate a list of 300 ChEMBL IDs (N.B. not all will be valid)...\n",
    "chembl_ids = ['CHEMBL{}'.format(x) for x in range(1, 301)]\n",
    "\n",
    "# Get compound records, note `molecule_chembl_id` named parameter.\n",
    "# Named parameters should always be used for longer lists\n",
    "records = molecule.get(molecule_chembl_id=chembl_ids)\n",
    "len(records)"
   ]
  },
  {
   "cell_type": "markdown",
   "metadata": {},
   "source": [
    "Note that we expect to see a number that is less than 300. This is because for some identifiers in range `(CHEMBL1, ..., CHEMBL300)` there are no molecule mapped to them."
   ]
  },
  {
   "cell_type": "markdown",
   "metadata": {},
   "source": [
    "### Filtering\n",
    "All resources available through ChEMBL web services can be filtered.\n",
    "Some examples of filtering applied to molecules:\n",
    "\n",
    "1. Get all approved drugs\n",
    "2. Get all molecules in ChEMBL with no Rule-of-Five violations\n",
    "3. Get all biotherapeutic molecules\n",
    "4. Return molecules with molecular weight <= 300\n",
    "5. Return molecules with molecular weight <= 300 AND pref_name ends with -nib"
   ]
  },
  {
   "cell_type": "code",
   "execution_count": 12,
   "metadata": {},
   "outputs": [],
   "source": [
    "# 1. Get all approved drugs\n",
    "approved_drugs = molecule.filter(max_phase=4)\n",
    "\n",
    "# 2. Get all molecules in ChEMBL with no Rule-of-Five violations\n",
    "no_violations = molecule.filter(molecule_properties__num_ro5_violations=0)\n",
    "\n",
    "# 3. Get all biotherapeutic molecules\n",
    "biotherapeutics = molecule.filter(biotherapeutic__isnull=False)\n",
    "\n",
    "# 4. Return molecules with molecular weight <= 300\n",
    "light_molecules = molecule.filter(molecule_properties__mw_freebase__lte=300)\n",
    "\n",
    "# 5. Return molecules with molecular weight <= 300 AND pref_name ends with nib\n",
    "light_nib_molecules = molecule.filter(molecule_properties__mw_freebase__lte=300).filter(pref_name__iendswith=\"nib\")"
   ]
  },
  {
   "cell_type": "markdown",
   "metadata": {},
   "source": [
    "With the client-generated results, we no not have to worry about pagination:"
   ]
  },
  {
   "cell_type": "code",
   "execution_count": 13,
   "metadata": {},
   "outputs": [
    {
     "name": "stdout",
     "output_type": "stream",
     "text": "ref_src': 'PubChem'}, {'xref_id': '50104273', 'xref_name': 'SID: 50104273', 'xref_src': 'PubChem'}, {'xref_id': '50104274', 'xref_name': 'SID: 50104274', 'xref_src': 'PubChem'}, {'xref_id': '50104275', 'xref_name': 'SID: 50104275', 'xref_src': 'PubChem'}, {'xref_id': '90340959', 'xref_name': 'SID: 90340959', 'xref_src': 'PubChem'}, {'xref_id': 'Prazosin', 'xref_name': None, 'xref_src': 'Wikipedia'}], 'dosed_ingredient': False, 'first_approval': 1976, 'first_in_class': 0, 'helm_notation': None, 'indication_class': 'Antihypertensive', 'inorganic_flag': 0, 'max_phase': 4, 'molecule_chembl_id': 'CHEMBL2', 'molecule_hierarchy': {'molecule_chembl_id': 'CHEMBL2', 'parent_chembl_id': 'CHEMBL2'}, 'molecule_properties': {'alogp': '1.78', 'aromatic_rings': 3, 'cx_logd': '1.43', 'cx_logp': '1.65', 'cx_most_apka': None, 'cx_most_bpka': '7.24', 'full_molformula': 'C19H21N5O4', 'full_mwt': '383.41', 'hba': 8, 'hba_lipinski': 9, 'hbd': 1, 'hbd_lipinski': 2, 'heavy_atoms': 28, 'molecular_species': 'NEUTRAL', 'mw_freebase': '383.41', 'mw_monoisotopic': '383.1594', 'num_lipinski_ro5_violations': 0, 'num_ro5_violations': 0, 'psa': '106.95', 'qed_weighted': '0.73', 'ro3_pass': 'N', 'rtb': 4}, 'molecule_structures': {'canonical_smiles': 'COc1cc2nc(N3CCN(C(=O)c4ccco4)CC3)nc(N)c2cc1OC', 'molfile': '\\n     RDKit          2D\\n\\n 28 31  0  0  0  0  0  0  0  0999 V2000\\n    0.9375   -1.9792    0.0000 C   0  0  0  0  0  0  0  0  0  0  0  0\\n    0.9292   -2.6917    0.0000 N   0  0  0  0  0  0  0  0  0  0  0  0\\n   -0.3208   -2.6750    0.0000 C   0  0  0  0  0  0  0  0  0  0  0  0\\n    0.2875   -3.0417    0.0000 C   0  0  0  0  0  0  0  0  0  0  0  0\\n    0.3042   -1.6167    0.0000 N   0  0  0  0  0  0  0  0  0  0  0  0\\n   -0.3208   -1.9625    0.0000 C   0  0  0  0  0  0  0  0  0  0  0  0\\n    3.3917   -0.5917    0.0000 C   0  0  0  0  0  0  0  0  0  0  0  0\\n    1.5542   -1.6417    0.0000 N   0  0  0  0  0  0  0  0  0  0  0  0\\n    2.7792   -0.9542    0.0000 N   0  0  0  0  0  0  0  0  0  0  0  0\\n   -0.9500   -3.0167    0.0000 C   0  0  0  0  0  0  0  0  0  0  0  0\\n    4.0125   -0.9292    0.0000 C   0  0  0  0  0  0  0  0  0  0  0  0\\n   -0.9250   -1.5917    0.0000 C   0  0  0  0  0  0  0  0  0  0  0  0\\n   -1.5833   -2.6542    0.0000 C   0  0  0  0  0  0  0  0  0  0  0  0\\n   -1.5708   -1.9417    0.0000 C   0  0  0  0  0  0  0  0  0  0  0  0\\n    4.2417   -1.5917    0.0000 O   0  0  0  0  0  0  0  0  0  0  0  0\\n    1.5417   -0.9500    0.0000 C   0  0  0  0  0  0  0  0  0  0  0  0\\n    2.1667   -2.0000    0.0000 C   0  0  0  0  0  0  0  0  0  0  0  0\\n    2.1667   -0.5792    0.0000 C   0  0  0  0  0  0  0  0  0  0  0  0\\n    2.7792   -1.6375    0.0000 C   0  0  0  0  0  0  0  0  0  0  0  0\\n    3.4042    0.0875    0.0000 O   0  0  0  0  0  0  0  0  0  0  0  0\\n    4.5792   -0.5125    0.0000 C   0  0  0  0  0  0  0  0  0  0  0  0\\n    4.9417   -1.5917    0.0000 C   0  0  0  0  0  0  0  0  0  0  0  0\\n    5.1542   -0.9292    0.0000 C   0  0  0  0  0  0  0  0  0  0  0  0\\n    0.2667   -3.7542    0.0000 N   0  0  0  0  0  0  0  0  0  0  0  0\\n   -2.2000   -2.9917    0.0000 O   0  0  0  0  0  0  0  0  0  0  0  0\\n   -2.1833   -1.5792    0.0000 O   0  0  0  0  0  0  0  0  0  0  0  0\\n   -2.7958   -1.9125    0.0000 C   0  0  0  0  0  0  0  0  0  0  0  0\\n   -2.7958   -2.6542    0.0000 C   0  0  0  0  0  0  0  0  0  0  0  0\\n  2  1  2  0\\n  3  6  1  0\\n  4  2  1  0\\n  5  1  1  0\\n  6  5  2  0\\n  7  9  1  0\\n  8  1  1  0\\n  9 19  1  0\\n 10  3  1  0\\n 11  7  1  0\\n 12  6  1  0\\n 13 14  1  0\\n 14 12  2  0\\n 15 11  1  0\\n 16  8  1  0\\n 17  8  1  0\\n 18 16  1  0\\n 19 17  1  0\\n 20  7  2  0\\n 21 11  2  0\\n 22 15  1  0\\n 23 21  1  0\\n 24  4  1  0\\n 25 13  1  0\\n 26 14  1  0\\n 27 26  1  0\\n 28 25  1  0\\n  3  4  2  0\\n  9 18  1  0\\n 10 13  2  0\\n 22 23  2  0\\nM  END\\n\\n> <chembl_id>\\nCHEMBL2\\n\\n> <chembl_pref_name>\\nPRAZOSIN\\n\\n', 'standard_inchi': 'InChI=1S/C19H21N5O4/c1-26-15-10-12-13(11-16(15)27-2)21-19(22-17(12)20)24-7-5-23(6-8-24)18(25)14-4-3-9-28-14/h3-4,9-11H,5-8H2,1-2H3,(H2,20,21,22)', 'standard_inchi_key': 'IENZQIKPVFGBNW-UHFFFAOYSA-N'}, 'molecule_synonyms': [{'molecule_synonym': 'CP-12299', 'syn_type': 'RESEARCH_CODE', 'synonyms': 'CP-12299'}, {'molecule_synonym': 'CP-122991', 'syn_type': 'RESEARCH_CODE', 'synonyms': 'CP-122991'}, {'molecule_synonym': 'Prazosin', 'syn_type': 'FDA', 'synonyms': 'Prazosin'}, {'molecule_synonym': 'Prazosin', 'syn_type': 'ATC', 'synonyms': 'PRAZOSIN'}, {'molecule_synonym': 'Prazosin', 'syn_type': 'BAN', 'synonyms': 'PRAZOSIN'}, {'molecule_synonym': 'Prazosin', 'syn_type': 'INN', 'synonyms': 'PRAZOSIN'}, {'molecule_synonym': 'Prazosin', 'syn_type': 'MERCK_INDEX', 'synonyms': 'PRAZOSIN'}, {'molecule_synonym': 'Prazosin', 'syn_type': 'OTHER', 'synonyms': 'PRAZOSIN'}], 'molecule_type': 'Small molecule', 'natural_product': 0, 'oral': True, 'parenteral': False, 'polymer_flag': False, 'pref_name': 'PRAZOSIN', 'prodrug': 0, 'structure_type': 'MOL', 'therapeutic_flag': True, 'topical': False, 'usan_stem': '-azosin', 'usan_stem_definition': 'antihypertensives (prazosin type)', 'usan_substem': '-azosin', 'usan_year': 1968, 'withdrawn_class': None, 'withdrawn_country': None, 'withdrawn_flag': False, 'withdrawn_reason': None, 'withdrawn_year': None}, {'atc_classifications': ['N07BA01'], 'availability_type': 2, 'biotherapeutic': None, 'black_box_warning': 0, 'chebi_par_id': 17688, 'chirality': 1, 'cross_references': [{'xref_id': 'nicotine', 'xref_name': 'nicotine', 'xref_src': 'DailyMed'}, {'xref_id': '144209012', 'xref_name': 'SID: 144209012', 'xref_src': 'PubChem'}, {'xref_id': '144210494', 'xref_name': 'SID: 144210494', 'xref_src': 'PubChem'}, {'xref_id': '17389805', 'xref_name': 'SID: 17389805', 'xref_src': 'PubChem'}, {'xref_id': '26752744', 'xref_name': 'SID: 26752744', 'xref_src': 'PubChem'}, {'xref_id': '26752745', 'xref_name': 'SID: 26752745', 'xref_src': 'PubChem'}, {'xref_id': '26752746', 'xref_name': 'SID: 26752746', 'xref_src': 'PubChem'}, {'xref_id': '50105392', 'xref_name': 'SID: 50105392', 'xref_src': 'PubChem'}, {'xref_id': '50105393', 'xref_name': 'SID: 50105393', 'xref_src': 'PubChem'}, {'xref_id': '56314824', 'xref_name': 'SID: 56314824', 'xref_src': 'PubChem'}, {'xref_id': '90341453', 'xref_name': 'SID: 90341453', 'xref_src': 'PubChem'}, {'xref_id': 'Nicotine', 'xref_name': None, 'xref_src': 'Wikipedia'}], 'dosed_ingredient': True, 'first_approval': 1984, 'first_in_class': 0, 'helm_notation': None, 'indication_class': 'Smoking Cessation Adjunct', 'inorganic_flag': 0, 'max_phase': 4, 'molecule_chembl_id': 'CHEMBL3', 'molecule_hierarchy': {'molecule_chembl_id': 'CHEMBL3', 'parent_chembl_id': 'CHEMBL3'}, 'molecule_properties': {'alogp': '1.85', 'aromatic_rings': 1, 'cx_logd': '-0.04', 'cx_logp': '1.16', 'cx_most_apka': None, 'cx_most_bpka': '8.58', 'full_molformula': 'C10H14N2', 'full_mwt': '162.24', 'hba': 2, 'hba_lipinski': 2, 'hbd': 0, 'hbd_lipinski': 0, 'heavy_atoms': 12, 'molecular_species': 'BASE', 'mw_freebase': '162.24', 'mw_monoisotopic': '162.1157', 'num_lipinski_ro5_violations': 0, 'num_ro5_violations': 0, 'psa': '16.13', 'qed_weighted': '0.63', 'ro3_pass': 'Y', 'rtb': 1}, 'molecule_structures': {'canonical_smiles': 'CN1CCC[C@H]1c1cccnc1', 'molfile': '\\n     RDKit          2D\\n\\n 12 13  0  0  1  0  0  0  0  0999 V2000\\n    4.1955    0.2934    0.0000 C   0  0  0  0  0  0  0  0  0  0  0  0\\n    3.9511   -0.8815    0.0000 N   0  0  0  0  0  0  0  0  0  0  0  0\\n    4.9531   -1.9978    0.0000 C   0  0  0  0  0  0  0  0  0  0  0  0\\n    4.2010   -3.2956    0.0000 C   0  0  0  0  0  0  0  0  0  0  0  0\\n    2.7343   -2.9815    0.0000 C   0  0  0  0  0  0  0  0  0  0  0  0\\n    2.5987   -1.5004    0.0000 C   0  0  0  0  0  0  0  0  0  0  0  0\\n    1.2990   -0.7500    0.0000 C   0  0  0  0  0  0  0  0  0  0  0  0\\n    1.2990    0.7500    0.0000 C   0  0  0  0  0  0  0  0  0  0  0  0\\n    0.0000    1.5000    0.0000 C   0  0  0  0  0  0  0  0  0  0  0  0\\n   -1.2990    0.7500    0.0000 C   0  0  0  0  0  0  0  0  0  0  0  0\\n   -1.2990   -0.7500    0.0000 N   0  0  0  0  0  0  0  0  0  0  0  0\\n    0.0000   -1.5000    0.0000 C   0  0  0  0  0  0  0  0  0  0  0  0\\n  1  2  1  0\\n  2  3  1  0\\n  3  4  1  0\\n  4  5  1  0\\n  5  6  1  0\\n  6  2  1  0\\n  6  7  1  1\\n  7  8  2  0\\n  8  9  1  0\\n  9 10  2  0\\n 10 11  1  0\\n 11 12  2  0\\n 12  7  1  0\\nM  END\\n\\n> <chembl_id>\\nCHEMBL3\\n\\n> <chembl_pref_name>\\nNICOTINE\\n\\n', 'standard_inchi': 'InChI=1S/C10H14N2/c1-12-7-3-5-10(12)9-4-2-6-11-8-9/h2,4,6,8,10H,3,5,7H2,1H3/t10-/m0/s1', 'standard_inchi_key': 'SNICXCGAKADSCV-JTQLQIEISA-N'}, 'molecule_synonyms': [{'molecule_synonym': 'Habitrol', 'syn_type': 'TRADE_NAME', 'synonyms': 'HABITROL'}, {'molecule_synonym': 'Nicabate', 'syn_type': 'TRADE_NAME', 'synonyms': 'NICABATE'}, {'molecule_synonym': 'Nicoderm', 'syn_type': 'TRADE_NAME', 'synonyms': 'NICODERM'}, {'molecule_synonym': 'Nicoderm CQ', 'syn_type': 'TRADE_NAME', 'synonyms': 'NICODERM CQ'}, {'molecule_synonym': 'Nicopass', 'syn_type': 'TRADE_NAME', 'synonyms': 'NICOPASS'}, {'molecule_synonym': 'Nicopatch', 'syn_type': 'TRADE_NAME', 'synonyms': 'NICOPATCH'}, {'molecule_synonym': 'Nicorette Invisi', 'syn_type': 'TRADE_NAME', 'synonyms': 'NICORETTE INVISI'}, {'molecule_synonym': 'Nicotine', 'syn_type': 'USAN', 'synonyms': 'Nicotine'}, {'molecule_synonym': 'Nicotine', 'syn_type': 'ATC', 'synonyms': 'NICOTINE'}, {'molecule_synonym': 'Nicotine', 'syn_type': 'BNF', 'synonyms': 'NICOTINE'}, {'molecule_synonym': 'Nicotine', 'syn_type': 'FDA', 'synonyms': 'NICOTINE'}, {'molecule_synonym': 'Nicotine', 'syn_type': 'MERCK_INDEX', 'synonyms': 'NICOTINE'}, {'molecule_synonym': 'Nicotine', 'syn_type': 'TRADE_NAME', 'synonyms': 'NICOTINE'}, {'molecule_synonym': 'Nicotine', 'syn_type': 'USP', 'synonyms': 'NICOTINE'}, {'molecule_synonym': 'Nicotinell Classic', 'syn_type': 'TRADE_NAME', 'synonyms': 'NICOTINELL CLASSIC'}, {'molecule_synonym': 'Nicotinell Support', 'syn_type': 'TRADE_NAME', 'synonyms': 'NICOTINELL SUPPORT'}, {'molecule_synonym': 'Nicotinell TTS 10', 'syn_type': 'TRADE_NAME', 'synonyms': 'NICOTINELL TTS 10'}, {'molecule_synonym': 'Nicotinell TTS 20', 'syn_type': 'TRADE_NAME', 'synonyms': 'NICOTINELL TTS 20'}, {'molecule_synonym': 'Nicotinell TTS 30', 'syn_type': 'TRADE_NAME', 'synonyms': 'NICOTINELL TTS 30'}, {'molecule_synonym': 'Nicotrol', 'syn_type': 'TRADE_NAME', 'synonyms': 'NICOTROL'}, {'molecule_synonym': 'Nicotrol Inhaler', 'syn_type': 'TRADE_NAME', 'synonyms': 'Nicotrol Inhaler'}, {'molecule_synonym': 'Nicotrol NS', 'syn_type': 'TRADE_NAME', 'synonyms': 'Nicotrol NS'}, {'molecule_synonym': 'Niquitin', 'syn_type': 'TRADE_NAME', 'synonyms': 'NIQUITIN'}, {'molecule_synonym': 'NiQuitin Clr', 'syn_type': 'TRADE_NAME', 'synonyms': 'NIQUITIN CLR'}, {'molecule_synonym': 'NiQuitin Minis Cherry', 'syn_type': 'TRADE_NAME', 'synonyms': 'NIQUITIN MINIS CHERRY'}, {'molecule_synonym': 'NiQuitin Minis Mint', 'syn_type': 'TRADE_NAME', 'synonyms': 'NIQUITIN MINIS MINT'}, {'molecule_synonym': 'NiQuitin Minis Orange', 'syn_type': 'TRADE_NAME', 'synonyms': 'NIQUITIN MINIS ORANGE'}, {'molecule_synonym': 'NiQuitin Mint', 'syn_type': 'TRADE_NAME', 'synonyms': 'NIQUITIN MINT'}, {'molecule_synonym': 'NiQuitin Pre-Quit', 'syn_type': 'TRADE_NAME', 'synonyms': 'NIQUITIN PRE-QUIT'}, {'molecule_synonym': 'NiQuitin Strips Mint', 'syn_type': 'TRADE_NAME', 'synonyms': 'NIQUITIN STRIPS MINT'}, {'molecule_synonym': 'Prostep', 'syn_type': 'TRADE_NAME', 'synonyms': 'PROSTEP'}, {'molecule_synonym': 'Stoppers', 'syn_type': 'TRADE_NAME', 'synonyms': 'STOPPERS'}, {'molecule_synonym': 'Stubit', 'syn_type': 'TRADE_NAME', 'synonyms': 'STUBIT'}], 'molecule_type': 'Small molecule', 'natural_product': 0, 'oral': True, 'parenteral': False, 'polymer_flag': False, 'pref_name': 'NICOTINE', 'prodrug': 0, 'structure_type': 'MOL', 'therapeutic_flag': True, 'topical': True, 'usan_stem': None, 'usan_stem_definition': None, 'usan_substem': None, 'usan_year': 1985, 'withdrawn_class': None, 'withdrawn_country': None, 'withdrawn_flag': False, 'withdrawn_reason': None, 'withdrawn_year': None}, {'atc_classifications': ['J01MA01', 'S01AE01', 'S02AA16'], 'availability_type': 1, 'biotherapeutic': None, 'black_box_warning': 1, 'chebi_par_id': 7731, 'chirality': 0, 'cross_references': [{'xref_id': 'ofloxacin', 'xref_name': 'ofloxacin', 'xref_src': 'DailyMed'}, {'xref_id': '11533038', 'xref_name': 'SID: 11533038', 'xref_src': 'PubChem'}, {'xref_id': '124880995', 'xref_name': 'SID: 124880995', 'xref_src': 'PubChem'}, {'xref_id': '124880996', 'xref_name': 'SID: 124880996', 'xref_src': 'PubChem'}, {'xref_id': '144204254', 'xref_name': 'SID: 144204254', 'xref_src': 'PubChem'}, {'xref_id': '170465035', 'xref_name': 'SID: 170465035', 'xref_src': 'PubChem'}, {'xref_id': '174006255', 'xref_name': 'SID: 174006255', 'xref_src': 'PubChem'}, {'xref_id': '174007433', 'xref_name': 'SID: 174007433', 'xref_src': 'PubChem'}, {'xref_id': '26747609', 'xref_name': 'SID: 26747609', 'xref_src': 'PubChem'}, {'xref_id': '26747610', 'xref_name': 'SID: 26747610', 'xref_src': 'PubChem'}, {'xref_id': '50106760', 'xref_name': 'SID: 50106760', 'xref_src': 'PubChem'}, {'xref_id': '56423109', 'xref_name': 'SID: 56423109', 'xref_src': 'PubChem'}, {'xref_id': '85231170', 'xref_name': 'SID: 85231170', 'xref_src': 'PubChem'}, {'xref_id': '90341488', 'xref_name': 'SID: 90341488', 'xref_src': 'PubChem'}, {'xref_id': 'Ofloxacin', 'xref_name': None, 'xref_src': 'Wikipedia'}], 'dosed_ingredient': True, 'first_approval': 1990, 'first_in_class': 0, 'helm_notation': None, 'indication_class': 'Antibacterial', 'inorganic_flag': 0, 'max_phase': 4, 'molecule_chembl_id': 'CHEMBL4', 'molecule_hierarchy': {'molecule_chembl_id': 'CHEMBL4', 'parent_chembl_id': 'CHEMBL4'}, 'molecule_properties': {'alogp': '1.54', 'aromatic_rings': 2, 'cx_logd': '-0.47', 'cx_logp': '0.51', 'cx_most_apka': '5.29', 'cx_most_bpka': '6.16', 'full_molformula': 'C18H20FN3O4', 'full_mwt': '361.37', 'hba': 6, 'hba_lipinski': 7, 'hbd': 1, 'hbd_lipinski': 1, 'heavy_atoms': 26, 'molecular_species': 'ACID', 'mw_freebase': '361.37', 'mw_monoisotopic': '361.1438', 'num_lipinski_ro5_violations': 0, 'num_ro5_violations': 0, 'psa': '75.01', 'qed_weighted': '0.87', 'ro3_pass': 'N', 'rtb': 2}, 'molecule_structures': {'canonical_smiles': 'CC1COc2c(N3CCN(C)CC3)c(F)cc3c(=O)c(C(=O)O)cn1c23', 'molfile': '\\n     RDKit          2D\\n\\n 26 29  0  0  0  0  0  0  0  0999 V2000\\n   -0.8793    0.0317    0.0000 C   0  0  0  0  0  0  0  0  0  0  0  0\\n   -0.8793    0.8567    0.0000 C   0  0  0  0  0  0  0  0  0  0  0  0\\n   -0.1649    1.2692    0.0000 C   0  0  0  0  0  0  0  0  0  0  0  0\\n    0.5496    0.8567    0.0000 C   0  0  0  0  0  0  0  0  0  0  0  0\\n    1.2641    1.2692    0.0000 C   0  0  0  0  0  0  0  0  0  0  0  0\\n    1.9785    0.8567    0.0000 C   0  0  0  0  0  0  0  0  0  0  0  0\\n    1.9785    0.0317    0.0000 C   0  0  0  0  0  0  0  0  0  0  0  0\\n   -0.1649   -0.3808    0.0000 C   0  0  0  0  0  0  0  0  0  0  0  0\\n    0.5496    0.0317    0.0000 C   0  0  0  0  0  0  0  0  0  0  0  0\\n    1.2641   -0.3808    0.0000 N   0  0  0  0  0  0  0  0  0  0  0  0\\n    1.2641   -1.2058    0.0000 C   0  0  0  0  0  0  0  0  0  0  0  0\\n    0.5496   -1.6183    0.0000 C   0  0  0  0  0  0  0  0  0  0  0  0\\n   -0.1649   -1.2058    0.0000 O   0  0  0  0  0  0  0  0  0  0  0  0\\n   -1.5938   -0.3808    0.0000 N   0  0  0  0  0  0  0  0  0  0  0  0\\n   -1.5938   -1.2058    0.0000 C   0  0  0  0  0  0  0  0  0  0  0  0\\n   -2.3083   -1.6183    0.0000 C   0  0  0  0  0  0  0  0  0  0  0  0\\n   -3.0228   -1.2058    0.0000 N   0  0  0  0  0  0  0  0  0  0  0  0\\n   -3.0228   -0.3808    0.0000 C   0  0  0  0  0  0  0  0  0  0  0  0\\n   -2.3083    0.0317    0.0000 C   0  0  0  0  0  0  0  0  0  0  0  0\\n   -3.7372   -1.6183    0.0000 C   0  0  0  0  0  0  0  0  0  0  0  0\\n    1.9785   -1.6183    0.0000 C   0  0  0  0  0  0  0  0  0  0  0  0\\n   -1.5938    1.2692    0.0000 F   0  0  0  0  0  0  0  0  0  0  0  0\\n    1.2641    2.0942    0.0000 O   0  0  0  0  0  0  0  0  0  0  0  0\\n    2.6930    1.2692    0.0000 C   0  0  0  0  0  0  0  0  0  0  0  0\\n    2.6930    2.0942    0.0000 O   0  0  0  0  0  0  0  0  0  0  0  0\\n    3.4075    0.8567    0.0000 O   0  0  0  0  0  0  0  0  0  0  0  0\\n  1  2  1  0\\n  2  3  2  0\\n  3  4  1  0\\n  4  5  1  0\\n  5  6  1  0\\n  6  7  2  0\\n  1  8  2  0\\n  4  9  2  0\\n  8  9  1  0\\n  7 10  1  0\\n  9 10  1  0\\n 10 11  1  0\\n 11 12  1  0\\n  8 13  1  0\\n 12 13  1  0\\n  1 14  1  0\\n 14 15  1  0\\n 15 16  1  0\\n 16 17  1  0\\n 17 18  1  0\\n 14 19  1  0\\n 18 19  1  0\\n 17 20  1  0\\n 11 21  1  0\\n  2 22  1  0\\n  5 23  2  0\\n  6 24  1  0\\n 24 25  1  0\\n 24 26  2  0\\nM  END\\n\\n> <chembl_id>\\nCHEMBL4\\n\\n> <chembl_pref_name>\\nOFLOXACIN\\n\\n', 'standard_inchi': 'InChI=1S/C18H20FN3O4/c1-10-9-26-17-14-11(16(23)12(18(24)25)8-22(10)14)7-13(19)15(17)21-5-3-20(2)4-6-21/h7-8,10H,3-6,9H2,1-2H3,(H,24,25)', 'standard_inchi_key': 'GSDSWSVVBLHKDQ-UHFFFAOYSA-N'}, 'molecule_synonyms': [{'molecule_synonym': 'DL-8280', 'syn_type': 'RESEARCH_CODE', 'synonyms': 'DL-8280'}, {'molecule_synonym': 'Exocin', 'syn_type': 'TRADE_NAME', 'synonyms': 'EXOCIN'}, {'molecule_synonym': 'Floxin', 'syn_type': 'TRADE_NAME', 'synonyms': 'FLOXIN'}, {'molecule_synonym': 'Floxin Otic', 'syn_type': 'TRADE_NAME', 'synonyms': 'FLOXIN OTIC'}, {'molecule_synonym': 'HOE-280', 'syn_type': 'RESEARCH_CODE', 'synonyms': 'HOE 280'}, {'molecule_synonym': 'J01MA01', 'syn_type': 'RESEARCH_CODE', 'synonyms': 'J01MA01'}, {'molecule_synonym': 'Ocuflox', 'syn_type': 'TRADE_NAME', 'synonyms': 'OCUFLOX'}, {'molecule_synonym': 'Ofloxacin', 'syn_type': 'ATC', 'synonyms': 'OFLOXACIN'}, {'molecule_synonym': 'Ofloxacin', 'syn_type': 'BAN', 'synonyms': 'OFLOXACIN'}, {'molecule_synonym': 'Ofloxacin', 'syn_type': 'BNF', 'synonyms': 'OFLOXACIN'}, {'molecule_synonym': 'Ofloxacin', 'syn_type': 'FDA', 'synonyms': 'OFLOXACIN'}, {'molecule_synonym': 'Ofloxacin', 'syn_type': 'INN', 'synonyms': 'OFLOXACIN'}, {'molecule_synonym': 'Ofloxacin', 'syn_type': 'JAN', 'synonyms': 'OFLOXACIN'}, {'molecule_synonym': 'Ofloxacin', 'syn_type': 'MERCK_INDEX', 'synonyms': 'OFLOXACIN'}, {'molecule_synonym': 'Ofloxacin', 'syn_type': 'OTHER', 'synonyms': 'OFLOXACIN'}, {'molecule_synonym': 'Ofloxacin', 'syn_type': 'TRADE_NAME', 'synonyms': 'OFLOXACIN'}, {'molecule_synonym': 'Ofloxacin', 'syn_type': 'USAN', 'synonyms': 'OFLOXACIN'}, {'molecule_synonym': 'Ofloxacin', 'syn_type': 'USP', 'synonyms': 'OFLOXACIN'}, {'molecule_synonym': 'Tarivid', 'syn_type': 'TRADE_NAME', 'synonyms': 'TARIVID'}, {'molecule_synonym': 'Tarivid 400', 'syn_type': 'TRADE_NAME', 'synonyms': 'TARIVID 400'}, {'molecule_synonym': 'Tarivid I.V.', 'syn_type': 'TRADE_NAME', 'synonyms': 'TARIVID I.V.'}, {'molecule_synonym': 'Visiren', 'syn_type': 'TRADE_NAME', 'synonyms': 'Visiren'}], 'molecule_type': 'Small molecule', 'natural_product': 0, 'oral': True, 'parenteral': True, 'polymer_flag': False, 'pref_name': 'OFLOXACIN', 'prodrug': 0, 'structure_type': 'MOL', 'therapeutic_flag': True, 'topical': True, 'usan_stem': '-oxacin', 'usan_stem_definition': 'antibacterials (quinolone derivatives)', 'usan_substem': '-oxacin', 'usan_year': 1984, 'withdrawn_class': None, 'withdrawn_country': None, 'withdrawn_flag': False, 'withdrawn_reason': None, 'withdrawn_year': None}]\nCOc1cc2nc(N3CCN(C(=O)c4ccco4)CC3)nc(N)c2cc1OC\nCN1CCC[C@H]1c1cccnc1\nCC1COc2c(N3CCN(C)CC3)c(F)cc3c(=O)c(C(=O)O)cn1c23\nCCn1cc(C(=O)O)c(=O)c2ccc(C)nc21\nCOc1ccc2c(c1)c(CC(=O)O)c(C)n2C(=O)c1ccc(Cl)cc1\nCC1(C)[C@H](C(=O)O)N2C(=O)C[C@H]2S1(=O)=O\nC[C@]1(Cn2ccnn2)[C@H](C(=O)O)N2C(=O)C[C@H]2S1(=O)=O\nO=C(O)c1cn(C2CC2)c2cc(N3CCNCC3)c(F)cc2c1=O\nCCn1cc(C(=O)O)c(=O)c2cc(F)c(N3CCNCC3)cc21\nCC(N)Cc1ccccc1\nO=[N+]([O-])O[C@H]1CO[C@H]2[C@@H]1OC[C@H]2O[N+](=O)[O-]\nCN1CCN2c3ccccc3Cc3ccccc3C2C1\nCN(C)CCCN1c2ccccc2CCc2ccccc21\nCC1Cc2ccccc2N1NC(=O)c1ccc(Cl)c(S(N)(=O)=O)c1\nCCOC(=O)c1ncn2c1CN(C)C(=O)c1cc(F)ccc1-2\nCc1c(C)c2c(c(C)c1O)CCC(C)(COc1ccc(CC3SC(=O)NC3=O)cc1)O2\nCC(O)(CS(=O)(=O)c1ccc(F)cc1)C(=O)Nc1ccc(C#N)c(C(F)(F)F)c1\nCN1C(=O)CN=C(c2ccccc2)c2cc(Cl)ccc21\nCOCCc1ccc(OCC(O)CNC(C)C)cc1\nCC/C(=C(/CC)c1ccc(O)cc1)c1ccc(O)cc1\n"
    }
   ],
   "source": [
    "# The QuerySet object returned by the client is a lazily-evaluated iterator\n",
    "# This means that it's ready to use and it will try to reduce the amount of server requests\n",
    "# All results are cached as well so they are fetched from server only once.\n",
    "approved_drugs = molecule.filter(max_phase=4)\n",
    "\n",
    "# Getting the lenght of the whole result set is easy:\n",
    "print(len(approved_drugs))\n",
    "\n",
    "# So is getting a single element:\n",
    "print(approved_drugs[123])\n",
    "\n",
    "# Or a chunk of elements:\n",
    "print(approved_drugs[2:5])\n",
    "\n",
    "# Or using in the loops or list comprehensions:\n",
    "for drug in approved_drugs[0:20]:\n",
    "    if drug['molecule_structures']:\n",
    "        print(drug['molecule_structures']['canonical_smiles'])"
   ]
  },
  {
   "cell_type": "markdown",
   "metadata": {
    "collapsed": true
   },
   "source": [
    "### Ordering results\n",
    "Similar to filtering, it's also possible to order the result set, there is a parameter called `order_by` that is reposnsible for ordering:"
   ]
  },
  {
   "cell_type": "code",
   "execution_count": 14,
   "metadata": {},
   "outputs": [
    {
     "data": {
      "text/plain": "'HELIUM'"
     },
     "execution_count": 14,
     "metadata": {},
     "output_type": "execute_result"
    }
   ],
   "source": [
    "# Sort approved drugs by molecular weight ascending (from lightest to heaviest) and get the first (lightest) element\n",
    "lightest_drug = molecule.filter(max_phase=4).order_by('molecule_properties__mw_freebase')[0]\n",
    "lightest_drug['pref_name']"
   ]
  },
  {
   "cell_type": "code",
   "execution_count": 15,
   "metadata": {},
   "outputs": [
    {
     "data": {
      "text/plain": "'BEMIPARIN SODIUM'"
     },
     "execution_count": 15,
     "metadata": {},
     "output_type": "execute_result"
    }
   ],
   "source": [
    "# Sort approved drugs by molecular weight descending (from heaviest to lightest) and get the first (heaviest) element\n",
    "heaviest_drug = molecule.filter(max_phase=4).order_by('-molecule_properties__mw_freebase')[0]\n",
    "heaviest_drug['pref_name']"
   ]
  },
  {
   "cell_type": "markdown",
   "metadata": {},
   "source": [
    "### Filtering molecules using SMILES\n",
    "It is possible to filter molecules by SMILES"
   ]
  },
  {
   "cell_type": "code",
   "execution_count": 16,
   "metadata": {},
   "outputs": [
    {
     "name": "stdout",
     "output_type": "stream",
     "text": "1\n1\n1\nTrue\nTrue\n"
    }
   ],
   "source": [
    "# Atorvastatin...\n",
    "smiles = \"CC(C)c1c(C(=O)Nc2ccccc2)c(-c2ccccc2)c(-c2ccc(F)cc2)n1CC[C@@H](O)C[C@@H](O)CC(=O)O\"\n",
    "\n",
    "# By default, the type of search used is 'exact search' which means that only compounds with exacly same SMILES string will be picked:\n",
    "result = molecule.filter(molecule_structures__canonical_smiles=smiles)\n",
    "print(len(result))\n",
    "\n",
    "# This is quivalent of:\n",
    "result1 = molecule.filter(molecule_structures__canonical_smiles__exact=smiles)\n",
    "print(len(result1))\n",
    "\n",
    "# For convenience, we have a shortcut call:\n",
    "result2 = molecule.filter(smiles=smiles)\n",
    "print(len(result2))\n",
    "\n",
    "# Checking if they are all the same: \n",
    "print(result[0]['pref_name'] == result1[0]['pref_name'] == result2[0]['pref_name'])\n",
    "\n",
    "# And because SMILES string are unique in ChEMBL, this is similar to:\n",
    "result3 = molecule.get(smiles)\n",
    "print(result[0]['pref_name'] == result3['pref_name'])"
   ]
  },
  {
   "cell_type": "markdown",
   "metadata": {},
   "source": [
    "There are however different filtering operators that can be applied to SMILES; the most important one is called `flexmatch`, which will return all structures described by given SMILES string even if this is non-canonical SMILES."
   ]
  },
  {
   "cell_type": "code",
   "execution_count": 17,
   "metadata": {},
   "outputs": [
    {
     "name": "stdout",
     "output_type": "stream",
     "text": "4\nCHEMBL393220    : CC(C)c1c(C(=O)Nc2ccccc2)c(-c2ccccc2)c(-c2ccc(F)cc2)n1CC[C@@H](O)C[C@@H](O)CC(=O)[O-].CC(C)c1c(C(=O)Nc2ccccc2)c(-c2ccccc2)c(-c2ccc(F)cc2)n1CC[C@@H](O)C[C@@H](O)CC(=O)[O-].[Ca+2]\nCHEMBL1487      : CC(C)c1c(C(=O)Nc2ccccc2)c(-c2ccccc2)c(-c2ccc(F)cc2)n1CC[C@@H](O)C[C@@H](O)CC(=O)O\nCHEMBL3349878   : CC(C)c1c(C(=O)Nc2ccccc2)c(-c2ccccc2)c(-c2ccc(F)cc2)n1CC[C@@H](O)C[C@@H](O)CC(=O)[O-].[Na+]\nCHEMBL3392029   : CC(C)c1c(C(=O)Nc2ccccc2)c(-c2ccccc2)c(-c2ccc(F)cc2)n1CC[C@H](O)C[C@@H](O)CC(=O)O\n"
    }
   ],
   "source": [
    "# Flexmatch will look for structures that match given SMILES, ignoring stereo:\n",
    "records = molecule.filter(molecule_structures__canonical_smiles__flexmatch=smiles)\n",
    "print(len(records))\n",
    "\n",
    "for record in records:\n",
    "    print(\"{:15s} : {}\".format(record[\"molecule_chembl_id\"], record['molecule_structures']['canonical_smiles']))"
   ]
  },
  {
   "cell_type": "markdown",
   "metadata": {
    "collapsed": true
   },
   "source": [
    "Unlike with the exact string match, it is possible to retrieve multiple records when a SMILES is used for the `flexmatch` lookup (_i.e._ it is potentially one-to-many instead of one-to-one as the ID lookups are). This is due to the nature of `flexmatch`.\n",
    "\n",
    "In our case two structures are returned, CHEMBL1487 (Atorvastatin) and CHEMBL1207181, which is the same structure as the former but with one of the two stereocentres undefined."
   ]
  },
  {
   "cell_type": "markdown",
   "metadata": {},
   "source": [
    "### Substructure-searching\n",
    "\n",
    "As well as ID lookups, the web services may also be used to perform substructure searches. Currently, only SMILES-based searches are supported, although this could change if there is is a need for more powerful search abilities (_e.g._ SMARTS searching)."
   ]
  },
  {
   "cell_type": "code",
   "execution_count": 18,
   "metadata": {},
   "outputs": [],
   "source": [
    "# Lapatinib contains the following core...\n",
    "query = \"c4ccc(Nc2ncnc3ccc(c1ccco1)cc23)cc4\""
   ]
  },
  {
   "cell_type": "code",
   "execution_count": 19,
   "metadata": {},
   "outputs": [
    {
     "data": {
      "text/plain": " 0  0  0  0  0  0  0  0  0  0  0\\n    9.3606   -1.2940    0.0000 C   0  0  0  0  0  0  0  0  0  0  0  0\\n   10.0731   -0.8742    0.0000 C   0  0  0  0  0  0  0  0  0  0  0  0\\n   10.0677   -0.0472    0.0000 C   0  0  0  0  0  0  0  0  0  0  0  0\\n    9.3437    0.3582    0.0000 C   0  0  0  0  0  0  0  0  0  0  0  0\\n    8.6340   -0.0593    0.0000 C   0  0  0  0  0  0  0  0  0  0  0  0\\n   10.7920   -1.2849    0.0000 F   0  0  0  0  0  0  0  0  0  0  0  0\\n   -0.5410   -3.7974    0.0000 C   0  0  0  0  0  0  0  0  0  0  0  0\\n   -1.2518   -3.3728    0.0000 N   0  0  0  0  0  0  0  0  0  0  0  0\\n   -1.9684   -3.7790    0.0000 C   0  0  0  0  0  0  0  0  0  0  0  0\\n   -2.6792   -3.3544    0.0000 C   0  0  0  0  0  0  0  0  0  0  0  0\\n   -3.4005   -3.7605    0.0000 S   0  0  0  0  0  0  0  0  0  0  0  0\\n   -4.1113   -3.3359    0.0000 C   0  0  0  0  0  0  0  0  0  0  0  0\\n   -2.9954   -4.4689    0.0000 O   0  0  0  0  0  0  0  0  0  0  0  0\\n   -3.8215   -4.4689    0.0000 O   0  0  0  0  0  0  0  0  0  0  0  0\\n 16 17  1  0\\n 37 39  2  0\\n 37 40  2  0\\n 17 18  2  0\\n  7  8  1  0\\n 18 19  1  0\\n  8 11  2  0\\n 19 20  2  0\\n 20 21  1  0\\n 10  9  2  0\\n 21 22  2  0\\n 22 17  1  0\\n  9  6  1  0\\n 20 23  1  0\\n  1  2  1  0\\n 23 24  1  0\\n  2  3  2  0\\n 24 25  1  0\\n 10 11  1  0\\n 21 26  1  0\\n  3  4  1  0\\n 25 27  2  0\\n 11 12  1  0\\n 27 28  1  0\\n  4  5  1  0\\n 28 29  2  0\\n 12 13  2  0\\n 29 30  1  0\\n  5  1  2  0\\n 30 31  2  0\\n 31 25  1  0\\n 13 14  1  0\\n 28 32  1  0\\n  6  5  1  0\\n  3 33  1  0\\n 14 15  2  0\\n 33 34  1  0\\n 15 10  1  0\\n 34 35  1  0\\n 35 36  1  0\\n 15 16  1  0\\n 36 37  1  0\\n  6  7  2  0\\n 37 38  1  0\\nM  END\\n\\n> <chembl_id>\\nCHEMBL554\\n\\n> <chembl_pref_name>\\nLAPATINIB\\n\\n', 'standard_inchi': 'InChI=1S/C29H26ClFN4O4S/c1-40(36,37)12-11-32-16-23-7-10-27(39-23)20-5-8-26-24(14-20)29(34-18-33-26)35-22-6-9-28(25(30)15-22)38-17-19-3-2-4-21(31)13-19/h2-10,13-15,18,32H,11-12,16-17H2,1H3,(H,33,34,35)', 'standard_inchi_key': 'BCFGMOOMADDAQU-UHFFFAOYSA-N'}, 'molecule_type': 'Small molecule', 'natural_product': 0, 'oral': True, 'parenteral': False, 'polymer_flag': False, 'pref_name': 'LAPATINIB', 'prodrug': 0, 'structure_type': 'MOL', 'therapeutic_flag': True, 'topical': False, 'usan_stem': '-tinib', 'usan_stem_definition': 'tyrosine kinase inhibitors', 'usan_substem': '-tinib', 'usan_year': 2003, 'withdrawn_class': None, 'withdrawn_country': None, 'withdrawn_flag': False, 'withdrawn_reason': None, 'withdrawn_year': None}, {'atc_classifications': [], 'availability_type': -1, 'biotherapeutic': None, 'black_box_warning': 0, 'chebi_par_id': None, 'chirality': -1, 'cross_references': [], 'dosed_ingredient': False, 'first_approval': None, 'first_in_class': -1, 'helm_notation': None, 'indication_class': None, 'inorganic_flag': -1, 'max_phase': 0, 'molecule_chembl_id': 'CHEMBL212250', 'molecule_hierarchy': {'molecule_chembl_id': 'CHEMBL212250', 'parent_chembl_id': 'CHEMBL212250'}, 'molecule_properties': {'alogp': '8.00', 'aromatic_rings': 6, 'cx_logd': '7.07', 'cx_logp': '7.07', 'cx_most_apka': None, 'cx_most_bpka': '3.83', 'full_molformula': 'C34H27ClFN3O5S', 'full_mwt': '644.12', 'hba': 8, 'hba_lipinski': 8, 'hbd': 1, 'hbd_lipinski': 1, 'heavy_atoms': 45, 'molecular_species': 'NEUTRAL', 'mw_freebase': '644.12', 'mw_monoisotopic': '643.1344', 'num_lipinski_ro5_violations': 2, 'num_ro5_violations': 2, 'psa': '103.55', 'qed_weighted': '0.13', 'ro3_pass': 'N', 'rtb': 12}, 'molecule_structures': {'canonical_smiles': 'O=S(=O)(CCOCc1ccc(-c2ccc3ncnc(Nc4ccc(OCc5cccc(F)c5)c(Cl)c4)c3c2)o1)c1ccccc1', 'molfile': '\\n     RDKit          2D\\n\\n 45 50  0  0  0  0  0  0  0  0999 V2000\\n   -2.8579   -7.4250    0.0000 F   0  0  0  0  0  0  0  0  0  0  0  0\\n   -2.8579   -6.6000    0.0000 C   0  0  0  0  0  0  0  0  0  0  0  0\\n   -3.5724   -6.1875    0.0000 C   0  0  0  0  0  0  0  0  0  0  0  0\\n   -3.5724   -5.3625    0.0000 C   0  0  0  0  0  0  0  0  0  0  0  0\\n   -2.8579   -4.9500    0.0000 C   0  0  0  0  0  0  0  0  0  0  0  0\\n   -2.1434   -5.3625    0.0000 C   0  0  0  0  0  0  0  0  0  0  0  0\\n   -1.4289   -4.9500    0.0000 C   0  0  0  0  0  0  0  0  0  0  0  0\\n   -1.4289   -4.1250    0.0000 O   0  0  0  0  0  0  0  0  0  0  0  0\\n   -0.7145   -3.7125    0.0000 C   0  0  0  0  0  0  0  0  0  0  0  0\\n   -0.7145   -2.8875    0.0000 C   0  0  0  0  0  0  0  0  0  0  0  0\\n    0.0000   -2.4750    0.0000 C   0  0  0  0  0  0  0  0  0  0  0  0\\n    0.7145   -2.8875    0.0000 C   0  0  0  0  0  0  0  0  0  0  0  0\\n    1.4289   -2.4750    0.0000 N   0  0  0  0  0  0  0  0  0  0  0  0\\n    1.4289   -1.6500    0.0000 C   0  0  0  0  0  0  0  0  0  0  0  0\\n    0.7145   -1.2375    0.0000 N   0  0  0  0  0  0  0  0  0  0  0  0\\n    0.7145   -0.4125    0.0000 C   0  0  0  0  0  0  0  0  0  0  0  0\\n    1.4289    0.0000    0.0000 N   0  0  0  0  0  0  0  0  0  0  0  0\\n    2.1434   -0.4125    0.0000 C   0  0  0  0  0  0  0  0  0  0  0  0\\n    2.8579    0.0000    0.0000 C   0  0  0  0  0  0  0  0  0  0  0  0\\n    3.5724   -0.4125    0.0000 C   0  0  0  0  0  0  0  0  0  0  0  0\\n    3.5724   -1.2375    0.0000 C   0  0  0  0  0  0  0  0  0  0  0  0\\n    2.8579   -1.6500    0.0000 C   0  0  0  0  0  0  0  0  0  0  0  0\\n    2.1434   -1.2375    0.0000 C   0  0  0  0  0  0  0  0  0  0  0  0\\n    4.2868   -1.6500    0.0000 C   0  0  0  0  0  0  0  0  0  0  0  0\\n    5.0405   -1.3144    0.0000 C   0  0  0  0  0  0  0  0  0  0  0  0\\n    5.5925   -1.9275    0.0000 C   0  0  0  0  0  0  0  0  0  0  0  0\\n    5.1800   -2.6420    0.0000 C   0  0  0  0  0  0  0  0  0  0  0  0\\n    5.5156   -3.3957    0.0000 C   0  0  0  0  0  0  0  0  0  0  0  0\\n    6.3361   -3.4819    0.0000 O   0  0  0  0  0  0  0  0  0  0  0  0\\n    6.6716   -4.2356    0.0000 C   0  0  0  0  0  0  0  0  0  0  0  0\\n    7.4921   -4.3218    0.0000 C   0  0  0  0  0  0  0  0  0  0  0  0\\n    7.8277   -5.0755    0.0000 S   0  0  0  0  0  0  0  0  0  0  0  0\\n    7.0740   -5.4111    0.0000 O   0  0  0  0  0  0  0  0  0  0  0  0\\n    8.5813   -4.7399    0.0000 O   0  0  0  0  0  0  0  0  0  0  0  0\\n    8.1632   -5.8292    0.0000 C   0  0  0  0  0  0  0  0  0  0  0  0\\n    8.9837   -5.9154    0.0000 C   0  0  0  0  0  0  0  0  0  0  0  0\\n    9.3193   -6.6691    0.0000 C   0  0  0  0  0  0  0  0  0  0  0  0\\n    8.8343   -7.3365    0.0000 C   0  0  0  0  0  0  0  0  0  0  0  0\\n    8.0139   -7.2503    0.0000 C   0  0  0  0  0  0  0  0  0  0  0  0\\n    7.6783   -6.4966    0.0000 C   0  0  0  0  0  0  0  0  0  0  0  0\\n    4.3731   -2.4705    0.0000 O   0  0  0  0  0  0  0  0  0  0  0  0\\n    0.7145   -3.7125    0.0000 C   0  0  0  0  0  0  0  0  0  0  0  0\\n    0.0000   -4.1250    0.0000 C   0  0  0  0  0  0  0  0  0  0  0  0\\n    0.0000   -4.9500    0.0000 Cl  0  0  0  0  0  0  0  0  0  0  0  0\\n   -2.1434   -6.1875    0.0000 C   0  0  0  0  0  0  0  0  0  0  0  0\\n  1  2  1  0\\n  2  3  2  0\\n  3  4  1  0\\n  4  5  2  0\\n  5  6  1  0\\n  6  7  1  0\\n  7  8  1  0\\n  8  9  1  0\\n  9 10  2  0\\n 10 11  1  0\\n 11 12  2  0\\n 12 13  1  0\\n 13 14  1  0\\n 14 15  1  0\\n 15 16  2  0\\n 16 17  1  0\\n 17 18  2  0\\n 18 19  1  0\\n 19 20  2  0\\n 20 21  1  0\\n 21 22  2  0\\n 22 23  1  0\\n 14 23  2  0\\n 18 23  1  0\\n 21 24  1  0\\n 24 25  2  0\\n 25 26  1  0\\n 26 27  2  0\\n 27 28  1  0\\n 28 29  1  0\\n 29 30  1  0\\n 30 31  1  0\\n 31 32  1  0\\n 32 33  2  0\\n 32 34  2  0\\n 32 35  1  0\\n 35 36  2  0\\n 36 37  1  0\\n 37 38  2  0\\n 38 39  1  0\\n 39 40  2  0\\n 35 40  1  0\\n 27 41  1  0\\n 24 41  1  0\\n 12 42  1  0\\n 42 43  2  0\\n  9 43  1  0\\n 43 44  1  0\\n  6 45  2  0\\n  2 45  1  0\\nM  END\\n\\n> <chembl_id>\\nCHEMBL212250\\n\\n> <chembl_pref_name>\\nGW615311X\\n\\n', 'standard_inchi': 'InChI=1S/C34H27ClFN3O5S/c35-30-19-26(10-13-33(30)43-20-23-5-4-6-25(36)17-23)39-34-29-18-24(9-12-31(29)37-22-38-34)32-14-11-27(44-32)21-42-15-16-45(40,41)28-7-2-1-3-8-28/h1-14,17-19,22H,15-16,20-21H2,(H,37,38,39)', 'standard_inchi_key': 'JLBVWHHVKVXOOR-UHFFFAOYSA-N'}, 'molecule_type': 'Small molecule', 'natural_product': -1, 'oral': False, 'parenteral': False, 'polymer_flag': False, 'pref_name': 'GW615311X', 'prodrug': -1, 'structure_type': 'MOL', 'therapeutic_flag': False, 'topical': False, 'usan_stem': None, 'usan_stem_definition': None, 'usan_substem': None, 'usan_year': None, 'withdrawn_class': None, 'withdrawn_country': None, 'withdrawn_flag': False, 'withdrawn_reason': None, 'withdrawn_year': None}, {'atc_classifications': [], 'availability_type': -1, 'biotherapeutic': None, 'black_box_warning': 0, 'chebi_par_id': None, 'chirality': -1, 'cross_references': [], 'dosed_ingredient': False, 'first_approval': None, 'first_in_class': -1, 'helm_notation': None, 'indication_class': None, 'inorganic_flag': -1, 'max_phase': 0, 'molecule_chembl_id': 'CHEMBL212201', 'molecule_hierarchy': {'molecule_chembl_id': 'CHEMBL212201', 'parent_chembl_id': 'CHEMBL212201'}, 'molecule_properties': {'alogp': '8.21', 'aromatic_rings': 6, 'cx_logd': '5.82', 'cx_logp': '7.19', 'cx_most_apka': None, 'cx_most_bpka': '8.76', 'full_molformula': 'C36H33ClN4O4S', 'full_mwt': '653.20', 'hba': 8, 'hba_lipinski': 8, 'hbd': 2, 'hbd_lipinski': 2, 'heavy_atoms': 46, 'molecular_species': 'BASE', 'mw_freebase': '653.20', 'mw_monoisotopic': '652.1911', 'num_lipinski_ro5_violations': 2, 'num_ro5_violations': 2, 'psa': '106.35', 'qed_weighted': '0.11', 'ro3_pass': 'N', 'rtb': 14}, 'molecule_structures': {'canonical_smiles': 'O=S(=O)(CCCCNCc1ccc(-c2ccc3ncnc(Nc4ccc(OCc5ccccc5)c(Cl)c4)c3c2)o1)c1ccccc1', 'molfile': '\\n     RDKit          2D\\n\\n 46 51  0  0  0  0  0  0  0  0999 V2000\\n    1.0545  -10.7936    0.0000 C   0  0  0  0  0  0  0  0  0  0  0  0\\n    3.9041  -11.4858    0.0000 C   0  0  0  0  0  0  0  0  0  0  0  0\\n    3.9031  -12.3131    0.0000 C   0  0  0  0  0  0  0  0  0  0  0  0\\n    4.6174  -12.7259    0.0000 C   0  0  0  0  0  0  0  0  0  0  0  0\\n    4.6157  -11.0731    0.0000 C   0  0  0  0  0  0  0  0  0  0  0  0\\n    5.3305  -11.4825    0.0000 C   0  0  0  0  0  0  0  0  0  0  0  0\\n    5.3311  -12.3090    0.0000 C   0  0  0  0  0  0  0  0  0  0  0  0\\n    6.0460  -12.7199    0.0000 N   0  0  0  0  0  0  0  0  0  0  0  0\\n    6.7608  -12.3055    0.0000 C   0  0  0  0  0  0  0  0  0  0  0  0\\n    6.7562  -11.4759    0.0000 N   0  0  0  0  0  0  0  0  0  0  0  0\\n    6.0407  -11.0686    0.0000 C   0  0  0  0  0  0  0  0  0  0  0  0\\n    6.0365  -10.2437    0.0000 N   0  0  0  0  0  0  0  0  0  0  0  0\\n    6.7489   -9.8275    0.0000 C   0  0  0  0  0  0  0  0  0  0  0  0\\n    7.4626  -10.2364    0.0000 C   0  0  0  0  0  0  0  0  0  0  0  0\\n    8.1745   -9.8210    0.0000 C   0  0  0  0  0  0  0  0  0  0  0  0\\n    8.1707   -8.9950    0.0000 C   0  0  0  0  0  0  0  0  0  0  0  0\\n    7.4491   -8.5864    0.0000 C   0  0  0  0  0  0  0  0  0  0  0  0\\n    6.7403   -9.0042    0.0000 C   0  0  0  0  0  0  0  0  0  0  0  0\\n    8.8826   -8.5780    0.0000 O   0  0  0  0  0  0  0  0  0  0  0  0\\n    9.5997   -8.9859    0.0000 C   0  0  0  0  0  0  0  0  0  0  0  0\\n   10.3115   -8.5689    0.0000 C   0  0  0  0  0  0  0  0  0  0  0  0\\n   11.0263   -8.9794    0.0000 C   0  0  0  0  0  0  0  0  0  0  0  0\\n   11.7376   -8.5630    0.0000 C   0  0  0  0  0  0  0  0  0  0  0  0\\n   11.7328   -7.7372    0.0000 C   0  0  0  0  0  0  0  0  0  0  0  0\\n   11.0106   -7.3294    0.0000 C   0  0  0  0  0  0  0  0  0  0  0  0\\n   10.3023   -7.7481    0.0000 C   0  0  0  0  0  0  0  0  0  0  0  0\\n    3.1895  -11.0736    0.0000 C   0  0  0  0  0  0  0  0  0  0  0  0\\n    3.1026  -10.2533    0.0000 C   0  0  0  0  0  0  0  0  0  0  0  0\\n    2.2956  -10.0821    0.0000 C   0  0  0  0  0  0  0  0  0  0  0  0\\n    1.8833  -10.7968    0.0000 C   0  0  0  0  0  0  0  0  0  0  0  0\\n    2.4357  -11.4095    0.0000 O   0  0  0  0  0  0  0  0  0  0  0  0\\n    8.8908  -10.2302    0.0000 Cl  0  0  0  0  0  0  0  0  0  0  0  0\\n   -0.1480  -10.0217    0.0000 C   0  0  0  0  0  0  0  0  0  0  0  0\\n   -0.5230   -9.2953    0.0000 C   0  0  0  0  0  0  0  0  0  0  0  0\\n   -1.3485   -9.2603    0.0000 S   0  0  0  0  0  0  0  0  0  0  0  0\\n   -1.3860  -10.0828    0.0000 O   0  0  0  0  0  0  0  0  0  0  0  0\\n   -1.3138   -8.4311    0.0000 O   0  0  0  0  0  0  0  0  0  0  0  0\\n   -2.1758   -9.2209    0.0000 C   0  0  0  0  0  0  0  0  0  0  0  0\\n   -2.5527   -8.4844    0.0000 C   0  0  0  0  0  0  0  0  0  0  0  0\\n   -3.3793   -8.4446    0.0000 C   0  0  0  0  0  0  0  0  0  0  0  0\\n   -3.8280   -9.1418    0.0000 C   0  0  0  0  0  0  0  0  0  0  0  0\\n   -3.4442   -9.8806    0.0000 C   0  0  0  0  0  0  0  0  0  0  0  0\\n   -2.6188   -9.9168    0.0000 C   0  0  0  0  0  0  0  0  0  0  0  0\\n   -0.5937  -10.7160    0.0000 C   0  0  0  0  0  0  0  0  0  0  0  0\\n   -0.2153  -11.4491    0.0000 C   0  0  0  0  0  0  0  0  0  0  0  0\\n    0.6089  -11.4879    0.0000 N   0  0  0  0  0  0  0  0  0  0  0  0\\n 11  6  2  0\\n 22 23  1  0\\n 23 24  2  0\\n 11 12  1  0\\n 24 25  1  0\\n  3  4  2  0\\n 25 26  2  0\\n 26 21  1  0\\n 12 13  1  0\\n  2 27  1  0\\n 27 28  2  0\\n  6  7  1  0\\n 13 14  2  0\\n  4  7  1  0\\n 14 15  1  0\\n 28 29  1  0\\n 29 30  2  0\\n 30 31  1  0\\n 31 27  1  0\\n 30  1  1  0\\n  7  8  2  0\\n 15 32  1  0\\n 15 16  2  0\\n  2  3  1  0\\n 33 34  1  0\\n 16 17  1  0\\n 34 35  1  0\\n  8  9  1  0\\n 35 36  2  0\\n 17 18  2  0\\n 35 37  2  0\\n 18 13  1  0\\n 35 38  1  0\\n  6  5  1  0\\n 38 39  2  0\\n 16 19  1  0\\n 39 40  1  0\\n  9 10  2  0\\n 40 41  2  0\\n 19 20  1  0\\n 41 42  1  0\\n  5  2  2  0\\n 42 43  2  0\\n 43 38  1  0\\n 20 21  1  0\\n 33 44  1  0\\n 10 11  1  0\\n 44 45  1  0\\n 21 22  2  0\\n 45 46  1  0\\n 46  1  1  0\\nM  END\\n\\n> <chembl_id>\\nCHEMBL212201\\n\\n> <chembl_pref_name>\\nNone\\n\\n', 'standard_inchi': 'InChI=1S/C36H33ClN4O4S/c37-32-22-28(14-17-35(32)44-24-26-9-3-1-4-10-26)41-36-31-21-27(13-16-33(31)39-25-40-36)34-18-15-29(45-34)23-38-19-7-8-20-46(42,43)30-11-5-2-6-12-30/h1-6,9-18,21-22,25,38H,7-8,19-20,23-24H2,(H,39,40,41)', 'standard_inchi_key': 'SOFMGJHORUKREC-UHFFFAOYSA-N'}, 'molecule_type': 'Small molecule', 'natural_product': -1, 'oral': False, 'parenteral': False, 'polymer_flag': False, 'pref_name': None, 'prodrug': -1, 'structure_type': 'MOL', 'therapeutic_flag': False, 'topical': False, 'usan_stem': None, 'usan_stem_definition': None, 'usan_substem': None, 'usan_year': None, 'withdrawn_class': None, 'withdrawn_country': None, 'withdrawn_flag': False, 'withdrawn_reason': None, 'withdrawn_year': None}, {'atc_classifications': [], 'availability_type': -1, 'biotherapeutic': None, 'black_box_warning': 0, 'chebi_par_id': None, 'chirality': -1, 'cross_references': [], 'dosed_ingredient': False, 'first_approval': None, 'first_in_class': -1, 'helm_notation': None, 'indication_class': None, 'inorganic_flag': -1, 'max_phase': 0, 'molecule_chembl_id': 'CHEMBL212251', 'molecule_hierarchy': {'molecule_chembl_id': 'CHEMBL212251', 'parent_chembl_id': 'CHEMBL212251'}, 'molecule_properties': {'alogp': '7.26', 'aromatic_rings': 5, 'cx_logd': '5.84', 'cx_logp': '5.90', 'cx_most_apka': None, 'cx_most_bpka': '6.58', 'full_molformula': 'C32H32ClFN4O4S', 'full_mwt': '623.15', 'hba': 8, 'hba_lipinski': 8, 'hbd': 1, 'hbd_lipinski': 1, 'heavy_atoms': 43, 'molecular_species': 'NEUTRAL', 'mw_freebase': '623.15', 'mw_monoisotopic': '622.1817', 'num_lipinski_ro5_violations': 2, 'num_ro5_violations': 2, 'psa': '97.56', 'qed_weighted': '0.15', 'ro3_pass': 'N', 'rtb': 13}, 'molecule_structures': {'canonical_smiles': 'CCCN(CCS(C)(=O)=O)Cc1ccc(-c2ccc3ncnc(Nc4ccc(OCc5cccc(F)c5)c(Cl)c4)c3c2)o1', 'molfile': '\\n     RDKit          2D\\n\\n 43 47  0  0  0  0  0  0  0  0999 V2000\\n    6.7995   -3.6820    0.0000 C   0  0  0  0  0  0  0  0  0  0  0  0\\n    7.2120   -2.9676    0.0000 C   0  0  0  0  0  0  0  0  0  0  0  0\\n    6.7995   -2.2531    0.0000 C   0  0  0  0  0  0  0  0  0  0  0  0\\n    7.2120   -1.5386    0.0000 N   0  0  0  0  0  0  0  0  0  0  0  0\\n    8.0370   -1.5386    0.0000 C   0  0  0  0  0  0  0  0  0  0  0  0\\n    8.4495   -2.2531    0.0000 C   0  0  0  0  0  0  0  0  0  0  0  0\\n    9.2745   -2.2531    0.0000 S   0  0  0  0  0  0  0  0  0  0  0  0\\n    9.2745   -1.4281    0.0000 C   0  0  0  0  0  0  0  0  0  0  0  0\\n   10.0995   -2.2531    0.0000 O   0  0  0  0  0  0  0  0  0  0  0  0\\n    9.2745   -3.0781    0.0000 O   0  0  0  0  0  0  0  0  0  0  0  0\\n    6.7995   -0.8242    0.0000 C   0  0  0  0  0  0  0  0  0  0  0  0\\n    5.9745   -0.8242    0.0000 C   0  0  0  0  0  0  0  0  0  0  0  0\\n    5.4896   -1.4916    0.0000 C   0  0  0  0  0  0  0  0  0  0  0  0\\n    4.7049   -1.2367    0.0000 C   0  0  0  0  0  0  0  0  0  0  0  0\\n    4.7049   -0.4117    0.0000 C   0  0  0  0  0  0  0  0  0  0  0  0\\n    5.4896   -0.1567    0.0000 O   0  0  0  0  0  0  0  0  0  0  0  0\\n    4.0375    0.0733    0.0000 C   0  0  0  0  0  0  0  0  0  0  0  0\\n    3.2838   -0.2623    0.0000 C   0  0  0  0  0  0  0  0  0  0  0  0\\n    2.6164    0.2226    0.0000 C   0  0  0  0  0  0  0  0  0  0  0  0\\n    2.7026    1.0431    0.0000 C   0  0  0  0  0  0  0  0  0  0  0  0\\n    2.0352    1.5280    0.0000 N   0  0  0  0  0  0  0  0  0  0  0  0\\n    2.1214    2.3485    0.0000 C   0  0  0  0  0  0  0  0  0  0  0  0\\n    2.8751    2.6841    0.0000 N   0  0  0  0  0  0  0  0  0  0  0  0\\n    3.5425    2.1991    0.0000 C   0  0  0  0  0  0  0  0  0  0  0  0\\n    4.2962    2.5347    0.0000 N   0  0  0  0  0  0  0  0  0  0  0  0\\n    4.9637    2.0498    0.0000 C   0  0  0  0  0  0  0  0  0  0  0  0\\n    4.8774    1.2293    0.0000 C   0  0  0  0  0  0  0  0  0  0  0  0\\n    5.5449    0.7444    0.0000 C   0  0  0  0  0  0  0  0  0  0  0  0\\n    6.2985    1.0799    0.0000 C   0  0  0  0  0  0  0  0  0  0  0  0\\n    6.9660    0.5950    0.0000 O   0  0  0  0  0  0  0  0  0  0  0  0\\n    7.7196    0.9306    0.0000 C   0  0  0  0  0  0  0  0  0  0  0  0\\n    8.3871    0.4456    0.0000 C   0  0  0  0  0  0  0  0  0  0  0  0\\n    8.3009   -0.3748    0.0000 C   0  0  0  0  0  0  0  0  0  0  0  0\\n    8.9683   -0.8598    0.0000 C   0  0  0  0  0  0  0  0  0  0  0  0\\n    9.7220   -0.5242    0.0000 C   0  0  0  0  0  0  0  0  0  0  0  0\\n    9.8082    0.2963    0.0000 C   0  0  0  0  0  0  0  0  0  0  0  0\\n   10.5619    0.6318    0.0000 F   0  0  0  0  0  0  0  0  0  0  0  0\\n    9.1408    0.7812    0.0000 C   0  0  0  0  0  0  0  0  0  0  0  0\\n    6.3848    1.9004    0.0000 C   0  0  0  0  0  0  0  0  0  0  0  0\\n    7.1384    2.2360    0.0000 Cl  0  0  0  0  0  0  0  0  0  0  0  0\\n    5.7173    2.3853    0.0000 C   0  0  0  0  0  0  0  0  0  0  0  0\\n    3.4563    1.3787    0.0000 C   0  0  0  0  0  0  0  0  0  0  0  0\\n    4.1237    0.8937    0.0000 C   0  0  0  0  0  0  0  0  0  0  0  0\\n  1  2  1  0\\n  2  3  1  0\\n  3  4  1  0\\n  4  5  1  0\\n  5  6  1  0\\n  6  7  1  0\\n  7  8  1  0\\n  7  9  2  0\\n  7 10  2  0\\n  4 11  1  0\\n 11 12  1  0\\n 12 13  2  0\\n 13 14  1  0\\n 14 15  2  0\\n 15 16  1  0\\n 12 16  1  0\\n 15 17  1  0\\n 17 18  2  0\\n 18 19  1  0\\n 19 20  2  0\\n 20 21  1  0\\n 21 22  2  0\\n 22 23  1  0\\n 23 24  2  0\\n 24 25  1  0\\n 25 26  1  0\\n 26 27  2  0\\n 27 28  1  0\\n 28 29  2  0\\n 29 30  1  0\\n 30 31  1  0\\n 31 32  1  0\\n 32 33  2  0\\n 33 34  1  0\\n 34 35  2  0\\n 35 36  1  0\\n 36 37  1  0\\n 36 38  2  0\\n 32 38  1  0\\n 29 39  1  0\\n 39 40  1  0\\n 39 41  2  0\\n 26 41  1  0\\n 24 42  1  0\\n 20 42  1  0\\n 42 43  2  0\\n 17 43  1  0\\nM  END\\n\\n> <chembl_id>\\nCHEMBL212251\\n\\n> <chembl_pref_name>\\nNone\\n\\n', 'standard_inchi': 'InChI=1S/C32H32ClFN4O4S/c1-3-13-38(14-15-43(2,39)40)19-26-9-12-30(42-26)23-7-10-29-27(17-23)32(36-21-35-29)37-25-8-11-31(28(33)18-25)41-20-22-5-4-6-24(34)16-22/h4-12,16-18,21H,3,13-15,19-20H2,1-2H3,(H,35,36,37)', 'standard_inchi_key': 'LOWIJALPIWAMBK-UHFFFAOYSA-N'}, 'molecule_type': 'Small molecule', 'natural_product': -1, 'oral': False, 'parenteral': False, 'polymer_flag': False, 'pref_name': None, 'prodrug': -1, 'structure_type': 'MOL', 'therapeutic_flag': False, 'topical': False, 'usan_stem': None, 'usan_stem_definition': None, 'usan_substem': None, 'usan_year': None, 'withdrawn_class': None, 'withdrawn_country': None, 'withdrawn_flag': False, 'withdrawn_reason': None, 'withdrawn_year': None}, '...(remaining elements truncated)...']"
     },
     "execution_count": 19,
     "metadata": {},
     "output_type": "execute_result"
    }
   ],
   "source": [
    "# Perform substructure search on query using client\n",
    "substructure = new_client.substructure\n",
    "records = substructure.filter(smiles=query)\n",
    "records"
   ]
  },
  {
   "cell_type": "markdown",
   "metadata": {
    "collapsed": true
   },
   "source": [
    "### Similarity searching\n",
    "\n",
    "The web services may also be used to perform SMILES-based similarity searches."
   ]
  },
  {
   "cell_type": "code",
   "execution_count": 20,
   "metadata": {},
   "outputs": [],
   "source": [
    "# Lapatinib\n",
    "smiles = \"CS(=O)(=O)CCNCc1oc(cc1)c2ccc3ncnc(Nc4ccc(OCc5cccc(F)c5)c(Cl)c4)c3c2\""
   ]
  },
  {
   "cell_type": "code",
   "execution_count": 21,
   "metadata": {},
   "outputs": [
    {
     "data": {
      "text/plain": "13"
     },
     "execution_count": 21,
     "metadata": {},
     "output_type": "execute_result"
    }
   ],
   "source": [
    "# Note that a percentage similarity must be supplied.\n",
    "similarity = new_client.similarity\n",
    "res = similarity.filter(smiles=smiles, similarity=85)\n",
    "len(res)"
   ]
  },
  {
   "cell_type": "code",
   "execution_count": 22,
   "metadata": {},
   "outputs": [
    {
     "data": {
      "text/plain": "d': '4.40', 'cx_logp': '4.64', 'cx_most_apka': None, 'cx_most_bpka': '7.26', 'full_molformula': 'C29H26ClFN4O4S', 'full_mwt': '581.07', 'hba': 8, 'hba_lipinski': 8, 'hbd': 2, 'hbd_lipinski': 2, 'heavy_atoms': 40, 'molecular_species': 'NEUTRAL', 'mw_freebase': '581.07', 'mw_monoisotopic': '580.1347', 'num_lipinski_ro5_violations': 2, 'num_ro5_violations': 2, 'psa': '106.35', 'qed_weighted': '0.18', 'ro3_pass': 'N', 'rtb': 11}, 'molecule_structures': {'canonical_smiles': 'CS(=O)(=O)CCNCc1ccc(-c2ccc3ncnc(Nc4ccc(OCc5cccc(F)c5)c(Cl)c4)c3c2)o1', 'molfile': '\\n     RDKit          2D\\n\\n 40 44  0  0  0  0  0  0  0  0999 V2000\\n    1.2602   -2.6079    0.0000 C   0  0  0  0  0  0  0  0  0  0  0  0\\n    0.4340   -2.6079    0.0000 C   0  0  0  0  0  0  0  0  0  0  0  0\\n    0.1797   -3.3915    0.0000 C   0  0  0  0  0  0  0  0  0  0  0  0\\n    0.8495   -3.8833    0.0000 O   0  0  0  0  0  0  0  0  0  0  0  0\\n    1.5192   -3.3915    0.0000 C   0  0  0  0  0  0  0  0  0  0  0  0\\n    2.2352   -3.8070    0.0000 C   0  0  0  0  0  0  0  0  0  0  0  0\\n    2.2338   -4.6360    0.0000 C   0  0  0  0  0  0  0  0  0  0  0  0\\n    2.9517   -5.0470    0.0000 C   0  0  0  0  0  0  0  0  0  0  0  0\\n    2.9496   -3.3912    0.0000 C   0  0  0  0  0  0  0  0  0  0  0  0\\n    3.6583   -3.8027    0.0000 C   0  0  0  0  0  0  0  0  0  0  0  0\\n    3.6594   -4.6317    0.0000 C   0  0  0  0  0  0  0  0  0  0  0  0\\n    4.3775   -5.0409    0.0000 N   0  0  0  0  0  0  0  0  0  0  0  0\\n    5.0945   -4.6272    0.0000 C   0  0  0  0  0  0  0  0  0  0  0  0\\n    5.0893   -3.7951    0.0000 N   0  0  0  0  0  0  0  0  0  0  0  0\\n    4.3709   -3.3848    0.0000 C   0  0  0  0  0  0  0  0  0  0  0  0\\n    4.3661   -2.5587    0.0000 N   0  0  0  0  0  0  0  0  0  0  0  0\\n    5.0797   -2.1438    0.0000 C   0  0  0  0  0  0  0  0  0  0  0  0\\n    5.7943   -2.5532    0.0000 C   0  0  0  0  0  0  0  0  0  0  0  0\\n    6.5075   -2.1392    0.0000 C   0  0  0  0  0  0  0  0  0  0  0  0\\n    6.5031   -1.3121    0.0000 C   0  0  0  0  0  0  0  0  0  0  0  0\\n    5.7796   -0.9011    0.0000 C   0  0  0  0  0  0  0  0  0  0  0  0\\n    5.0693   -1.3223    0.0000 C   0  0  0  0  0  0  0  0  0  0  0  0\\n    7.2162   -0.8915    0.0000 O   0  0  0  0  0  0  0  0  0  0  0  0\\n    7.9354   -1.3019    0.0000 C   0  0  0  0  0  0  0  0  0  0  0  0\\n    8.6436   -0.8813    0.0000 C   0  0  0  0  0  0  0  0  0  0  0  0\\n    5.7719   -0.0749    0.0000 Cl  0  0  0  0  0  0  0  0  0  0  0  0\\n    9.3606   -1.2940    0.0000 C   0  0  0  0  0  0  0  0  0  0  0  0\\n   10.0731   -0.8742    0.0000 C   0  0  0  0  0  0  0  0  0  0  0  0\\n   10.0677   -0.0472    0.0000 C   0  0  0  0  0  0  0  0  0  0  0  0\\n    9.3437    0.3582    0.0000 C   0  0  0  0  0  0  0  0  0  0  0  0\\n    8.6340   -0.0593    0.0000 C   0  0  0  0  0  0  0  0  0  0  0  0\\n   10.7920   -1.2849    0.0000 F   0  0  0  0  0  0  0  0  0  0  0  0\\n   -0.5410   -3.7974    0.0000 C   0  0  0  0  0  0  0  0  0  0  0  0\\n   -1.2518   -3.3728    0.0000 N   0  0  0  0  0  0  0  0  0  0  0  0\\n   -1.9684   -3.7790    0.0000 C   0  0  0  0  0  0  0  0  0  0  0  0\\n   -2.6792   -3.3544    0.0000 C   0  0  0  0  0  0  0  0  0  0  0  0\\n   -3.4005   -3.7605    0.0000 S   0  0  0  0  0  0  0  0  0  0  0  0\\n   -4.1113   -3.3359    0.0000 C   0  0  0  0  0  0  0  0  0  0  0  0\\n   -2.9954   -4.4689    0.0000 O   0  0  0  0  0  0  0  0  0  0  0  0\\n   -3.8215   -4.4689    0.0000 O   0  0  0  0  0  0  0  0  0  0  0  0\\n 16 17  1  0\\n 37 39  2  0\\n 37 40  2  0\\n 17 18  2  0\\n  7  8  1  0\\n 18 19  1  0\\n  8 11  2  0\\n 19 20  2  0\\n 20 21  1  0\\n 10  9  2  0\\n 21 22  2  0\\n 22 17  1  0\\n  9  6  1  0\\n 20 23  1  0\\n  1  2  1  0\\n 23 24  1  0\\n  2  3  2  0\\n 24 25  1  0\\n 10 11  1  0\\n 21 26  1  0\\n  3  4  1  0\\n 25 27  2  0\\n 11 12  1  0\\n 27 28  1  0\\n  4  5  1  0\\n 28 29  2  0\\n 12 13  2  0\\n 29 30  1  0\\n  5  1  2  0\\n 30 31  2  0\\n 31 25  1  0\\n 13 14  1  0\\n 28 32  1  0\\n  6  5  1  0\\n  3 33  1  0\\n 14 15  2  0\\n 33 34  1  0\\n 15 10  1  0\\n 34 35  1  0\\n 35 36  1  0\\n 15 16  1  0\\n 36 37  1  0\\n  6  7  2  0\\n 37 38  1  0\\nM  END\\n\\n> <chembl_id>\\nCHEMBL554\\n\\n> <chembl_pref_name>\\nLAPATINIB\\n\\n', 'standard_inchi': 'InChI=1S/C29H26ClFN4O4S/c1-40(36,37)12-11-32-16-23-7-10-27(39-23)20-5-8-26-24(14-20)29(34-18-33-26)35-22-6-9-28(25(30)15-22)38-17-19-3-2-4-21(31)13-19/h2-10,13-15,18,32H,11-12,16-17H2,1H3,(H,33,34,35)', 'standard_inchi_key': 'BCFGMOOMADDAQU-UHFFFAOYSA-N'}, 'molecule_type': 'Small molecule', 'natural_product': 0, 'oral': True, 'parenteral': False, 'polymer_flag': False, 'pref_name': 'LAPATINIB', 'prodrug': 0, 'similarity': '100', 'structure_type': 'MOL', 'therapeutic_flag': True, 'topical': False, 'usan_stem': '-tinib', 'usan_stem_definition': 'tyrosine kinase inhibitors', 'usan_substem': '-tinib', 'usan_year': 2003, 'withdrawn_class': None, 'withdrawn_country': None, 'withdrawn_flag': False, 'withdrawn_reason': None, 'withdrawn_year': None}, {'atc_classifications': [], 'availability_type': 1, 'biotherapeutic': None, 'black_box_warning': 1, 'chebi_par_id': None, 'chirality': 2, 'cross_references': [{'xref_id': 'lapatinib%20ditosylate', 'xref_name': 'lapatinib ditosylate', 'xref_src': 'DailyMed'}], 'dosed_ingredient': True, 'first_approval': 2007, 'first_in_class': 0, 'helm_notation': None, 'indication_class': None, 'inorganic_flag': 0, 'max_phase': 4, 'molecule_chembl_id': 'CHEMBL1201179', 'molecule_hierarchy': {'molecule_chembl_id': 'CHEMBL1201179', 'parent_chembl_id': 'CHEMBL554'}, 'molecule_properties': {'alogp': '6.14', 'aromatic_rings': 5, 'cx_logd': '4.40', 'cx_logp': '4.64', 'cx_most_apka': None, 'cx_most_bpka': '7.26', 'full_molformula': 'C43H44ClFN4O11S3', 'full_mwt': '943.49', 'hba': 8, 'hba_lipinski': 8, 'hbd': 2, 'hbd_lipinski': 2, 'heavy_atoms': 40, 'molecular_species': 'NEUTRAL', 'mw_freebase': '581.07', 'mw_monoisotopic': '580.1347', 'num_lipinski_ro5_violations': 2, 'num_ro5_violations': 2, 'psa': '106.35', 'qed_weighted': '0.18', 'ro3_pass': 'N', 'rtb': 11}, 'molecule_structures': {'canonical_smiles': 'CS(=O)(=O)CCNCc1ccc(-c2ccc3ncnc(Nc4ccc(OCc5cccc(F)c5)c(Cl)c4)c3c2)o1.Cc1ccc(S(=O)(=O)O)cc1.Cc1ccc(S(=O)(=O)O)cc1.O', 'molfile': '\\n     RDKit          2D\\n\\n 63 66  0  0  0  0  0  0  0  0999 V2000\\n   11.5944   -1.8833    0.0000 C   0  0  0  0  0  0  0  0  0  0  0  0\\n   11.5932   -2.5940    0.0000 C   0  0  0  0  0  0  0  0  0  0  0  0\\n   12.2081   -2.9485    0.0000 C   0  0  0  0  0  0  0  0  0  0  0  0\\n   12.8203   -2.5935    0.0000 C   0  0  0  0  0  0  0  0  0  0  0  0\\n   12.8175   -1.8797    0.0000 C   0  0  0  0  0  0  0  0  0  0  0  0\\n   12.2063   -1.5289    0.0000 C   0  0  0  0  0  0  0  0  0  0  0  0\\n   13.4297   -1.5235    0.0000 S   0  0  0  0  0  0  0  0  0  0  0  0\\n   14.0443   -1.8756    0.0000 O   0  0  0  0  0  0  0  0  0  0  0  0\\n   13.7792   -0.9042    0.0000 O   0  0  0  0  0  0  0  0  0  0  0  0\\n   13.0708   -0.9042    0.0000 O   0  0  0  0  0  0  0  0  0  0  0  0\\n   10.9796   -2.9478    0.0000 C   0  0  0  0  0  0  0  0  0  0  0  0\\n    1.0618   -0.7741    0.0000 C   0  0  0  0  0  0  0  0  0  0  0  0\\n    0.3535   -0.7741    0.0000 C   0  0  0  0  0  0  0  0  0  0  0  0\\n    0.1342   -1.4457    0.0000 C   0  0  0  0  0  0  0  0  0  0  0  0\\n    0.7076   -1.8658    0.0000 O   0  0  0  0  0  0  0  0  0  0  0  0\\n    1.2810   -1.4457    0.0000 C   0  0  0  0  0  0  0  0  0  0  0  0\\n    1.8944   -1.8000    0.0000 C   0  0  0  0  0  0  0  0  0  0  0  0\\n    1.8932   -2.5107    0.0000 C   0  0  0  0  0  0  0  0  0  0  0  0\\n    2.5081   -2.8652    0.0000 C   0  0  0  0  0  0  0  0  0  0  0  0\\n    2.5063   -1.4455    0.0000 C   0  0  0  0  0  0  0  0  0  0  0  0\\n    3.1175   -1.7963    0.0000 C   0  0  0  0  0  0  0  0  0  0  0  0\\n    3.1185   -2.5070    0.0000 C   0  0  0  0  0  0  0  0  0  0  0  0\\n    3.7336   -2.8599    0.0000 N   0  0  0  0  0  0  0  0  0  0  0  0\\n    4.3479   -2.5031    0.0000 C   0  0  0  0  0  0  0  0  0  0  0  0\\n    4.3434   -1.7897    0.0000 N   0  0  0  0  0  0  0  0  0  0  0  0\\n    3.7279   -1.4400    0.0000 C   0  0  0  0  0  0  0  0  0  0  0  0\\n    3.7238   -0.7317    0.0000 N   0  0  0  0  0  0  0  0  0  0  0  0\\n    4.3351   -0.3739    0.0000 C   0  0  0  0  0  0  0  0  0  0  0  0\\n    4.9472   -0.7270    0.0000 C   0  0  0  0  0  0  0  0  0  0  0  0\\n    5.5581   -0.3699    0.0000 C   0  0  0  0  0  0  0  0  0  0  0  0\\n    5.5543    0.3392    0.0000 C   0  0  0  0  0  0  0  0  0  0  0  0\\n    4.9345    0.6896    0.0000 C   0  0  0  0  0  0  0  0  0  0  0  0\\n    4.3261    0.3304    0.0000 C   0  0  0  0  0  0  0  0  0  0  0  0\\n    6.1652    0.6978    0.0000 O   0  0  0  0  0  0  0  0  0  0  0  0\\n    6.7812    0.3480    0.0000 C   0  0  0  0  0  0  0  0  0  0  0  0\\n    7.3920    0.7066    0.0000 C   0  0  0  0  0  0  0  0  0  0  0  0\\n    4.9279    1.3979    0.0000 Cl  0  0  0  0  0  0  0  0  0  0  0  0\\n    8.0062    0.3548    0.0000 C   0  0  0  0  0  0  0  0  0  0  0  0\\n    8.6166    0.7128    0.0000 C   0  0  0  0  0  0  0  0  0  0  0  0\\n    8.6119    1.4218    0.0000 C   0  0  0  0  0  0  0  0  0  0  0  0\\n    7.9916    1.7714    0.0000 C   0  0  0  0  0  0  0  0  0  0  0  0\\n    7.3837    1.4114    0.0000 C   0  0  0  0  0  0  0  0  0  0  0  0\\n    9.2324    0.3627    0.0000 F   0  0  0  0  0  0  0  0  0  0  0  0\\n   -0.4833   -1.7917    0.0000 C   0  0  0  0  0  0  0  0  0  0  0  0\\n   -1.0921   -1.4296    0.0000 N   0  0  0  0  0  0  0  0  0  0  0  0\\n   -1.7101   -1.7758    0.0000 C   0  0  0  0  0  0  0  0  0  0  0  0\\n   -2.3189   -1.4137    0.0000 C   0  0  0  0  0  0  0  0  0  0  0  0\\n   -2.9369   -1.7599    0.0000 S   0  0  0  0  0  0  0  0  0  0  0  0\\n   -3.5457   -1.3978    0.0000 C   0  0  0  0  0  0  0  0  0  0  0  0\\n   -2.5875   -2.3708    0.0000 O   0  0  0  0  0  0  0  0  0  0  0  0\\n   -3.2958   -2.3708    0.0000 O   0  0  0  0  0  0  0  0  0  0  0  0\\n    8.2569   -1.8833    0.0000 C   0  0  0  0  0  0  0  0  0  0  0  0\\n    8.2557   -2.5940    0.0000 C   0  0  0  0  0  0  0  0  0  0  0  0\\n    8.8706   -2.9485    0.0000 C   0  0  0  0  0  0  0  0  0  0  0  0\\n    9.4828   -2.5935    0.0000 C   0  0  0  0  0  0  0  0  0  0  0  0\\n    9.4800   -1.8797    0.0000 C   0  0  0  0  0  0  0  0  0  0  0  0\\n    8.8688   -1.5289    0.0000 C   0  0  0  0  0  0  0  0  0  0  0  0\\n   10.0922   -1.5235    0.0000 S   0  0  0  0  0  0  0  0  0  0  0  0\\n   10.7068   -1.8756    0.0000 O   0  0  0  0  0  0  0  0  0  0  0  0\\n   10.4417   -0.9042    0.0000 O   0  0  0  0  0  0  0  0  0  0  0  0\\n    9.7333   -0.9042    0.0000 O   0  0  0  0  0  0  0  0  0  0  0  0\\n    7.6421   -2.9478    0.0000 C   0  0  0  0  0  0  0  0  0  0  0  0\\n    6.5458   -2.8583    0.0000 O   0  0  0  0  0  0  0  0  0  0  0  0\\n  1  2  2  0\\n  2  3  1  0\\n  3  4  2  0\\n  4  5  1  0\\n  5  6  2  0\\n  6  1  1  0\\n  5  7  1  0\\n  7  8  1  0\\n  7  9  2  0\\n  7 10  2  0\\n  2 11  1  0\\n 39 40  2  0\\n 23 24  2  0\\n 40 41  1  0\\n 16 12  2  0\\n 41 42  2  0\\n 42 36  1  0\\n 24 25  1  0\\n 39 43  1  0\\n 17 16  1  0\\n 14 44  1  0\\n 25 26  2  0\\n 44 45  1  0\\n 26 21  1  0\\n 45 46  1  0\\n 46 47  1  0\\n 26 27  1  0\\n 47 48  1  0\\n 17 18  2  0\\n 48 49  1  0\\n 27 28  1  0\\n 48 50  2  0\\n 48 51  2  0\\n 28 29  2  0\\n 18 19  1  0\\n 29 30  1  0\\n 19 22  2  0\\n 30 31  2  0\\n 31 32  1  0\\n 21 20  2  0\\n 32 33  2  0\\n 33 28  1  0\\n 20 17  1  0\\n 31 34  1  0\\n 12 13  1  0\\n 34 35  1  0\\n 13 14  2  0\\n 35 36  1  0\\n 21 22  1  0\\n 32 37  1  0\\n 14 15  1  0\\n 36 38  2  0\\n 22 23  1  0\\n 38 39  1  0\\n 15 16  1  0\\n 52 53  2  0\\n 53 54  1  0\\n 54 55  2  0\\n 55 56  1  0\\n 56 57  2  0\\n 57 52  1  0\\n 56 58  1  0\\n 58 59  1  0\\n 58 60  2  0\\n 58 61  2  0\\n 53 62  1  0\\nM  END\\n\\n> <chembl_id>\\nCHEMBL1201179\\n\\n> <chembl_pref_name>\\nLAPATINIB DITOSYLATE\\n\\n', 'standard_inchi': 'InChI=1S/C29H26ClFN4O4S.2C7H8O3S.H2O/c1-40(36,37)12-11-32-16-23-7-10-27(39-23)20-5-8-26-24(14-20)29(34-18-33-26)35-22-6-9-28(25(30)15-22)38-17-19-3-2-4-21(31)13-19;2*1-6-2-4-7(5-3-6)11(8,9)10;/h2-10,13-15,18,32H,11-12,16-17H2,1H3,(H,33,34,35);2*2-5H,1H3,(H,8,9,10);1H2', 'standard_inchi_key': 'XNRVGTHNYCNCFF-UHFFFAOYSA-N'}, 'molecule_type': 'Small molecule', 'natural_product': 0, 'oral': True, 'parenteral': False, 'polymer_flag': False, 'pref_name': 'LAPATINIB DITOSYLATE', 'prodrug': 0, 'similarity': '100', 'structure_type': 'MOL', 'therapeutic_flag': True, 'topical': False, 'usan_stem': '-tinib', 'usan_stem_definition': 'tyrosine kinase inhibitors', 'usan_substem': '-tinib', 'usan_year': 2003, 'withdrawn_class': None, 'withdrawn_country': None, 'withdrawn_flag': False, 'withdrawn_reason': None, 'withdrawn_year': None}, {'atc_classifications': [], 'availability_type': -1, 'biotherapeutic': None, 'black_box_warning': 0, 'chebi_par_id': None, 'chirality': -1, 'cross_references': [], 'dosed_ingredient': False, 'first_approval': None, 'first_in_class': -1, 'helm_notation': None, 'indication_class': None, 'inorganic_flag': -1, 'max_phase': 0, 'molecule_chembl_id': 'CHEMBL1201183', 'molecule_hierarchy': {'molecule_chembl_id': 'CHEMBL1201183', 'parent_chembl_id': 'CHEMBL554'}, 'molecule_properties': {'alogp': '6.14', 'aromatic_rings': 5, 'cx_logd': '4.40', 'cx_logp': '4.64', 'cx_most_apka': None, 'cx_most_bpka': '7.26', 'full_molformula': 'C43H42ClFN4O10S3', 'full_mwt': '925.48', 'hba': 8, 'hba_lipinski': 8, 'hbd': 2, 'hbd_lipinski': 2, 'heavy_atoms': 40, 'molecular_species': 'NEUTRAL', 'mw_freebase': '581.07', 'mw_monoisotopic': '580.1347', 'num_lipinski_ro5_violations': 2, 'num_ro5_violations': 2, 'psa': '106.35', 'qed_weighted': '0.18', 'ro3_pass': 'N', 'rtb': 11}, 'molecule_structures': {'canonical_smiles': 'CS(=O)(=O)CCNCc1ccc(-c2ccc3ncnc(Nc4ccc(OCc5cccc(F)c5)c(Cl)c4)c3c2)o1.Cc1ccc(S(=O)(=O)O)cc1.Cc1ccc(S(=O)(=O)O)cc1', 'molfile': '\\n     RDKit          2D\\n\\n 62 66  0  0  0  0  0  0  0  0999 V2000\\n   11.6319   -3.3583    0.0000 C   0  0  0  0  0  0  0  0  0  0  0  0\\n   11.6307   -4.0690    0.0000 C   0  0  0  0  0  0  0  0  0  0  0  0\\n   12.2456   -4.4235    0.0000 C   0  0  0  0  0  0  0  0  0  0  0  0\\n   12.8578   -4.0685    0.0000 C   0  0  0  0  0  0  0  0  0  0  0  0\\n   12.8550   -3.3547    0.0000 C   0  0  0  0  0  0  0  0  0  0  0  0\\n   12.2438   -3.0039    0.0000 C   0  0  0  0  0  0  0  0  0  0  0  0\\n   13.4672   -2.9985    0.0000 S   0  0  0  0  0  0  0  0  0  0  0  0\\n   14.0818   -3.3506    0.0000 O   0  0  0  0  0  0  0  0  0  0  0  0\\n   13.8167   -2.3792    0.0000 O   0  0  0  0  0  0  0  0  0  0  0  0\\n   13.1083   -2.3792    0.0000 O   0  0  0  0  0  0  0  0  0  0  0  0\\n   11.0171   -4.4228    0.0000 C   0  0  0  0  0  0  0  0  0  0  0  0\\n    1.0868   -2.2491    0.0000 C   0  0  0  0  0  0  0  0  0  0  0  0\\n    0.3743   -2.2491    0.0000 C   0  0  0  0  0  0  0  0  0  0  0  0\\n    0.1550   -2.9249    0.0000 C   0  0  0  0  0  0  0  0  0  0  0  0\\n    0.7326   -3.3491    0.0000 O   0  0  0  0  0  0  0  0  0  0  0  0\\n    1.3102   -2.9249    0.0000 C   0  0  0  0  0  0  0  0  0  0  0  0\\n    1.9277   -3.2833    0.0000 C   0  0  0  0  0  0  0  0  0  0  0  0\\n    1.9265   -3.9982    0.0000 C   0  0  0  0  0  0  0  0  0  0  0  0\\n    2.5456   -4.3527    0.0000 C   0  0  0  0  0  0  0  0  0  0  0  0\\n    2.5438   -2.9247    0.0000 C   0  0  0  0  0  0  0  0  0  0  0  0\\n    3.1550   -3.2796    0.0000 C   0  0  0  0  0  0  0  0  0  0  0  0\\n    3.1560   -3.9945    0.0000 C   0  0  0  0  0  0  0  0  0  0  0  0\\n    3.7753   -4.3474    0.0000 N   0  0  0  0  0  0  0  0  0  0  0  0\\n    4.3937   -3.9906    0.0000 C   0  0  0  0  0  0  0  0  0  0  0  0\\n    4.3892   -3.2730    0.0000 N   0  0  0  0  0  0  0  0  0  0  0  0\\n    3.7696   -2.9192    0.0000 C   0  0  0  0  0  0  0  0  0  0  0  0\\n    3.7655   -2.2067    0.0000 N   0  0  0  0  0  0  0  0  0  0  0  0\\n    4.3809   -1.8489    0.0000 C   0  0  0  0  0  0  0  0  0  0  0  0\\n    4.9972   -2.2020    0.0000 C   0  0  0  0  0  0  0  0  0  0  0  0\\n    5.6123   -1.8449    0.0000 C   0  0  0  0  0  0  0  0  0  0  0  0\\n    5.6085   -1.1316    0.0000 C   0  0  0  0  0  0  0  0  0  0  0  0\\n    4.9845   -0.7771    0.0000 C   0  0  0  0  0  0  0  0  0  0  0  0\\n    4.3719   -1.1404    0.0000 C   0  0  0  0  0  0  0  0  0  0  0  0\\n    6.2235   -0.7689    0.0000 O   0  0  0  0  0  0  0  0  0  0  0  0\\n    6.8437   -1.1228    0.0000 C   0  0  0  0  0  0  0  0  0  0  0  0\\n    7.4545   -0.7601    0.0000 C   0  0  0  0  0  0  0  0  0  0  0  0\\n    4.9779   -0.0646    0.0000 Cl  0  0  0  0  0  0  0  0  0  0  0  0\\n    8.0729   -1.1160    0.0000 C   0  0  0  0  0  0  0  0  0  0  0  0\\n    8.6874   -0.7539    0.0000 C   0  0  0  0  0  0  0  0  0  0  0  0\\n    8.6827   -0.0407    0.0000 C   0  0  0  0  0  0  0  0  0  0  0  0\\n    8.0583    0.3089    0.0000 C   0  0  0  0  0  0  0  0  0  0  0  0\\n    7.4462   -0.0511    0.0000 C   0  0  0  0  0  0  0  0  0  0  0  0\\n    9.3074   -1.1081    0.0000 F   0  0  0  0  0  0  0  0  0  0  0  0\\n   -0.4666   -3.2750    0.0000 C   0  0  0  0  0  0  0  0  0  0  0  0\\n   -1.0796   -2.9088    0.0000 N   0  0  0  0  0  0  0  0  0  0  0  0\\n   -1.6976   -3.2591    0.0000 C   0  0  0  0  0  0  0  0  0  0  0  0\\n   -2.3106   -2.8929    0.0000 C   0  0  0  0  0  0  0  0  0  0  0  0\\n   -2.9327   -3.2432    0.0000 S   0  0  0  0  0  0  0  0  0  0  0  0\\n   -3.5457   -2.8770    0.0000 C   0  0  0  0  0  0  0  0  0  0  0  0\\n   -2.5833   -3.8541    0.0000 O   0  0  0  0  0  0  0  0  0  0  0  0\\n   -3.2958   -3.8541    0.0000 O   0  0  0  0  0  0  0  0  0  0  0  0\\n    8.2944   -3.3583    0.0000 C   0  0  0  0  0  0  0  0  0  0  0  0\\n    8.2932   -4.0690    0.0000 C   0  0  0  0  0  0  0  0  0  0  0  0\\n    8.9081   -4.4235    0.0000 C   0  0  0  0  0  0  0  0  0  0  0  0\\n    9.5203   -4.0685    0.0000 C   0  0  0  0  0  0  0  0  0  0  0  0\\n    9.5175   -3.3547    0.0000 C   0  0  0  0  0  0  0  0  0  0  0  0\\n    8.9063   -3.0039    0.0000 C   0  0  0  0  0  0  0  0  0  0  0  0\\n   10.1297   -2.9985    0.0000 S   0  0  0  0  0  0  0  0  0  0  0  0\\n   10.7443   -3.3506    0.0000 O   0  0  0  0  0  0  0  0  0  0  0  0\\n   10.4792   -2.3792    0.0000 O   0  0  0  0  0  0  0  0  0  0  0  0\\n    9.7708   -2.3792    0.0000 O   0  0  0  0  0  0  0  0  0  0  0  0\\n    7.6796   -4.4228    0.0000 C   0  0  0  0  0  0  0  0  0  0  0  0\\n  1  2  2  0\\n  2  3  1  0\\n  3  4  2  0\\n  4  5  1  0\\n  5  6  2  0\\n  6  1  1  0\\n  5  7  1  0\\n  7  8  1  0\\n  7  9  2  0\\n  7 10  2  0\\n  2 11  1  0\\n 27 28  1  0\\n 48 50  2  0\\n 48 51  2  0\\n 28 29  2  0\\n 18 19  1  0\\n 29 30  1  0\\n 19 22  2  0\\n 30 31  2  0\\n 31 32  1  0\\n 21 20  2  0\\n 32 33  2  0\\n 33 28  1  0\\n 20 17  1  0\\n 31 34  1  0\\n 12 13  1  0\\n 34 35  1  0\\n 13 14  2  0\\n 35 36  1  0\\n 21 22  1  0\\n 32 37  1  0\\n 14 15  1  0\\n 36 38  2  0\\n 22 23  1  0\\n 38 39  1  0\\n 15 16  1  0\\n 39 40  2  0\\n 23 24  2  0\\n 40 41  1  0\\n 16 12  2  0\\n 41 42  2  0\\n 42 36  1  0\\n 24 25  1  0\\n 39 43  1  0\\n 17 16  1  0\\n 14 44  1  0\\n 25 26  2  0\\n 44 45  1  0\\n 26 21  1  0\\n 45 46  1  0\\n 46 47  1  0\\n 26 27  1  0\\n 47 48  1  0\\n 17 18  2  0\\n 48 49  1  0\\n 52 53  2  0\\n 53 54  1  0\\n 54 55  2  0\\n 55 56  1  0\\n 56 57  2  0\\n 57 52  1  0\\n 56 58  1  0\\n 58 59  1  0\\n 58 60  2  0\\n 58 61  2  0\\n 53 62  1  0\\nM  END\\n\\n> <chembl_id>\\nCHEMBL1201183\\n\\n> <chembl_pref_name>\\nNone\\n\\n', 'standard_inchi': 'InChI=1S/C29H26ClFN4O4S.2C7H8O3S/c1-40(36,37)12-11-32-16-23-7-10-27(39-23)20-5-8-26-24(14-20)29(34-18-33-26)35-22-6-9-28(25(30)15-22)38-17-19-3-2-4-21(31)13-19;2*1-6-2-4-7(5-3-6)11(8,9)10/h2-10,13-15,18,32H,11-12,16-17H2,1H3,(H,33,34,35);2*2-5H,1H3,(H,8,9,10)', 'standard_inchi_key': 'UWYXLGUQQFPJRI-UHFFFAOYSA-N'}, 'molecule_type': 'Small molecule', 'natural_product': -1, 'oral': False, 'parenteral': False, 'polymer_flag': False, 'pref_name': None, 'prodrug': -1, 'similarity': '100', 'structure_type': 'MOL', 'therapeutic_flag': False, 'topical': False, 'usan_stem': None, 'usan_stem_definition': None, 'usan_substem': None, 'usan_year': None, 'withdrawn_class': None, 'withdrawn_country': None, 'withdrawn_flag': False, 'withdrawn_reason': None, 'withdrawn_year': None}, '...(remaining elements truncated)...']"
     },
     "execution_count": 22,
     "metadata": {},
     "output_type": "execute_result"
    }
   ],
   "source": [
    "res"
   ]
  },
  {
   "cell_type": "markdown",
   "metadata": {},
   "source": [
    "### Versions for a parent structure\n",
    "\n",
    "The versions (_e.g._ salt forms) for a parent compound may be retrieved for a ChEMBL ID. Keep in mind that a parent structure is one that has had salt/solvate components removed; it corresponds to the bioactive moiety and its use facilitates structure searching, comparison _etc_. A compound without salt/solvate components is its own parent."
   ]
  },
  {
   "cell_type": "code",
   "execution_count": 23,
   "metadata": {},
   "outputs": [],
   "source": [
    "# Neostigmine (a parent)...\n",
    "chembl_id = \"CHEMBL278020\" "
   ]
  },
  {
   "cell_type": "code",
   "execution_count": 24,
   "metadata": {},
   "outputs": [
    {
     "data": {
      "text/plain": "[{'is_parent': True,\n  'molecule_chembl_id': 'CHEMBL278020',\n  'parent_chembl_id': 'CHEMBL278020'},\n {'is_parent': False,\n  'molecule_chembl_id': 'CHEMBL54126',\n  'parent_chembl_id': 'CHEMBL278020'},\n {'is_parent': False,\n  'molecule_chembl_id': 'CHEMBL211471',\n  'parent_chembl_id': 'CHEMBL278020'}]"
     },
     "execution_count": 24,
     "metadata": {},
     "output_type": "execute_result"
    }
   ],
   "source": [
    "records = new_client.molecule_form.get(chembl_id)['molecule_forms']\n",
    "records"
   ]
  },
  {
   "cell_type": "markdown",
   "metadata": {},
   "source": [
    "The ChEMBL ID lookup service may now be used to get the full records for the salt forms..."
   ]
  },
  {
   "cell_type": "code",
   "execution_count": 25,
   "metadata": {},
   "outputs": [
    {
     "name": "stdout",
     "output_type": "stream",
     "text": "CHEMBL54126 : CN(C)C(=O)Oc1cccc([N+](C)(C)C)c1.[Br-]\nCHEMBL211471 : CN(C)C(=O)Oc1cccc([N+](C)(C)C)c1.COS(=O)(=O)[O-]\n"
    }
   ],
   "source": [
    "for chembl_id in [x[\"molecule_chembl_id\"] for x in records if x[\"is_parent\"] == False]:\n",
    "    record = new_client.molecule.get(chembl_id)          \n",
    "    print(\"{:10s} : {}\".format(chembl_id, record['molecule_structures']['canonical_smiles']))"
   ]
  },
  {
   "cell_type": "markdown",
   "metadata": {},
   "source": [
    "### Drug mechanism(s) of action\n",
    "\n",
    "The mechanisms of action of marketed drugs may be retrieved.\n",
    "\n",
    "Note that this data may not be recorded for the parent structure, but rather for one of its versions. For example, the marketed drug, Tykerb, containing the active ingredient Lapatinib (CHEMBL554) is actually the ditosylate monohydrate (CHEMBL1201179)."
   ]
  },
  {
   "cell_type": "code",
   "execution_count": 26,
   "metadata": {},
   "outputs": [
    {
     "name": "stdout",
     "output_type": "stream",
     "text": "The recorded mechanisms of action of 'CHEMBL554' are...\n--------------------------------------------------\nThe recorded mechanisms of action of 'CHEMBL1076241' are...\n--------------------------------------------------\nThe recorded mechanisms of action of 'CHEMBL1201179' are...\nCHEMBL1201179 : Receptor protein-tyrosine kinase erbB-2 inhibitor\nCHEMBL1201179 : Epidermal growth factor receptor erbB1 inhibitor\n--------------------------------------------------\nThe recorded mechanisms of action of 'CHEMBL1201183' are...\n--------------------------------------------------\nThe recorded mechanisms of action of 'CHEMBL3526325' are...\n--------------------------------------------------\n"
    }
   ],
   "source": [
    "# Molecule forms for Lapatinib are used here...\n",
    "for chembl_id in (x[\"molecule_chembl_id\"] for x in new_client.molecule_form.get(\"CHEMBL554\")['molecule_forms']):\n",
    "    print(\"The recorded mechanisms of action of '{}' are...\".format(chembl_id))\n",
    "    mechanism_records = new_client.mechanism.filter(molecule_chembl_id=chembl_id)\n",
    "    if mechanism_records:\n",
    "        for mech_rec in mechanism_records:\n",
    "            print(\"{:10s} : {}\".format(mech_rec[\"molecule_chembl_id\"], mech_rec[\"mechanism_of_action\"]))\n",
    "    print(\"-\" * 50)"
   ]
  },
  {
   "cell_type": "markdown",
   "metadata": {},
   "source": [
    "### Image query\n",
    "\n",
    "The webservice may be used to obtain a SVG image of a compound."
   ]
  },
  {
   "cell_type": "code",
   "execution_count": 27,
   "metadata": {},
   "outputs": [],
   "source": [
    "# Lapatinib ditosylate monohydrate (Tykerb)\n",
    "chembl_id = \"CHEMBL1201179\" "
   ]
  },
  {
   "cell_type": "code",
   "execution_count": 28,
   "metadata": {},
   "outputs": [
    {
     "data": {
      "image/svg+xml": "<svg baseProfile=\"full\" height=\"500px\" version=\"1.1\" viewBox=\"0 0 500 500\" width=\"500px\" xml:space=\"preserve\" xmlns=\"http://www.w3.org/2000/svg\" xmlns:rdkit=\"http://www.rdkit.org/xml\" xmlns:xlink=\"http://www.w3.org/1999/xlink\">\n<!-- END OF HEADER -->\n<path class=\"bond-0\" d=\"M 404.201,282.623 L 404.171,300.53\" style=\"fill:none;fill-rule:evenodd;stroke:#000000;stroke-width:2px;stroke-linecap:butt;stroke-linejoin:miter;stroke-opacity:1\"/>\n<path class=\"bond-0\" d=\"M 408.732,285.317 L 408.711,297.851\" style=\"fill:none;fill-rule:evenodd;stroke:#000000;stroke-width:2px;stroke-linecap:butt;stroke-linejoin:miter;stroke-opacity:1\"/>\n<path class=\"bond-5\" d=\"M 404.201,282.623 L 419.619,273.693\" style=\"fill:none;fill-rule:evenodd;stroke:#000000;stroke-width:2px;stroke-linecap:butt;stroke-linejoin:miter;stroke-opacity:1\"/>\n<path class=\"bond-1\" d=\"M 404.171,300.53 L 419.664,309.462\" style=\"fill:none;fill-rule:evenodd;stroke:#000000;stroke-width:2px;stroke-linecap:butt;stroke-linejoin:miter;stroke-opacity:1\"/>\n<path class=\"bond-10\" d=\"M 404.171,300.53 L 388.711,309.444\" style=\"fill:none;fill-rule:evenodd;stroke:#000000;stroke-width:2px;stroke-linecap:butt;stroke-linejoin:miter;stroke-opacity:1\"/>\n<path class=\"bond-2\" d=\"M 419.664,309.462 L 435.09,300.517\" style=\"fill:none;fill-rule:evenodd;stroke:#000000;stroke-width:2px;stroke-linecap:butt;stroke-linejoin:miter;stroke-opacity:1\"/>\n<path class=\"bond-2\" d=\"M 419.703,304.197 L 430.501,297.936\" style=\"fill:none;fill-rule:evenodd;stroke:#000000;stroke-width:2px;stroke-linecap:butt;stroke-linejoin:miter;stroke-opacity:1\"/>\n<path class=\"bond-3\" d=\"M 435.09,300.517 L 435.019,282.532\" style=\"fill:none;fill-rule:evenodd;stroke:#000000;stroke-width:2px;stroke-linecap:butt;stroke-linejoin:miter;stroke-opacity:1\"/>\n<path class=\"bond-4\" d=\"M 435.019,282.532 L 419.619,273.693\" style=\"fill:none;fill-rule:evenodd;stroke:#000000;stroke-width:2px;stroke-linecap:butt;stroke-linejoin:miter;stroke-opacity:1\"/>\n<path class=\"bond-4\" d=\"M 430.451,285.14 L 419.671,278.953\" style=\"fill:none;fill-rule:evenodd;stroke:#000000;stroke-width:2px;stroke-linecap:butt;stroke-linejoin:miter;stroke-opacity:1\"/>\n<path class=\"bond-6\" d=\"M 435.019,282.532 L 440.21,279.512\" style=\"fill:none;fill-rule:evenodd;stroke:#000000;stroke-width:2px;stroke-linecap:butt;stroke-linejoin:miter;stroke-opacity:1\"/>\n<path class=\"bond-6\" d=\"M 440.21,279.512 L 445.4,276.492\" style=\"fill:none;fill-rule:evenodd;stroke:#CCCC00;stroke-width:2px;stroke-linecap:butt;stroke-linejoin:miter;stroke-opacity:1\"/>\n<path class=\"bond-7\" d=\"M 455.488,276.447 L 455.211,276.288\" style=\"fill:none;fill-rule:evenodd;stroke:#CCCC00;stroke-width:2px;stroke-linecap:butt;stroke-linejoin:miter;stroke-opacity:1\"/>\n<path class=\"bond-7\" d=\"M 455.211,276.288 L 454.935,276.13\" style=\"fill:none;fill-rule:evenodd;stroke:#FF0000;stroke-width:2px;stroke-linecap:butt;stroke-linejoin:miter;stroke-opacity:1\"/>\n<path class=\"bond-8\" d=\"M 455.974,268.373 L 456.822,266.87\" style=\"fill:none;fill-rule:evenodd;stroke:#CCCC00;stroke-width:2px;stroke-linecap:butt;stroke-linejoin:miter;stroke-opacity:1\"/>\n<path class=\"bond-8\" d=\"M 456.822,266.87 L 457.67,265.367\" style=\"fill:none;fill-rule:evenodd;stroke:#FF0000;stroke-width:2px;stroke-linecap:butt;stroke-linejoin:miter;stroke-opacity:1\"/>\n<path class=\"bond-8\" d=\"M 452.024,266.144 L 452.872,264.641\" style=\"fill:none;fill-rule:evenodd;stroke:#CCCC00;stroke-width:2px;stroke-linecap:butt;stroke-linejoin:miter;stroke-opacity:1\"/>\n<path class=\"bond-8\" d=\"M 452.872,264.641 L 453.721,263.138\" style=\"fill:none;fill-rule:evenodd;stroke:#FF0000;stroke-width:2px;stroke-linecap:butt;stroke-linejoin:miter;stroke-opacity:1\"/>\n<path class=\"bond-9\" d=\"M 448.756,266.121 L 447.885,264.618\" style=\"fill:none;fill-rule:evenodd;stroke:#CCCC00;stroke-width:2px;stroke-linecap:butt;stroke-linejoin:miter;stroke-opacity:1\"/>\n<path class=\"bond-9\" d=\"M 447.885,264.618 L 447.014,263.115\" style=\"fill:none;fill-rule:evenodd;stroke:#FF0000;stroke-width:2px;stroke-linecap:butt;stroke-linejoin:miter;stroke-opacity:1\"/>\n<path class=\"bond-9\" d=\"M 444.832,268.395 L 443.961,266.892\" style=\"fill:none;fill-rule:evenodd;stroke:#CCCC00;stroke-width:2px;stroke-linecap:butt;stroke-linejoin:miter;stroke-opacity:1\"/>\n<path class=\"bond-9\" d=\"M 443.961,266.892 L 443.09,265.389\" style=\"fill:none;fill-rule:evenodd;stroke:#FF0000;stroke-width:2px;stroke-linecap:butt;stroke-linejoin:miter;stroke-opacity:1\"/>\n<path class=\"bond-14\" d=\"M 138.819,254.675 L 144.342,271.597\" style=\"fill:none;fill-rule:evenodd;stroke:#000000;stroke-width:2px;stroke-linecap:butt;stroke-linejoin:miter;stroke-opacity:1\"/>\n<path class=\"bond-14\" d=\"M 135.336,258.621 L 139.202,270.466\" style=\"fill:none;fill-rule:evenodd;stroke:#000000;stroke-width:2px;stroke-linecap:butt;stroke-linejoin:miter;stroke-opacity:1\"/>\n<path class=\"bond-44\" d=\"M 138.819,254.675 L 120.973,254.675\" style=\"fill:none;fill-rule:evenodd;stroke:#000000;stroke-width:2px;stroke-linecap:butt;stroke-linejoin:miter;stroke-opacity:1\"/>\n<path class=\"bond-46\" d=\"M 120.973,254.675 L 115.447,271.597\" style=\"fill:none;fill-rule:evenodd;stroke:#000000;stroke-width:2px;stroke-linecap:butt;stroke-linejoin:miter;stroke-opacity:1\"/>\n<path class=\"bond-46\" d=\"M 124.455,258.621 L 120.587,270.467\" style=\"fill:none;fill-rule:evenodd;stroke:#000000;stroke-width:2px;stroke-linecap:butt;stroke-linejoin:miter;stroke-opacity:1\"/>\n<path class=\"bond-20\" d=\"M 115.447,271.597 L 99.8884,280.315\" style=\"fill:none;fill-rule:evenodd;stroke:#000000;stroke-width:2px;stroke-linecap:butt;stroke-linejoin:miter;stroke-opacity:1\"/>\n<path class=\"bond-50\" d=\"M 115.447,271.597 L 119.729,274.734\" style=\"fill:none;fill-rule:evenodd;stroke:#000000;stroke-width:2px;stroke-linecap:butt;stroke-linejoin:miter;stroke-opacity:1\"/>\n<path class=\"bond-50\" d=\"M 119.729,274.734 L 124.011,277.872\" style=\"fill:none;fill-rule:evenodd;stroke:#FF0000;stroke-width:2px;stroke-linecap:butt;stroke-linejoin:miter;stroke-opacity:1\"/>\n<path class=\"bond-54\" d=\"M 135.778,277.872 L 140.06,274.734\" style=\"fill:none;fill-rule:evenodd;stroke:#FF0000;stroke-width:2px;stroke-linecap:butt;stroke-linejoin:miter;stroke-opacity:1\"/>\n<path class=\"bond-54\" d=\"M 140.06,274.734 L 144.342,271.597\" style=\"fill:none;fill-rule:evenodd;stroke:#000000;stroke-width:2px;stroke-linecap:butt;stroke-linejoin:miter;stroke-opacity:1\"/>\n<path class=\"bond-19\" d=\"M 144.342,271.597 L 159.798,280.524\" style=\"fill:none;fill-rule:evenodd;stroke:#000000;stroke-width:2px;stroke-linecap:butt;stroke-linejoin:miter;stroke-opacity:1\"/>\n<path class=\"bond-28\" d=\"M 159.798,280.524 L 159.767,298.431\" style=\"fill:none;fill-rule:evenodd;stroke:#000000;stroke-width:2px;stroke-linecap:butt;stroke-linejoin:miter;stroke-opacity:1\"/>\n<path class=\"bond-28\" d=\"M 164.328,283.218 L 164.307,295.753\" style=\"fill:none;fill-rule:evenodd;stroke:#000000;stroke-width:2px;stroke-linecap:butt;stroke-linejoin:miter;stroke-opacity:1\"/>\n<path class=\"bond-42\" d=\"M 159.798,280.524 L 175.215,271.592\" style=\"fill:none;fill-rule:evenodd;stroke:#000000;stroke-width:2px;stroke-linecap:butt;stroke-linejoin:miter;stroke-opacity:1\"/>\n<path class=\"bond-34\" d=\"M 159.767,298.431 L 175.261,307.363\" style=\"fill:none;fill-rule:evenodd;stroke:#000000;stroke-width:2px;stroke-linecap:butt;stroke-linejoin:miter;stroke-opacity:1\"/>\n<path class=\"bond-36\" d=\"M 175.261,307.363 L 190.64,298.338\" style=\"fill:none;fill-rule:evenodd;stroke:#000000;stroke-width:2px;stroke-linecap:butt;stroke-linejoin:miter;stroke-opacity:1\"/>\n<path class=\"bond-36\" d=\"M 175.272,302.098 L 186.038,295.78\" style=\"fill:none;fill-rule:evenodd;stroke:#000000;stroke-width:2px;stroke-linecap:butt;stroke-linejoin:miter;stroke-opacity:1\"/>\n<path class=\"bond-39\" d=\"M 175.215,271.592 L 190.615,280.431\" style=\"fill:none;fill-rule:evenodd;stroke:#000000;stroke-width:2px;stroke-linecap:butt;stroke-linejoin:miter;stroke-opacity:1\"/>\n<path class=\"bond-39\" d=\"M 175.268,276.851 L 186.048,283.038\" style=\"fill:none;fill-rule:evenodd;stroke:#000000;stroke-width:2px;stroke-linecap:butt;stroke-linejoin:miter;stroke-opacity:1\"/>\n<path class=\"bond-23\" d=\"M 190.615,280.431 L 205.995,271.453\" style=\"fill:none;fill-rule:evenodd;stroke:#000000;stroke-width:2px;stroke-linecap:butt;stroke-linejoin:miter;stroke-opacity:1\"/>\n<path class=\"bond-48\" d=\"M 190.615,280.431 L 190.64,298.338\" style=\"fill:none;fill-rule:evenodd;stroke:#000000;stroke-width:2px;stroke-linecap:butt;stroke-linejoin:miter;stroke-opacity:1\"/>\n<path class=\"bond-52\" d=\"M 190.64,298.338 L 195.66,301.217\" style=\"fill:none;fill-rule:evenodd;stroke:#000000;stroke-width:2px;stroke-linecap:butt;stroke-linejoin:miter;stroke-opacity:1\"/>\n<path class=\"bond-52\" d=\"M 195.66,301.217 L 200.679,304.097\" style=\"fill:none;fill-rule:evenodd;stroke:#0000FF;stroke-width:2px;stroke-linecap:butt;stroke-linejoin:miter;stroke-opacity:1\"/>\n<path class=\"bond-12\" d=\"M 211.598,304.058 L 216.607,301.149\" style=\"fill:none;fill-rule:evenodd;stroke:#0000FF;stroke-width:2px;stroke-linecap:butt;stroke-linejoin:miter;stroke-opacity:1\"/>\n<path class=\"bond-12\" d=\"M 216.607,301.149 L 221.617,298.24\" style=\"fill:none;fill-rule:evenodd;stroke:#000000;stroke-width:2px;stroke-linecap:butt;stroke-linejoin:miter;stroke-opacity:1\"/>\n<path class=\"bond-12\" d=\"M 210.823,299.264 L 214.33,297.227\" style=\"fill:none;fill-rule:evenodd;stroke:#0000FF;stroke-width:2px;stroke-linecap:butt;stroke-linejoin:miter;stroke-opacity:1\"/>\n<path class=\"bond-12\" d=\"M 214.33,297.227 L 217.836,295.191\" style=\"fill:none;fill-rule:evenodd;stroke:#000000;stroke-width:2px;stroke-linecap:butt;stroke-linejoin:miter;stroke-opacity:1\"/>\n<path class=\"bond-17\" d=\"M 221.617,298.24 L 221.58,292.402\" style=\"fill:none;fill-rule:evenodd;stroke:#000000;stroke-width:2px;stroke-linecap:butt;stroke-linejoin:miter;stroke-opacity:1\"/>\n<path class=\"bond-17\" d=\"M 221.58,292.402 L 221.543,286.564\" style=\"fill:none;fill-rule:evenodd;stroke:#0000FF;stroke-width:2px;stroke-linecap:butt;stroke-linejoin:miter;stroke-opacity:1\"/>\n<path class=\"bond-21\" d=\"M 216.044,277.163 L 211.019,274.308\" style=\"fill:none;fill-rule:evenodd;stroke:#0000FF;stroke-width:2px;stroke-linecap:butt;stroke-linejoin:miter;stroke-opacity:1\"/>\n<path class=\"bond-21\" d=\"M 211.019,274.308 L 205.995,271.453\" style=\"fill:none;fill-rule:evenodd;stroke:#000000;stroke-width:2px;stroke-linecap:butt;stroke-linejoin:miter;stroke-opacity:1\"/>\n<path class=\"bond-21\" d=\"M 212.296,280.249 L 208.779,278.251\" style=\"fill:none;fill-rule:evenodd;stroke:#0000FF;stroke-width:2px;stroke-linecap:butt;stroke-linejoin:miter;stroke-opacity:1\"/>\n<path class=\"bond-21\" d=\"M 208.779,278.251 L 205.262,276.253\" style=\"fill:none;fill-rule:evenodd;stroke:#000000;stroke-width:2px;stroke-linecap:butt;stroke-linejoin:miter;stroke-opacity:1\"/>\n<path class=\"bond-26\" d=\"M 205.995,271.453 L 205.962,265.68\" style=\"fill:none;fill-rule:evenodd;stroke:#000000;stroke-width:2px;stroke-linecap:butt;stroke-linejoin:miter;stroke-opacity:1\"/>\n<path class=\"bond-26\" d=\"M 205.962,265.68 L 205.928,259.906\" style=\"fill:none;fill-rule:evenodd;stroke:#0000FF;stroke-width:2px;stroke-linecap:butt;stroke-linejoin:miter;stroke-opacity:1\"/>\n<path class=\"bond-30\" d=\"M 216.654,247.308 L 218.974,245.95\" style=\"fill:none;fill-rule:evenodd;stroke:#0000FF;stroke-width:2px;stroke-linecap:butt;stroke-linejoin:miter;stroke-opacity:1\"/>\n<path class=\"bond-30\" d=\"M 218.974,245.95 L 221.294,244.592\" style=\"fill:none;fill-rule:evenodd;stroke:#000000;stroke-width:2px;stroke-linecap:butt;stroke-linejoin:miter;stroke-opacity:1\"/>\n<path class=\"bond-33\" d=\"M 221.294,244.592 L 236.717,253.488\" style=\"fill:none;fill-rule:evenodd;stroke:#000000;stroke-width:2px;stroke-linecap:butt;stroke-linejoin:miter;stroke-opacity:1\"/>\n<path class=\"bond-33\" d=\"M 225.874,241.998 L 236.67,248.225\" style=\"fill:none;fill-rule:evenodd;stroke:#000000;stroke-width:2px;stroke-linecap:butt;stroke-linejoin:miter;stroke-opacity:1\"/>\n<path class=\"bond-41\" d=\"M 221.294,244.592 L 221.067,226.846\" style=\"fill:none;fill-rule:evenodd;stroke:#000000;stroke-width:2px;stroke-linecap:butt;stroke-linejoin:miter;stroke-opacity:1\"/>\n<path class=\"bond-35\" d=\"M 236.717,253.488 L 252.109,244.491\" style=\"fill:none;fill-rule:evenodd;stroke:#000000;stroke-width:2px;stroke-linecap:butt;stroke-linejoin:miter;stroke-opacity:1\"/>\n<path class=\"bond-37\" d=\"M 252.109,244.491 L 252.013,226.624\" style=\"fill:none;fill-rule:evenodd;stroke:#000000;stroke-width:2px;stroke-linecap:butt;stroke-linejoin:miter;stroke-opacity:1\"/>\n<path class=\"bond-37\" d=\"M 247.56,241.835 L 247.493,229.328\" style=\"fill:none;fill-rule:evenodd;stroke:#000000;stroke-width:2px;stroke-linecap:butt;stroke-linejoin:miter;stroke-opacity:1\"/>\n<path class=\"bond-38\" d=\"M 252.013,226.624 L 236.397,217.795\" style=\"fill:none;fill-rule:evenodd;stroke:#000000;stroke-width:2px;stroke-linecap:butt;stroke-linejoin:miter;stroke-opacity:1\"/>\n<path class=\"bond-43\" d=\"M 252.013,226.624 L 256.768,223.833\" style=\"fill:none;fill-rule:evenodd;stroke:#000000;stroke-width:2px;stroke-linecap:butt;stroke-linejoin:miter;stroke-opacity:1\"/>\n<path class=\"bond-43\" d=\"M 256.768,223.833 L 261.523,221.042\" style=\"fill:none;fill-rule:evenodd;stroke:#FF0000;stroke-width:2px;stroke-linecap:butt;stroke-linejoin:miter;stroke-opacity:1\"/>\n<path class=\"bond-40\" d=\"M 236.397,217.795 L 221.067,226.846\" style=\"fill:none;fill-rule:evenodd;stroke:#000000;stroke-width:2px;stroke-linecap:butt;stroke-linejoin:miter;stroke-opacity:1\"/>\n<path class=\"bond-40\" d=\"M 236.403,223.058 L 225.673,229.394\" style=\"fill:none;fill-rule:evenodd;stroke:#000000;stroke-width:2px;stroke-linecap:butt;stroke-linejoin:miter;stroke-opacity:1\"/>\n<path class=\"bond-49\" d=\"M 236.397,217.795 L 236.343,212.022\" style=\"fill:none;fill-rule:evenodd;stroke:#000000;stroke-width:2px;stroke-linecap:butt;stroke-linejoin:miter;stroke-opacity:1\"/>\n<path class=\"bond-49\" d=\"M 236.343,212.022 L 236.289,206.248\" style=\"fill:none;fill-rule:evenodd;stroke:#00CC00;stroke-width:2px;stroke-linecap:butt;stroke-linejoin:miter;stroke-opacity:1\"/>\n<path class=\"bond-45\" d=\"M 273.289,220.93 L 278.108,223.666\" style=\"fill:none;fill-rule:evenodd;stroke:#FF0000;stroke-width:2px;stroke-linecap:butt;stroke-linejoin:miter;stroke-opacity:1\"/>\n<path class=\"bond-45\" d=\"M 278.108,223.666 L 282.927,226.402\" style=\"fill:none;fill-rule:evenodd;stroke:#000000;stroke-width:2px;stroke-linecap:butt;stroke-linejoin:miter;stroke-opacity:1\"/>\n<path class=\"bond-47\" d=\"M 282.927,226.402 L 298.317,217.367\" style=\"fill:none;fill-rule:evenodd;stroke:#000000;stroke-width:2px;stroke-linecap:butt;stroke-linejoin:miter;stroke-opacity:1\"/>\n<path class=\"bond-16\" d=\"M 298.317,217.367 L 298.108,199.609\" style=\"fill:none;fill-rule:evenodd;stroke:#000000;stroke-width:2px;stroke-linecap:butt;stroke-linejoin:miter;stroke-opacity:1\"/>\n<path class=\"bond-51\" d=\"M 298.317,217.367 L 313.792,226.231\" style=\"fill:none;fill-rule:evenodd;stroke:#000000;stroke-width:2px;stroke-linecap:butt;stroke-linejoin:miter;stroke-opacity:1\"/>\n<path class=\"bond-51\" d=\"M 302.892,214.761 L 313.725,220.966\" style=\"fill:none;fill-rule:evenodd;stroke:#000000;stroke-width:2px;stroke-linecap:butt;stroke-linejoin:miter;stroke-opacity:1\"/>\n<path class=\"bond-53\" d=\"M 313.792,226.231 L 329.172,217.211\" style=\"fill:none;fill-rule:evenodd;stroke:#000000;stroke-width:2px;stroke-linecap:butt;stroke-linejoin:miter;stroke-opacity:1\"/>\n<path class=\"bond-11\" d=\"M 329.172,217.211 L 329.054,199.347\" style=\"fill:none;fill-rule:evenodd;stroke:#000000;stroke-width:2px;stroke-linecap:butt;stroke-linejoin:miter;stroke-opacity:1\"/>\n<path class=\"bond-11\" d=\"M 324.619,214.561 L 324.536,202.056\" style=\"fill:none;fill-rule:evenodd;stroke:#000000;stroke-width:2px;stroke-linecap:butt;stroke-linejoin:miter;stroke-opacity:1\"/>\n<path class=\"bond-18\" d=\"M 329.172,217.211 L 334.62,220.308\" style=\"fill:none;fill-rule:evenodd;stroke:#000000;stroke-width:2px;stroke-linecap:butt;stroke-linejoin:miter;stroke-opacity:1\"/>\n<path class=\"bond-18\" d=\"M 334.62,220.308 L 340.068,223.405\" style=\"fill:none;fill-rule:evenodd;stroke:#33CCCC;stroke-width:2px;stroke-linecap:butt;stroke-linejoin:miter;stroke-opacity:1\"/>\n<path class=\"bond-13\" d=\"M 329.054,199.347 L 313.424,190.538\" style=\"fill:none;fill-rule:evenodd;stroke:#000000;stroke-width:2px;stroke-linecap:butt;stroke-linejoin:miter;stroke-opacity:1\"/>\n<path class=\"bond-15\" d=\"M 313.424,190.538 L 298.108,199.609\" style=\"fill:none;fill-rule:evenodd;stroke:#000000;stroke-width:2px;stroke-linecap:butt;stroke-linejoin:miter;stroke-opacity:1\"/>\n<path class=\"bond-15\" d=\"M 313.438,195.801 L 302.716,202.15\" style=\"fill:none;fill-rule:evenodd;stroke:#000000;stroke-width:2px;stroke-linecap:butt;stroke-linejoin:miter;stroke-opacity:1\"/>\n<path class=\"bond-22\" d=\"M 99.8884,280.315 L 97.5139,278.903\" style=\"fill:none;fill-rule:evenodd;stroke:#000000;stroke-width:2px;stroke-linecap:butt;stroke-linejoin:miter;stroke-opacity:1\"/>\n<path class=\"bond-22\" d=\"M 97.5139,278.903 L 95.1395,277.49\" style=\"fill:none;fill-rule:evenodd;stroke:#0000FF;stroke-width:2px;stroke-linecap:butt;stroke-linejoin:miter;stroke-opacity:1\"/>\n<path class=\"bond-24\" d=\"M 73.6295,277.308 L 71.3035,278.611\" style=\"fill:none;fill-rule:evenodd;stroke:#0000FF;stroke-width:2px;stroke-linecap:butt;stroke-linejoin:miter;stroke-opacity:1\"/>\n<path class=\"bond-24\" d=\"M 71.3035,278.611 L 68.9776,279.914\" style=\"fill:none;fill-rule:evenodd;stroke:#000000;stroke-width:2px;stroke-linecap:butt;stroke-linejoin:miter;stroke-opacity:1\"/>\n<path class=\"bond-25\" d=\"M 68.9776,279.914 L 53.6381,270.791\" style=\"fill:none;fill-rule:evenodd;stroke:#000000;stroke-width:2px;stroke-linecap:butt;stroke-linejoin:miter;stroke-opacity:1\"/>\n<path class=\"bond-27\" d=\"M 53.6381,270.791 L 48.3743,273.739\" style=\"fill:none;fill-rule:evenodd;stroke:#000000;stroke-width:2px;stroke-linecap:butt;stroke-linejoin:miter;stroke-opacity:1\"/>\n<path class=\"bond-27\" d=\"M 48.3743,273.739 L 43.1106,276.688\" style=\"fill:none;fill-rule:evenodd;stroke:#CCCC00;stroke-width:2px;stroke-linecap:butt;stroke-linejoin:miter;stroke-opacity:1\"/>\n<path class=\"bond-29\" d=\"M 33.023,276.514 L 27.8751,273.452\" style=\"fill:none;fill-rule:evenodd;stroke:#CCCC00;stroke-width:2px;stroke-linecap:butt;stroke-linejoin:miter;stroke-opacity:1\"/>\n<path class=\"bond-29\" d=\"M 27.8751,273.452 L 22.7273,270.39\" style=\"fill:none;fill-rule:evenodd;stroke:#000000;stroke-width:2px;stroke-linecap:butt;stroke-linejoin:miter;stroke-opacity:1\"/>\n<path class=\"bond-31\" d=\"M 39.701,286.939 L 40.5001,288.336\" style=\"fill:none;fill-rule:evenodd;stroke:#CCCC00;stroke-width:2px;stroke-linecap:butt;stroke-linejoin:miter;stroke-opacity:1\"/>\n<path class=\"bond-31\" d=\"M 40.5001,288.336 L 41.2992,289.733\" style=\"fill:none;fill-rule:evenodd;stroke:#FF0000;stroke-width:2px;stroke-linecap:butt;stroke-linejoin:miter;stroke-opacity:1\"/>\n<path class=\"bond-31\" d=\"M 43.6379,284.687 L 44.437,286.084\" style=\"fill:none;fill-rule:evenodd;stroke:#CCCC00;stroke-width:2px;stroke-linecap:butt;stroke-linejoin:miter;stroke-opacity:1\"/>\n<path class=\"bond-31\" d=\"M 44.437,286.084 L 45.2361,287.481\" style=\"fill:none;fill-rule:evenodd;stroke:#FF0000;stroke-width:2px;stroke-linecap:butt;stroke-linejoin:miter;stroke-opacity:1\"/>\n<path class=\"bond-32\" d=\"M 32.4109,284.664 L 31.5901,286.061\" style=\"fill:none;fill-rule:evenodd;stroke:#CCCC00;stroke-width:2px;stroke-linecap:butt;stroke-linejoin:miter;stroke-opacity:1\"/>\n<path class=\"bond-32\" d=\"M 31.5901,286.061 L 30.7693,287.458\" style=\"fill:none;fill-rule:evenodd;stroke:#FF0000;stroke-width:2px;stroke-linecap:butt;stroke-linejoin:miter;stroke-opacity:1\"/>\n<path class=\"bond-32\" d=\"M 36.3213,286.961 L 35.5005,288.359\" style=\"fill:none;fill-rule:evenodd;stroke:#CCCC00;stroke-width:2px;stroke-linecap:butt;stroke-linejoin:miter;stroke-opacity:1\"/>\n<path class=\"bond-32\" d=\"M 35.5005,288.359 L 34.6797,289.756\" style=\"fill:none;fill-rule:evenodd;stroke:#FF0000;stroke-width:2px;stroke-linecap:butt;stroke-linejoin:miter;stroke-opacity:1\"/>\n<path class=\"bond-55\" d=\"M 320.109,282.623 L 320.079,300.53\" style=\"fill:none;fill-rule:evenodd;stroke:#000000;stroke-width:2px;stroke-linecap:butt;stroke-linejoin:miter;stroke-opacity:1\"/>\n<path class=\"bond-55\" d=\"M 324.64,285.317 L 324.619,297.851\" style=\"fill:none;fill-rule:evenodd;stroke:#000000;stroke-width:2px;stroke-linecap:butt;stroke-linejoin:miter;stroke-opacity:1\"/>\n<path class=\"bond-60\" d=\"M 320.109,282.623 L 335.527,273.693\" style=\"fill:none;fill-rule:evenodd;stroke:#000000;stroke-width:2px;stroke-linecap:butt;stroke-linejoin:miter;stroke-opacity:1\"/>\n<path class=\"bond-56\" d=\"M 320.079,300.53 L 335.572,309.462\" style=\"fill:none;fill-rule:evenodd;stroke:#000000;stroke-width:2px;stroke-linecap:butt;stroke-linejoin:miter;stroke-opacity:1\"/>\n<path class=\"bond-65\" d=\"M 320.079,300.53 L 304.618,309.444\" style=\"fill:none;fill-rule:evenodd;stroke:#000000;stroke-width:2px;stroke-linecap:butt;stroke-linejoin:miter;stroke-opacity:1\"/>\n<path class=\"bond-57\" d=\"M 335.572,309.462 L 350.997,300.517\" style=\"fill:none;fill-rule:evenodd;stroke:#000000;stroke-width:2px;stroke-linecap:butt;stroke-linejoin:miter;stroke-opacity:1\"/>\n<path class=\"bond-57\" d=\"M 335.611,304.197 L 346.408,297.936\" style=\"fill:none;fill-rule:evenodd;stroke:#000000;stroke-width:2px;stroke-linecap:butt;stroke-linejoin:miter;stroke-opacity:1\"/>\n<path class=\"bond-58\" d=\"M 350.997,300.517 L 350.926,282.532\" style=\"fill:none;fill-rule:evenodd;stroke:#000000;stroke-width:2px;stroke-linecap:butt;stroke-linejoin:miter;stroke-opacity:1\"/>\n<path class=\"bond-59\" d=\"M 350.926,282.532 L 335.527,273.693\" style=\"fill:none;fill-rule:evenodd;stroke:#000000;stroke-width:2px;stroke-linecap:butt;stroke-linejoin:miter;stroke-opacity:1\"/>\n<path class=\"bond-59\" d=\"M 346.359,285.14 L 335.579,278.953\" style=\"fill:none;fill-rule:evenodd;stroke:#000000;stroke-width:2px;stroke-linecap:butt;stroke-linejoin:miter;stroke-opacity:1\"/>\n<path class=\"bond-61\" d=\"M 350.926,282.532 L 356.117,279.512\" style=\"fill:none;fill-rule:evenodd;stroke:#000000;stroke-width:2px;stroke-linecap:butt;stroke-linejoin:miter;stroke-opacity:1\"/>\n<path class=\"bond-61\" d=\"M 356.117,279.512 L 361.308,276.492\" style=\"fill:none;fill-rule:evenodd;stroke:#CCCC00;stroke-width:2px;stroke-linecap:butt;stroke-linejoin:miter;stroke-opacity:1\"/>\n<path class=\"bond-62\" d=\"M 371.395,276.447 L 371.119,276.288\" style=\"fill:none;fill-rule:evenodd;stroke:#CCCC00;stroke-width:2px;stroke-linecap:butt;stroke-linejoin:miter;stroke-opacity:1\"/>\n<path class=\"bond-62\" d=\"M 371.119,276.288 L 370.842,276.13\" style=\"fill:none;fill-rule:evenodd;stroke:#FF0000;stroke-width:2px;stroke-linecap:butt;stroke-linejoin:miter;stroke-opacity:1\"/>\n<path class=\"bond-63\" d=\"M 371.881,268.373 L 372.73,266.87\" style=\"fill:none;fill-rule:evenodd;stroke:#CCCC00;stroke-width:2px;stroke-linecap:butt;stroke-linejoin:miter;stroke-opacity:1\"/>\n<path class=\"bond-63\" d=\"M 372.73,266.87 L 373.578,265.367\" style=\"fill:none;fill-rule:evenodd;stroke:#FF0000;stroke-width:2px;stroke-linecap:butt;stroke-linejoin:miter;stroke-opacity:1\"/>\n<path class=\"bond-63\" d=\"M 367.932,266.144 L 368.78,264.641\" style=\"fill:none;fill-rule:evenodd;stroke:#CCCC00;stroke-width:2px;stroke-linecap:butt;stroke-linejoin:miter;stroke-opacity:1\"/>\n<path class=\"bond-63\" d=\"M 368.78,264.641 L 369.628,263.138\" style=\"fill:none;fill-rule:evenodd;stroke:#FF0000;stroke-width:2px;stroke-linecap:butt;stroke-linejoin:miter;stroke-opacity:1\"/>\n<path class=\"bond-64\" d=\"M 364.663,266.121 L 363.792,264.618\" style=\"fill:none;fill-rule:evenodd;stroke:#CCCC00;stroke-width:2px;stroke-linecap:butt;stroke-linejoin:miter;stroke-opacity:1\"/>\n<path class=\"bond-64\" d=\"M 363.792,264.618 L 362.921,263.115\" style=\"fill:none;fill-rule:evenodd;stroke:#FF0000;stroke-width:2px;stroke-linecap:butt;stroke-linejoin:miter;stroke-opacity:1\"/>\n<path class=\"bond-64\" d=\"M 360.739,268.395 L 359.868,266.892\" style=\"fill:none;fill-rule:evenodd;stroke:#CCCC00;stroke-width:2px;stroke-linecap:butt;stroke-linejoin:miter;stroke-opacity:1\"/>\n<path class=\"bond-64\" d=\"M 359.868,266.892 L 358.997,265.389\" style=\"fill:none;fill-rule:evenodd;stroke:#FF0000;stroke-width:2px;stroke-linecap:butt;stroke-linejoin:miter;stroke-opacity:1\"/>\n<text style=\"font-size:12px;font-style:normal;font-weight:normal;fill-opacity:1;stroke:none;font-family:sans-serif;text-anchor:start;fill:#CCCC00\" x=\"445.4\" y=\"279.856\"><tspan>S</tspan></text>\n<text style=\"font-size:12px;font-style:normal;font-weight:normal;fill-opacity:1;stroke:none;font-family:sans-serif;text-anchor:start;fill:#FF0000\" x=\"454.587\" y=\"288.728\"><tspan>OH</tspan></text>\n<text style=\"font-size:12px;font-style:normal;font-weight:normal;fill-opacity:1;stroke:none;font-family:sans-serif;text-anchor:start;fill:#FF0000\" x=\"453.367\" y=\"264.252\"><tspan>O</tspan></text>\n<text style=\"font-size:12px;font-style:normal;font-weight:normal;fill-opacity:1;stroke:none;font-family:sans-serif;text-anchor:start;fill:#FF0000\" x=\"435.518\" y=\"264.252\"><tspan>O</tspan></text>\n<text style=\"font-size:12px;font-style:normal;font-weight:normal;fill-opacity:1;stroke:none;font-family:sans-serif;text-anchor:start;fill:#FF0000\" x=\"124.011\" y=\"288.481\"><tspan>O</tspan></text>\n<text style=\"font-size:12px;font-style:normal;font-weight:normal;fill-opacity:1;stroke:none;font-family:sans-serif;text-anchor:start;fill:#0000FF\" x=\"200.679\" y=\"313.529\"><tspan>N</tspan></text>\n<text style=\"font-size:12px;font-style:normal;font-weight:normal;fill-opacity:1;stroke:none;font-family:sans-serif;text-anchor:start;fill:#0000FF\" x=\"216.044\" y=\"286.564\"><tspan>N</tspan></text>\n<text style=\"font-size:12px;font-style:normal;font-weight:normal;fill-opacity:1;stroke:none;font-family:sans-serif;text-anchor:start;fill:#0000FF\" x=\"194.972\" y=\"259.906\"><tspan>NH</tspan></text>\n<text style=\"font-size:12px;font-style:normal;font-weight:normal;fill-opacity:1;stroke:none;font-family:sans-serif;text-anchor:start;fill:#FF0000\" x=\"261.523\" y=\"223.888\"><tspan>O</tspan></text>\n<text style=\"font-size:12px;font-style:normal;font-weight:normal;fill-opacity:1;stroke:none;font-family:sans-serif;text-anchor:start;fill:#00CC00\" x=\"229.092\" y=\"206.248\"><tspan>Cl</tspan></text>\n<text style=\"font-size:12px;font-style:normal;font-weight:normal;fill-opacity:1;stroke:none;font-family:sans-serif;text-anchor:start;fill:#33CCCC\" x=\"340.068\" y=\"232.331\"><tspan>F</tspan></text>\n<text style=\"font-size:12px;font-style:normal;font-weight:normal;fill-opacity:1;stroke:none;font-family:sans-serif;text-anchor:start;fill:#0000FF\" x=\"73.6295\" y=\"277.49\"><tspan>NH</tspan></text>\n<text style=\"font-size:12px;font-style:normal;font-weight:normal;fill-opacity:1;stroke:none;font-family:sans-serif;text-anchor:start;fill:#CCCC00\" x=\"33.023\" y=\"285.813\"><tspan>S</tspan></text>\n<text style=\"font-size:12px;font-style:normal;font-weight:normal;fill-opacity:1;stroke:none;font-family:sans-serif;text-anchor:start;fill:#FF0000\" x=\"40.9872\" y=\"301.205\"><tspan>O</tspan></text>\n<text style=\"font-size:12px;font-style:normal;font-weight:normal;fill-opacity:1;stroke:none;font-family:sans-serif;text-anchor:start;fill:#FF0000\" x=\"23.1407\" y=\"301.205\"><tspan>O</tspan></text>\n<text style=\"font-size:12px;font-style:normal;font-weight:normal;fill-opacity:1;stroke:none;font-family:sans-serif;text-anchor:start;fill:#CCCC00\" x=\"361.308\" y=\"279.856\"><tspan>S</tspan></text>\n<text style=\"font-size:12px;font-style:normal;font-weight:normal;fill-opacity:1;stroke:none;font-family:sans-serif;text-anchor:start;fill:#FF0000\" x=\"370.494\" y=\"288.728\"><tspan>OH</tspan></text>\n<text style=\"font-size:12px;font-style:normal;font-weight:normal;fill-opacity:1;stroke:none;font-family:sans-serif;text-anchor:start;fill:#FF0000\" x=\"369.275\" y=\"264.252\"><tspan>O</tspan></text>\n<text style=\"font-size:12px;font-style:normal;font-weight:normal;fill-opacity:1;stroke:none;font-family:sans-serif;text-anchor:start;fill:#FF0000\" x=\"351.426\" y=\"264.252\"><tspan>O</tspan></text>\n<text style=\"font-size:12px;font-style:normal;font-weight:normal;fill-opacity:1;stroke:none;font-family:sans-serif;text-anchor:start;fill:#FF0000\" x=\"263.55\" y=\"314.118\"><tspan>H</tspan><tspan style=\"baseline-shift:sub;font-size:9px;\">2</tspan><tspan>O</tspan></text>\n</svg>",
      "text/plain": "<IPython.core.display.SVG object>"
     },
     "execution_count": 28,
     "metadata": {},
     "output_type": "execute_result"
    }
   ],
   "source": [
    "image = new_client.image\n",
    "image.set_format('svg')\n",
    "svg = image.get(chembl_id)\n",
    "SVG(svg)"
   ]
  },
  {
   "cell_type": "markdown",
   "metadata": {},
   "source": [
    "### Bioactivities\n",
    "\n",
    "All bioactivity records for a compound may be retrieved _via_ its ChEMBL ID.\n"
   ]
  },
  {
   "cell_type": "code",
   "execution_count": 29,
   "metadata": {},
   "outputs": [],
   "source": [
    "# Lapatinib\n",
    "chembl_id = \"CHEMBL554\" "
   ]
  },
  {
   "cell_type": "code",
   "execution_count": 30,
   "metadata": {},
   "outputs": [
    {
     "data": {
      "text/plain": "(2173,\n [{'activity_comment': None, 'activity_id': 190221, 'activity_properties': [], 'assay_chembl_id': 'CHEMBL674106', 'assay_description': 'Inhibitory activity against epidermal growth factor receptor', 'assay_type': 'B', 'bao_endpoint': 'BAO_0000190', 'bao_format': 'BAO_0000357', 'bao_label': 'single protein format', 'canonical_smiles': 'CS(=O)(=O)CCNCc1ccc(-c2ccc3ncnc(Nc4ccc(OCc5cccc(F)c5)c(Cl)c4)c3c2)o1', 'data_validity_comment': None, 'data_validity_description': None, 'document_chembl_id': 'CHEMBL1146682', 'document_journal': 'Bioorg. Med. Chem. Lett.', 'document_year': 2004, 'ligand_efficiency': {'bei': '13.77', 'le': '0.27', 'lle': '1.86', 'sei': '7.52'}, 'molecule_chembl_id': 'CHEMBL554', 'molecule_pref_name': 'LAPATINIB', 'parent_molecule_chembl_id': 'CHEMBL554', 'pchembl_value': '8.00', 'potential_duplicate': True, 'qudt_units': 'http://www.openphacts.org/units/Nanomolar', 'record_id': 15408, 'relation': '=', 'src_id': 1, 'standard_flag': True, 'standard_relation': '=', 'standard_text_value': None, 'standard_type': 'IC50', 'standard_units': 'nM', 'standard_upper_value': None, 'standard_value': '10.0', 'target_chembl_id': 'CHEMBL203', 'target_organism': 'Homo sapiens', 'target_pref_name': 'Epidermal growth factor receptor erbB1', 'target_tax_id': '9606', 'text_value': None, 'toid': None, 'type': 'IC50', 'units': 'uM', 'uo_units': 'UO_0000065', 'upper_value': None, 'value': '0.01'}, {'activity_comment': None, 'activity_id': 190222, 'activity_properties': [], 'assay_chembl_id': 'CHEMBL682312', 'assay_description': 'Inhibitory activity against ERBB2 receptor kinase', 'assay_type': 'B', 'bao_endpoint': 'BAO_0000190', 'bao_format': 'BAO_0000357', 'bao_label': 'single protein format', 'canonical_smiles': 'CS(=O)(=O)CCNCc1ccc(-c2ccc3ncnc(Nc4ccc(OCc5cccc(F)c5)c(Cl)c4)c3c2)o1', 'data_validity_comment': None, 'data_validity_description': None, 'document_chembl_id': 'CHEMBL1146682', 'document_journal': 'Bioorg. Med. Chem. Lett.', 'document_year': 2004, 'ligand_efficiency': {'bei': '13.85', 'le': '0.27', 'lle': '1.91', 'sei': '7.57'}, 'molecule_chembl_id': 'CHEMBL554', 'molecule_pref_name': 'LAPATINIB', 'parent_molecule_chembl_id': 'CHEMBL554', 'pchembl_value': '8.05', 'potential_duplicate': True, 'qudt_units': 'http://www.openphacts.org/units/Nanomolar', 'record_id': 15408, 'relation': '=', 'src_id': 1, 'standard_flag': True, 'standard_relation': '=', 'standard_text_value': None, 'standard_type': 'IC50', 'standard_units': 'nM', 'standard_upper_value': None, 'standard_value': '9.0', 'target_chembl_id': 'CHEMBL1824', 'target_organism': 'Homo sapiens', 'target_pref_name': 'Receptor protein-tyrosine kinase erbB-2', 'target_tax_id': '9606', 'text_value': None, 'toid': None, 'type': 'IC50', 'units': 'uM', 'uo_units': 'UO_0000065', 'upper_value': None, 'value': '0.009'}])"
     },
     "execution_count": 30,
     "metadata": {},
     "output_type": "execute_result"
    }
   ],
   "source": [
    "records = new_client.activity.filter(molecule_chembl_id=chembl_id)\n",
    "len(records), records[:2]"
   ]
  },
  {
   "cell_type": "markdown",
   "metadata": {},
   "source": [
    "## Targets\n",
    "\n",
    "The webservices may also be used to obtain information on biological targets, _i.e._ the entities, such as proteins, cells or organisms, with which compounds interact.\n"
   ]
  },
  {
   "cell_type": "code",
   "execution_count": 31,
   "metadata": {},
   "outputs": [
    {
     "data": {
      "text/plain": "13377"
     },
     "execution_count": 31,
     "metadata": {},
     "output_type": "execute_result"
    }
   ],
   "source": [
    "# Like with any other resource type, a complete list of targets can be requested using the client:\n",
    "records = new_client.target.all()\n",
    "len(records)"
   ]
  },
  {
   "cell_type": "code",
   "execution_count": 32,
   "metadata": {},
   "outputs": [
    {
     "data": {
      "text/plain": "b': 'Reactome'}, {'xref_id': 'R-HSA-6798695', 'xref_name': 'Neutrophil degranulation.', 'xref_src_db': 'Reactome'}, {'xref_id': 'O43451', 'xref_name': None, 'xref_src_db': 'UniProt'}, {'xref_id': 'Q0VAX6', 'xref_name': None, 'xref_src_db': 'UniProt'}, {'xref_id': 'Q75ME7', 'xref_name': None, 'xref_src_db': 'UniProt'}, {'xref_id': 'Q86UM5', 'xref_name': None, 'xref_src_db': 'UniProt'}]}], 'target_type': 'SINGLE PROTEIN', 'tax_id': 9606}, {'cross_references': [{'xref_id': 'O60706', 'xref_name': None, 'xref_src': 'canSAR-Target'}, {'xref_id': 'ABCC9', 'xref_name': None, 'xref_src': 'Wikipedia'}], 'organism': 'Homo sapiens', 'pref_name': 'Sulfonylurea receptor 2', 'species_group_flag': False, 'target_chembl_id': 'CHEMBL1971', 'target_components': [{'accession': 'O60706', 'component_description': 'ATP-binding cassette sub-family C member 9', 'component_id': 294, 'component_type': 'PROTEIN', 'relationship': 'SINGLE PROTEIN', 'target_component_synonyms': [{'component_synonym': 'ABCC9', 'syn_type': 'GENE_SYMBOL'}, {'component_synonym': 'ATP-binding cassette sub-family C member 9', 'syn_type': 'UNIPROT'}, {'component_synonym': 'Sulfonylurea receptor 2', 'syn_type': 'UNIPROT'}, {'component_synonym': 'SUR2', 'syn_type': 'GENE_SYMBOL_OTHER'}], 'target_component_xrefs': [{'xref_id': 'ABCC9', 'xref_name': 'Cardiomyopathy, dilated, 10; Atrial fibrillation, familial 12; Cantu syndrome', 'xref_src_db': 'CGD'}, {'xref_id': 'ENSG00000069431', 'xref_name': None, 'xref_src_db': 'EnsemblGene'}, {'xref_id': 'O60706', 'xref_name': None, 'xref_src_db': 'ExpressionAtlas'}, {'xref_id': 'GO:0005886', 'xref_name': 'plasma membrane', 'xref_src_db': 'GoComponent'}, {'xref_id': 'GO:0008282', 'xref_name': 'inward rectifying potassium channel', 'xref_src_db': 'GoComponent'}, {'xref_id': 'GO:0016020', 'xref_name': 'membrane', 'xref_src_db': 'GoComponent'}, {'xref_id': 'GO:0016021', 'xref_name': 'integral component of membrane', 'xref_src_db': 'GoComponent'}, {'xref_id': 'GO:0030017', 'xref_name': 'sarcomere', 'xref_src_db': 'GoComponent'}, {'xref_id': 'GO:0031004', 'xref_name': 'potassium ion-transporting ATPase complex', 'xref_src_db': 'GoComponent'}, {'xref_id': 'GO:0000166', 'xref_name': 'nucleotide binding', 'xref_src_db': 'GoFunction'}, {'xref_id': 'GO:0005261', 'xref_name': 'cation channel activity', 'xref_src_db': 'GoFunction'}, {'xref_id': 'GO:0005267', 'xref_name': 'potassium channel activity', 'xref_src_db': 'GoFunction'}, {'xref_id': 'GO:0005524', 'xref_name': 'ATP binding', 'xref_src_db': 'GoFunction'}, {'xref_id': 'GO:0008281', 'xref_name': 'sulfonylurea receptor activity', 'xref_src_db': 'GoFunction'}, {'xref_id': 'GO:0015272', 'xref_name': 'ATP-activated inward rectifier potassium channel activity', 'xref_src_db': 'GoFunction'}, {'xref_id': 'GO:0015459', 'xref_name': 'potassium channel regulator activity', 'xref_src_db': 'GoFunction'}, {'xref_id': 'GO:0016887', 'xref_name': 'ATPase activity', 'xref_src_db': 'GoFunction'}, {'xref_id': 'GO:0019829', 'xref_name': 'ATPase-coupled cation transmembrane transporter activity', 'xref_src_db': 'GoFunction'}, {'xref_id': 'GO:0022857', 'xref_name': 'transmembrane transporter activity', 'xref_src_db': 'GoFunction'}, {'xref_id': 'GO:0042626', 'xref_name': 'ATPase-coupled transmembrane transporter activity', 'xref_src_db': 'GoFunction'}, {'xref_id': 'GO:0044325', 'xref_name': 'ion channel binding', 'xref_src_db': 'GoFunction'}, {'xref_id': 'GO:0006813', 'xref_name': 'potassium ion transport', 'xref_src_db': 'GoProcess'}, {'xref_id': 'GO:0033198', 'xref_name': 'response to ATP', 'xref_src_db': 'GoProcess'}, {'xref_id': 'GO:0051607', 'xref_name': 'defense response to virus', 'xref_src_db': 'GoProcess'}, {'xref_id': 'GO:0055085', 'xref_name': 'transmembrane transport', 'xref_src_db': 'GoProcess'}, {'xref_id': 'GO:0061337', 'xref_name': 'cardiac conduction', 'xref_src_db': 'GoProcess'}, {'xref_id': 'GO:0071805', 'xref_name': 'potassium ion transmembrane transport', 'xref_src_db': 'GoProcess'}, {'xref_id': 'GO:0098655', 'xref_name': 'cation transmembrane transport', 'xref_src_db': 'GoProcess'}, {'xref_id': 'GO:0098662', 'xref_name': 'inorganic cation transmembrane transport', 'xref_src_db': 'GoProcess'}, {'xref_id': 'GO:1903779', 'xref_name': 'regulation of cardiac conduction', 'xref_src_db': 'GoProcess'}, {'xref_id': 'GO:1990573', 'xref_name': 'potassium ion import across plasma membrane', 'xref_src_db': 'GoProcess'}, {'xref_id': '2746', 'xref_name': None, 'xref_src_db': 'GuideToPHARMACOLOGY'}, {'xref_id': 'O60706', 'xref_name': None, 'xref_src_db': 'IntAct'}, {'xref_id': 'IPR000388', 'xref_name': 'Sulphorea_rcpt.', 'xref_src_db': 'InterPro'}, {'xref_id': 'IPR001475', 'xref_name': 'ABCC9.', 'xref_src_db': 'InterPro'}, {'xref_id': 'IPR003439', 'xref_name': 'ABC_transporter-like.', 'xref_src_db': 'InterPro'}, {'xref_id': 'IPR003593', 'xref_name': 'AAA+_ATPase.', 'xref_src_db': 'InterPro'}, {'xref_id': 'IPR011527', 'xref_name': 'ABC1_TM_dom.', 'xref_src_db': 'InterPro'}, {'xref_id': 'IPR017871', 'xref_name': 'ABC_transporter_CS.', 'xref_src_db': 'InterPro'}, {'xref_id': 'IPR027417', 'xref_name': 'P-loop_NTPase.', 'xref_src_db': 'InterPro'}, {'xref_id': 'IPR036640', 'xref_name': 'ABC1_TM_sf.', 'xref_src_db': 'InterPro'}, {'xref_id': 'PF00005', 'xref_name': 'ABC_tran', 'xref_src_db': 'Pfam'}, {'xref_id': 'PF00664', 'xref_name': 'ABC_membrane', 'xref_src_db': 'Pfam'}, {'xref_id': 'PA396', 'xref_name': 'ATP-binding cassette, sub-family C (CFTR/MRP), member 9', 'xref_src_db': 'PharmGKB'}, {'xref_id': 'R-HSA-1296025', 'xref_name': 'ATP sensitive Potassium channels.', 'xref_src_db': 'Reactome'}, {'xref_id': 'R-HSA-382556', 'xref_name': 'ABC-family proteins mediated transport.', 'xref_src_db': 'Reactome'}, {'xref_id': 'R-HSA-5578775', 'xref_name': 'Ion homeostasis.', 'xref_src_db': 'Reactome'}, {'xref_id': 'R-HSA-5678420', 'xref_name': 'Defective ABCC9 causes dilated cardiomyopathy 10, familial atrial fibrillation 12 and hypertrichotic osteochondrodysplasia.', 'xref_src_db': 'Reactome'}, {'xref_id': 'O60706', 'xref_name': None, 'xref_src_db': 'UniProt'}, {'xref_id': 'O60707', 'xref_name': None, 'xref_src_db': 'UniProt'}]}], 'target_type': 'SINGLE PROTEIN', 'tax_id': 9606}, {'cross_references': [{'xref_id': 'CGMP-specific_phosphodiesterase_type_5', 'xref_name': None, 'xref_src': 'Wikipedia'}], 'organism': 'Homo sapiens', 'pref_name': 'Phosphodiesterase 5A', 'species_group_flag': False, 'target_chembl_id': 'CHEMBL1827', 'target_components': [{'accession': 'O76074', 'component_description': \"cGMP-specific 3',5'-cyclic phosphodiesterase\", 'component_id': 124, 'component_type': 'PROTEIN', 'relationship': 'SINGLE PROTEIN', 'target_component_synonyms': [{'component_synonym': '3.1.4.35', 'syn_type': 'EC_NUMBER'}, {'component_synonym': 'CGB-PDE', 'syn_type': 'UNIPROT'}, {'component_synonym': 'cGMP-binding cGMP-specific phosphodiesterase', 'syn_type': 'UNIPROT'}, {'component_synonym': \"cGMP-specific 3',5'-cyclic phosphodiesterase\", 'syn_type': 'UNIPROT'}, {'component_synonym': 'PDE5', 'syn_type': 'GENE_SYMBOL_OTHER'}, {'component_synonym': 'PDE5A', 'syn_type': 'GENE_SYMBOL'}], 'target_component_xrefs': [{'xref_id': 'ENSG00000138735', 'xref_name': None, 'xref_src_db': 'EnsemblGene'}, {'xref_id': 'O76074', 'xref_name': None, 'xref_src_db': 'ExpressionAtlas'}, {'xref_id': 'GO:0005575', 'xref_name': 'cellular_component', 'xref_src_db': 'GoComponent'}, {'xref_id': 'GO:0005829', 'xref_name': 'cytosol', 'xref_src_db': 'GoComponent'}, {'xref_id': 'GO:0000166', 'xref_name': 'nucleotide binding', 'xref_src_db': 'GoFunction'}, {'xref_id': 'GO:0003824', 'xref_name': 'catalytic activity', 'xref_src_db': 'GoFunction'}, {'xref_id': 'GO:0004112', 'xref_name': 'cyclic-nucleotide phosphodiesterase activity', 'xref_src_db': 'GoFunction'}, {'xref_id': 'GO:0004114', 'xref_name': \"3',5'-cyclic-nucleotide phosphodiesterase activity\", 'xref_src_db': 'GoFunction'}, {'xref_id': 'GO:0005515', 'xref_name': 'protein binding', 'xref_src_db': 'GoFunction'}, {'xref_id': 'GO:0008081', 'xref_name': 'phosphoric diester hydrolase activity', 'xref_src_db': 'GoFunction'}, {'xref_id': 'GO:0016787', 'xref_name': 'hydrolase activity', 'xref_src_db': 'GoFunction'}, {'xref_id': 'GO:0030553', 'xref_name': 'cGMP binding', 'xref_src_db': 'GoFunction'}, {'xref_id': 'GO:0046872', 'xref_name': 'metal ion binding', 'xref_src_db': 'GoFunction'}, {'xref_id': 'GO:0047555', 'xref_name': \"3',5'-cyclic-GMP phosphodiesterase activity\", 'xref_src_db': 'GoFunction'}, {'xref_id': 'GO:0007165', 'xref_name': 'signal transduction', 'xref_src_db': 'GoProcess'}, {'xref_id': 'GO:0008152', 'xref_name': 'metabolic process', 'xref_src_db': 'GoProcess'}, {'xref_id': 'GO:0010613', 'xref_name': 'positive regulation of cardiac muscle hypertrophy', 'xref_src_db': 'GoProcess'}, {'xref_id': 'GO:0010749', 'xref_name': 'regulation of nitric oxide mediated signal transduction', 'xref_src_db': 'GoProcess'}, {'xref_id': 'GO:0042130', 'xref_name': 'negative regulation of T cell proliferation', 'xref_src_db': 'GoProcess'}, {'xref_id': 'GO:0043406', 'xref_name': 'positive regulation of MAP kinase activity', 'xref_src_db': 'GoProcess'}, {'xref_id': 'GO:0046068', 'xref_name': 'cGMP metabolic process', 'xref_src_db': 'GoProcess'}, {'xref_id': 'GO:0046069', 'xref_name': 'cGMP catabolic process', 'xref_src_db': 'GoProcess'}, {'xref_id': 'GO:0055118', 'xref_name': 'negative regulation of cardiac muscle contraction', 'xref_src_db': 'GoProcess'}, {'xref_id': 'GO:0055119', 'xref_name': 'relaxation of cardiac muscle', 'xref_src_db': 'GoProcess'}, {'xref_id': 'GO:0060282', 'xref_name': 'positive regulation of oocyte development', 'xref_src_db': 'GoProcess'}, {'xref_id': '1304', 'xref_name': None, 'xref_src_db': 'GuideToPHARMACOLOGY'}, {'xref_id': 'O76074', 'xref_name': None, 'xref_src_db': 'IntAct'}, {'xref_id': 'IPR002073', 'xref_name': 'PDEase_catalytic_dom.', 'xref_src_db': 'InterPro'}, {'xref_id': 'IPR003018', 'xref_name': 'GAF.', 'xref_src_db': 'InterPro'}, {'xref_id': 'IPR003607', 'xref_name': 'HD/PDEase_dom.', 'xref_src_db': 'InterPro'}, {'xref_id': 'IPR023088', 'xref_name': 'PDEase.', 'xref_src_db': 'InterPro'}, {'xref_id': 'IPR023174', 'xref_name': 'PDEase_CS.', 'xref_src_db': 'InterPro'}, {'xref_id': 'IPR029016', 'xref_name': 'GAF-like_dom_sf.', 'xref_src_db': 'InterPro'}, {'xref_id': 'IPR036971', 'xref_name': 'PDEase_catalytic_dom_sf.', 'xref_src_db': 'InterPro'}, {'xref_id': '1RKP', 'xref_name': 'A', 'xref_src_db': 'PDBe'}, {'xref_id': '1T9R', 'xref_name': 'A', 'xref_src_db': 'PDBe'}, {'xref_id': '1T9S', 'xref_name': 'A', 'xref_src_db': 'PDBe'}, {'xref_id': '1TBF', 'xref_name': 'A', 'xref_src_db': 'PDBe'}, {'xref_id': '1UDT', 'xref_name': 'A', 'xref_src_db': 'PDBe'}, {'xref_id': '1UDU', 'xref_name': 'A', 'xref_src_db': 'PDBe'}, {'xref_id': '1UHO', 'xref_name': 'A', 'xref_src_db': 'PDBe'}, {'xref_id': '1XOZ', 'xref_name': 'A', 'xref_src_db': 'PDBe'}, {'xref_id': '1XP0', 'xref_name': 'A', 'xref_src_db': 'PDBe'}, {'xref_id': '2CHM', 'xref_name': 'A', 'xref_src_db': 'PDBe'}, {'xref_id': '2H40', 'xref_name': 'A', 'xref_src_db': 'PDBe'}, {'xref_id': '2H42', 'xref_name': 'A', 'xref_src_db': 'PDBe'}, {'xref_id': '2H44', 'xref_name': 'A', 'xref_src_db': 'PDBe'}, {'xref_id': '2XSS', 'xref_name': 'A', 'xref_src_db': 'PDBe'}, {'xref_id': '3B2R', 'xref_name': 'A', 'xref_src_db': 'PDBe'}, {'xref_id': '3BJC', 'xref_name': 'A', 'xref_src_db': 'PDBe'}, {'xref_id': '3HC8', 'xref_name': 'A', 'xref_src_db': 'PDBe'}, {'xref_id': '3HDZ', 'xref_name': 'A', 'xref_src_db': 'PDBe'}, {'xref_id': '3JWQ', 'xref_name': 'A', 'xref_src_db': 'PDBe'}, {'xref_id': '3JWR', 'xref_name': 'A', 'xref_src_db': 'PDBe'}, {'xref_id': '3LFV', 'xref_name': 'A', 'xref_src_db': 'PDBe'}, {'xref_id': '3MF0', 'xref_name': 'A', 'xref_src_db': 'PDBe'}, {'xref_id': '3SHY', 'xref_name': 'A', 'xref_src_db': 'PDBe'}, {'xref_id': '3SHZ', 'xref_name': 'A', 'xref_src_db': 'PDBe'}, {'xref_id': '3SIE', 'xref_name': 'A', 'xref_src_db': 'PDBe'}, {'xref_id': '3TGE', 'xref_name': 'A', 'xref_src_db': 'PDBe'}, {'xref_id': '3TGG', 'xref_name': 'A', 'xref_src_db': 'PDBe'}, {'xref_id': '4G2W', 'xref_name': 'A', 'xref_src_db': 'PDBe'}, {'xref_id': '4G2Y', 'xref_name': 'A', 'xref_src_db': 'PDBe'}, {'xref_id': '4I9Z', 'xref_name': 'A', 'xref_src_db': 'PDBe'}, {'xref_id': '4IA0', 'xref_name': 'A', 'xref_src_db': 'PDBe'}, {'xref_id': '4MD6', 'xref_name': 'A', 'xref_src_db': 'PDBe'}, {'xref_id': '4OEW', 'xref_name': 'A', 'xref_src_db': 'PDBe'}, {'xref_id': '4OEX', 'xref_name': 'A', 'xref_src_db': 'PDBe'}, {'xref_id': '5JO3', 'xref_name': 'A', 'xref_src_db': 'PDBe'}, {'xref_id': '5ZZ2', 'xref_name': 'A', 'xref_src_db': 'PDBe'}, {'xref_id': '6ACB', 'xref_name': 'A', 'xref_src_db': 'PDBe'}, {'xref_id': 'PF00233', 'xref_name': 'PDEase_I', 'xref_src_db': 'Pfam'}, {'xref_id': 'PF01590', 'xref_name': 'GAF', 'xref_src_db': 'Pfam'}, {'xref_id': 'PA33132', 'xref_name': 'phosphodiesterase 5A, cGMP-specific', 'xref_src_db': 'PharmGKB'}, {'xref_id': 'R-HSA-418457', 'xref_name': 'cGMP effects.', 'xref_src_db': 'Reactome'}, {'xref_id': 'A0AV69', 'xref_name': None, 'xref_src_db': 'UniProt'}, {'xref_id': 'A8K2C4', 'xref_name': None, 'xref_src_db': 'UniProt'}, {'xref_id': 'O75026', 'xref_name': None, 'xref_src_db': 'UniProt'}, {'xref_id': 'O75887', 'xref_name': None, 'xref_src_db': 'UniProt'}, {'xref_id': 'O76074', 'xref_name': None, 'xref_src_db': 'UniProt'}, {'xref_id': 'Q86UI0', 'xref_name': None, 'xref_src_db': 'UniProt'}, {'xref_id': 'Q86V66', 'xref_name': None, 'xref_src_db': 'UniProt'}, {'xref_id': 'Q9Y6Z6', 'xref_name': None, 'xref_src_db': 'UniProt'}]}], 'target_type': 'SINGLE PROTEIN', 'tax_id': 9606}, {'cross_references': [{'xref_id': 'O95180', 'xref_name': None, 'xref_src': 'canSAR-Target'}, {'xref_id': 'CACNA1H', 'xref_name': None, 'xref_src': 'Wikipedia'}], 'organism': 'Homo sapiens', 'pref_name': 'Voltage-gated T-type calcium channel alpha-1H subunit', 'species_group_flag': False, 'target_chembl_id': 'CHEMBL1859', 'target_components': [{'accession': 'O95180', 'component_description': 'Voltage-dependent T-type calcium channel subunit alpha-1H', 'component_id': 167, 'component_type': 'PROTEIN', 'relationship': 'SINGLE PROTEIN', 'target_component_synonyms': [{'component_synonym': 'CACNA1H', 'syn_type': 'GENE_SYMBOL'}, {'component_synonym': 'Low-voltage-activated calcium channel alpha1 3.2 subunit', 'syn_type': 'UNIPROT'}, {'component_synonym': 'Voltage-dependent T-type calcium channel subunit alpha-1H', 'syn_type': 'UNIPROT'}, {'component_synonym': 'Voltage-gated calcium channel subunit alpha Cav3.2', 'syn_type': 'UNIPROT'}], 'target_component_xrefs': [{'xref_id': 'ENSG00000196557', 'xref_name': None, 'xref_src_db': 'EnsemblGene'}, {'xref_id': 'O95180', 'xref_name': None, 'xref_src_db': 'ExpressionAtlas'}, {'xref_id': 'GO:0001518', 'xref_name': 'voltage-gated sodium channel complex', 'xref_src_db': 'GoComponent'}, {'xref_id': 'GO:0005886', 'xref_name': 'plasma membrane', 'xref_src_db': 'GoComponent'}, {'xref_id': 'GO:0005887', 'xref_name': 'integral component of plasma membrane', 'xref_src_db': 'GoComponent'}, {'xref_id': 'GO:0005891', 'xref_name': 'voltage-gated calcium channel complex', 'xref_src_db': 'GoComponent'}, {'xref_id': 'GO:0016020', 'xref_name': 'membrane', 'xref_src_db': 'GoComponent'}, {'xref_id': 'GO:0016021', 'xref_name': 'integral component of membrane', 'xref_src_db': 'GoComponent'}, {'xref_id': 'GO:0043005', 'xref_name': 'neuron projection', 'xref_src_db': 'GoComponent'}, {'xref_id': 'GO:0005216', 'xref_name': 'ion channel activity', 'xref_src_db': 'GoFunction'}, {'xref_id': 'GO:0005244', 'xref_name': 'voltage-gated ion channel activity', 'xref_src_db': 'GoFunction'}, {'xref_id': 'GO:0005245', 'xref_name': 'voltage-gated calcium channel activity', 'xref_src_db': 'GoFunction'}, {'xref_id': 'GO:0005248', 'xref_name': 'voltage-gated sodium channel activity', 'xref_src_db': 'GoFunction'}, {'xref_id': 'GO:0005261', 'xref_name': 'cation channel activity', 'xref_src_db': 'GoFunction'}, {'xref_id': 'GO:0005262', 'xref_name': 'calcium channel activity', 'xref_src_db': 'GoFunction'}, {'xref_id': 'GO:0005515', 'xref_name': 'protein binding', 'xref_src_db': 'GoFunction'}, {'xref_id': 'GO:0008332', 'xref_name': 'low voltage-gated calcium channel activity', 'xref_src_db': 'GoFunction'}, {'xref_id': 'GO:0046872', 'xref_name': 'metal ion binding', 'xref_src_db': 'GoFunction'}, {'xref_id': 'GO:0097110', 'xref_name': 'scaffold protein binding', 'xref_src_db': 'GoFunction'}, {'xref_id': 'GO:0006811', 'xref_name': 'ion transport', 'xref_src_db': 'GoProcess'}, {'xref_id': 'GO:0006816', 'xref_name': 'calcium ion transport', 'xref_src_db': 'GoProcess'}, {'xref_id': 'GO:0006936', 'xref_name': 'muscle contraction', 'xref_src_db': 'GoProcess'}, {'xref_id': 'GO:0007517', 'xref_name': 'muscle organ development', 'xref_src_db': 'GoProcess'}, {'xref_id': 'GO:0007520', 'xref_name': 'myoblast fusion', 'xref_src_db': 'GoProcess'}, {'xref_id': 'GO:0008016', 'xref_name': 'regulation of heart contraction', 'xref_src_db': 'GoProcess'}, {'xref_id': 'GO:0019228', 'xref_name': 'neuronal action potential', 'xref_src_db': 'GoProcess'}, {'xref_id': 'GO:0032342', 'xref_name': 'aldosterone biosynthetic process', 'xref_src_db': 'GoProcess'}, {'xref_id': 'GO:0032870', 'xref_name': 'cellular response to hormone stimulus', 'xref_src_db': 'GoProcess'}, {'xref_id': 'GO:0034651', 'xref_name': 'cortisol biosynthetic process', 'xref_src_db': 'GoProcess'}, {'xref_id': 'GO:0034765', 'xref_name': 'regulation of ion transmembrane transport', 'xref_src_db': 'GoProcess'}, {'xref_id': 'GO:0035725', 'xref_name': 'sodium ion transmembrane transport', 'xref_src_db': 'GoProcess'}, {'xref_id': 'GO:0035865', 'xref_name': 'cellular response to potassium ion', 'xref_src_db': 'GoProcess'}, {'xref_id': 'GO:0042391', 'xref_name': 'regulation of membrane potential', 'xref_src_db': 'GoProcess'}, {'xref_id': 'GO:0045956', 'xref_name': 'positive regulation of calcium ion-dependent exocytosis', 'xref_src_db': 'GoProcess'}, {'xref_id': 'GO:0055085', 'xref_name': 'transmembrane transport', 'xref_src_db': 'GoProcess'}, {'xref_id': 'GO:0070509', 'xref_name': 'calcium ion import', 'xref_src_db': 'GoProcess'}, {'xref_id': 'GO:0070588', 'xref_name': 'calcium ion transmembrane transport', 'xref_src_db': 'GoProcess'}, {'xref_id': 'GO:0086010', 'xref_name': 'membrane depolarization during action potential', 'xref_src_db': 'GoProcess'}, {'xref_id': 'GO:0098662', 'xref_name': 'inorganic cation transmembrane transport', 'xref_src_db': 'GoProcess'}, {'xref_id': 'GO:2000344', 'xref_name': 'positive regulation of acrosome reaction', 'xref_src_db': 'GoProcess'}, {'xref_id': '536', 'xref_name': None, 'xref_src_db': 'GuideToPHARMACOLOGY'}, {'xref_id': 'O95180', 'xref_name': None, 'xref_src_db': 'IntAct'}, {'xref_id': 'IPR005445', 'xref_name': 'VDCC_T_a1.', 'xref_src_db': 'InterPro'}, {'xref_id': 'IPR005821', 'xref_name': 'Ion_trans_dom.', 'xref_src_db': 'InterPro'}, {'xref_id': 'IPR027359', 'xref_name': 'Volt_channel_dom_sf.', 'xref_src_db': 'InterPro'}, {'xref_id': 'PF00520', 'xref_name': 'Ion_trans', 'xref_src_db': 'Pfam'}, {'xref_id': 'PA380', 'xref_name': 'calcium channel, voltage-dependent, T type, alpha 1H subunit', 'xref_src_db': 'PharmGKB'}, {'xref_id': 'O95180', 'xref_name': 'Tclin', 'xref_src_db': 'Pharos'}, {'xref_id': 'R-HSA-419037', 'xref_name': 'NCAM1 interactions.', 'xref_src_db': 'Reactome'}, {'xref_id': 'B5ME00', 'xref_name': None, 'xref_src_db': 'UniProt'}, {'xref_id': 'F8WFD1', 'xref_name': None, 'xref_src_db': 'UniProt'}, {'xref_id': 'O95180', 'xref_name': None, 'xref_src_db': 'UniProt'}, {'xref_id': 'O95802', 'xref_name': None, 'xref_src_db': 'UniProt'}, {'xref_id': 'Q8WWI6', 'xref_name': None, 'xref_src_db': 'UniProt'}, {'xref_id': 'Q96QI6', 'xref_name': None, 'xref_src_db': 'UniProt'}, {'xref_id': 'Q96RZ9', 'xref_name': None, 'xref_src_db': 'UniProt'}, {'xref_id': 'Q9NYY4', 'xref_name': None, 'xref_src_db': 'UniProt'}, {'xref_id': 'Q9NYY5', 'xref_name': None, 'xref_src_db': 'UniProt'}]}], 'target_type': 'SINGLE PROTEIN', 'tax_id': 9606}]"
     },
     "execution_count": 32,
     "metadata": {},
     "output_type": "execute_result"
    }
   ],
   "source": [
    "records[:4]"
   ]
  },
  {
   "cell_type": "markdown",
   "metadata": {},
   "source": [
    "### ChEMBL ID\n",
    "\n",
    "Data on any target type may be obtained _via_ a lookup of its ChEMBL ID.\n"
   ]
  },
  {
   "cell_type": "code",
   "execution_count": 33,
   "metadata": {},
   "outputs": [],
   "source": [
    "# Receptor protein-tyrosine kinase erbB-2\n",
    "chembl_id = \"CHEMBL1824\""
   ]
  },
  {
   "cell_type": "code",
   "execution_count": 34,
   "metadata": {},
   "outputs": [
    {
     "data": {
      "text/plain": "{'cross_references': [{'xref_id': 'P04626',\n   'xref_name': None,\n   'xref_src': 'canSAR-Target'},\n  {'xref_id': 'HER2/neu', 'xref_name': None, 'xref_src': 'Wikipedia'},\n  {'xref_id': 'NBK23144',\n   'xref_name': 'Human epidermal growth factor receptor 2 (HER2)',\n   'xref_src': 'MICAD'}],\n 'organism': 'Homo sapiens',\n 'pref_name': 'Receptor protein-tyrosine kinase erbB-2',\n 'species_group_flag': False,\n 'target_chembl_id': 'CHEMBL1824',\n 'target_components': [{'accession': 'P04626',\n   'component_description': 'Receptor tyrosine-protein kinase erbB-2',\n   'component_id': 120,\n   'component_type': 'PROTEIN',\n   'relationship': 'SINGLE PROTEIN',\n   'target_component_synonyms': [{'component_synonym': '2.7.10.1',\n     'syn_type': 'EC_NUMBER'},\n    {'component_synonym': 'CD_antigen=CD340', 'syn_type': 'UNIPROT'},\n    {'component_synonym': 'ERBB2', 'syn_type': 'GENE_SYMBOL'},\n    {'component_synonym': 'HER2', 'syn_type': 'GENE_SYMBOL_OTHER'},\n    {'component_synonym': 'Metastatic lymph node gene 19 protein',\n     'syn_type': 'UNIPROT'},\n    {'component_synonym': 'MLN19', 'syn_type': 'GENE_SYMBOL_OTHER'},\n    {'component_synonym': 'MLN 19', 'syn_type': 'UNIPROT'},\n    {'component_synonym': 'NEU', 'syn_type': 'GENE_SYMBOL_OTHER'},\n    {'component_synonym': 'NGL', 'syn_type': 'GENE_SYMBOL_OTHER'},\n    {'component_synonym': 'p185erbB2', 'syn_type': 'UNIPROT'},\n    {'component_synonym': 'Proto-oncogene c-ErbB-2', 'syn_type': 'UNIPROT'},\n    {'component_synonym': 'Proto-oncogene Neu', 'syn_type': 'UNIPROT'},\n    {'component_synonym': 'Receptor tyrosine-protein kinase erbB-2',\n     'syn_type': 'UNIPROT'},\n    {'component_synonym': 'Tyrosine kinase-type cell surface receptor HER2',\n     'syn_type': 'UNIPROT'}],\n   'target_component_xrefs': [{'xref_id': 'ENSG00000141736',\n     'xref_name': None,\n     'xref_src_db': 'EnsemblGene'},\n    {'xref_id': 'P04626', 'xref_name': None, 'xref_src_db': 'ExpressionAtlas'},\n    {'xref_id': 'GO:0005634',\n     'xref_name': 'nucleus',\n     'xref_src_db': 'GoComponent'},\n    {'xref_id': 'GO:0005737',\n     'xref_name': 'cytoplasm',\n     'xref_src_db': 'GoComponent'},\n    {'xref_id': 'GO:0005768',\n     'xref_name': 'endosome',\n     'xref_src_db': 'GoComponent'},\n    {'xref_id': 'GO:0005769',\n     'xref_name': 'early endosome',\n     'xref_src_db': 'GoComponent'},\n    {'xref_id': 'GO:0005829',\n     'xref_name': 'cytosol',\n     'xref_src_db': 'GoComponent'},\n    {'xref_id': 'GO:0005886',\n     'xref_name': 'plasma membrane',\n     'xref_src_db': 'GoComponent'},\n    {'xref_id': 'GO:0005887',\n     'xref_name': 'integral component of plasma membrane',\n     'xref_src_db': 'GoComponent'},\n    {'xref_id': 'GO:0009925',\n     'xref_name': 'basal plasma membrane',\n     'xref_src_db': 'GoComponent'},\n    {'xref_id': 'GO:0010008',\n     'xref_name': 'endosome membrane',\n     'xref_src_db': 'GoComponent'},\n    {'xref_id': 'GO:0016020',\n     'xref_name': 'membrane',\n     'xref_src_db': 'GoComponent'},\n    {'xref_id': 'GO:0016021',\n     'xref_name': 'integral component of membrane',\n     'xref_src_db': 'GoComponent'},\n    {'xref_id': 'GO:0016323',\n     'xref_name': 'basolateral plasma membrane',\n     'xref_src_db': 'GoComponent'},\n    {'xref_id': 'GO:0016324',\n     'xref_name': 'apical plasma membrane',\n     'xref_src_db': 'GoComponent'},\n    {'xref_id': 'GO:0031410',\n     'xref_name': 'cytoplasmic vesicle',\n     'xref_src_db': 'GoComponent'},\n    {'xref_id': 'GO:0043209',\n     'xref_name': 'myelin sheath',\n     'xref_src_db': 'GoComponent'},\n    {'xref_id': 'GO:0043235',\n     'xref_name': 'receptor complex',\n     'xref_src_db': 'GoComponent'},\n    {'xref_id': 'GO:0048471',\n     'xref_name': 'perinuclear region of cytoplasm',\n     'xref_src_db': 'GoComponent'},\n    {'xref_id': 'GO:0000166',\n     'xref_name': 'nucleotide binding',\n     'xref_src_db': 'GoFunction'},\n    {'xref_id': 'GO:0001042',\n     'xref_name': 'RNA polymerase I core binding',\n     'xref_src_db': 'GoFunction'},\n    {'xref_id': 'GO:0004672',\n     'xref_name': 'protein kinase activity',\n     'xref_src_db': 'GoFunction'},\n    {'xref_id': 'GO:0004713',\n     'xref_name': 'protein tyrosine kinase activity',\n     'xref_src_db': 'GoFunction'},\n    {'xref_id': 'GO:0004714',\n     'xref_name': 'transmembrane receptor protein tyrosine kinase activity',\n     'xref_src_db': 'GoFunction'},\n    {'xref_id': 'GO:0004888',\n     'xref_name': 'transmembrane signaling receptor activity',\n     'xref_src_db': 'GoFunction'},\n    {'xref_id': 'GO:0005515',\n     'xref_name': 'protein binding',\n     'xref_src_db': 'GoFunction'},\n    {'xref_id': 'GO:0005524',\n     'xref_name': 'ATP binding',\n     'xref_src_db': 'GoFunction'},\n    {'xref_id': 'GO:0008022',\n     'xref_name': 'protein C-terminus binding',\n     'xref_src_db': 'GoFunction'},\n    {'xref_id': 'GO:0016301',\n     'xref_name': 'kinase activity',\n     'xref_src_db': 'GoFunction'},\n    {'xref_id': 'GO:0016740',\n     'xref_name': 'transferase activity',\n     'xref_src_db': 'GoFunction'},\n    {'xref_id': 'GO:0019838',\n     'xref_name': 'growth factor binding',\n     'xref_src_db': 'GoFunction'},\n    {'xref_id': 'GO:0019903',\n     'xref_name': 'protein phosphatase binding',\n     'xref_src_db': 'GoFunction'},\n    {'xref_id': 'GO:0042802',\n     'xref_name': 'identical protein binding',\n     'xref_src_db': 'GoFunction'},\n    {'xref_id': 'GO:0043125',\n     'xref_name': 'ErbB-3 class receptor binding',\n     'xref_src_db': 'GoFunction'},\n    {'xref_id': 'GO:0046982',\n     'xref_name': 'protein heterodimerization activity',\n     'xref_src_db': 'GoFunction'},\n    {'xref_id': 'GO:0046983',\n     'xref_name': 'protein dimerization activity',\n     'xref_src_db': 'GoFunction'},\n    {'xref_id': 'GO:0000165',\n     'xref_name': 'MAPK cascade',\n     'xref_src_db': 'GoProcess'},\n    {'xref_id': 'GO:0001934',\n     'xref_name': 'positive regulation of protein phosphorylation',\n     'xref_src_db': 'GoProcess'},\n    {'xref_id': 'GO:0006357',\n     'xref_name': 'regulation of transcription by RNA polymerase II',\n     'xref_src_db': 'GoProcess'},\n    {'xref_id': 'GO:0006468',\n     'xref_name': 'protein phosphorylation',\n     'xref_src_db': 'GoProcess'},\n    {'xref_id': 'GO:0007165',\n     'xref_name': 'signal transduction',\n     'xref_src_db': 'GoProcess'},\n    {'xref_id': 'GO:0007166',\n     'xref_name': 'cell surface receptor signaling pathway',\n     'xref_src_db': 'GoProcess'},\n    {'xref_id': 'GO:0007167',\n     'xref_name': 'enzyme linked receptor protein signaling pathway',\n     'xref_src_db': 'GoProcess'},\n    {'xref_id': 'GO:0007169',\n     'xref_name': 'transmembrane receptor protein tyrosine kinase signaling pathway',\n     'xref_src_db': 'GoProcess'},\n    {'xref_id': 'GO:0007275',\n     'xref_name': 'multicellular organism development',\n     'xref_src_db': 'GoProcess'},\n    {'xref_id': 'GO:0007399',\n     'xref_name': 'nervous system development',\n     'xref_src_db': 'GoProcess'},\n    {'xref_id': 'GO:0007422',\n     'xref_name': 'peripheral nervous system development',\n     'xref_src_db': 'GoProcess'},\n    {'xref_id': 'GO:0007507',\n     'xref_name': 'heart development',\n     'xref_src_db': 'GoProcess'},\n    {'xref_id': 'GO:0007528',\n     'xref_name': 'neuromuscular junction development',\n     'xref_src_db': 'GoProcess'},\n    {'xref_id': 'GO:0008045',\n     'xref_name': 'motor neuron axon guidance',\n     'xref_src_db': 'GoProcess'},\n    {'xref_id': 'GO:0008284',\n     'xref_name': 'positive regulation of cell population proliferation',\n     'xref_src_db': 'GoProcess'},\n    {'xref_id': 'GO:0010628',\n     'xref_name': 'positive regulation of gene expression',\n     'xref_src_db': 'GoProcess'},\n    {'xref_id': 'GO:0014065',\n     'xref_name': 'phosphatidylinositol 3-kinase signaling',\n     'xref_src_db': 'GoProcess'},\n    {'xref_id': 'GO:0016310',\n     'xref_name': 'phosphorylation',\n     'xref_src_db': 'GoProcess'},\n    {'xref_id': 'GO:0018108',\n     'xref_name': 'peptidyl-tyrosine phosphorylation',\n     'xref_src_db': 'GoProcess'},\n    {'xref_id': 'GO:0030182',\n     'xref_name': 'neuron differentiation',\n     'xref_src_db': 'GoProcess'},\n    {'xref_id': 'GO:0030307',\n     'xref_name': 'positive regulation of cell growth',\n     'xref_src_db': 'GoProcess'},\n    {'xref_id': 'GO:0032886',\n     'xref_name': 'regulation of microtubule-based process',\n     'xref_src_db': 'GoProcess'},\n    {'xref_id': 'GO:0033088',\n     'xref_name': 'negative regulation of immature T cell proliferation in thymus',\n     'xref_src_db': 'GoProcess'},\n    {'xref_id': 'GO:0033674',\n     'xref_name': 'positive regulation of kinase activity',\n     'xref_src_db': 'GoProcess'},\n    {'xref_id': 'GO:0035556',\n     'xref_name': 'intracellular signal transduction',\n     'xref_src_db': 'GoProcess'},\n    {'xref_id': 'GO:0038128',\n     'xref_name': 'ERBB2 signaling pathway',\n     'xref_src_db': 'GoProcess'},\n    {'xref_id': 'GO:0042060',\n     'xref_name': 'wound healing',\n     'xref_src_db': 'GoProcess'},\n    {'xref_id': 'GO:0042552',\n     'xref_name': 'myelination',\n     'xref_src_db': 'GoProcess'},\n    {'xref_id': 'GO:0043406',\n     'xref_name': 'positive regulation of MAP kinase activity',\n     'xref_src_db': 'GoProcess'},\n    {'xref_id': 'GO:0043410',\n     'xref_name': 'positive regulation of MAPK cascade',\n     'xref_src_db': 'GoProcess'},\n    {'xref_id': 'GO:0043547',\n     'xref_name': 'positive regulation of GTPase activity',\n     'xref_src_db': 'GoProcess'},\n    {'xref_id': 'GO:0045727',\n     'xref_name': 'positive regulation of translation',\n     'xref_src_db': 'GoProcess'},\n    {'xref_id': 'GO:0045765',\n     'xref_name': 'regulation of angiogenesis',\n     'xref_src_db': 'GoProcess'},\n    {'xref_id': 'GO:0045785',\n     'xref_name': 'positive regulation of cell adhesion',\n     'xref_src_db': 'GoProcess'},\n    {'xref_id': 'GO:0045943',\n     'xref_name': 'positive regulation of transcription by RNA polymerase I',\n     'xref_src_db': 'GoProcess'},\n    {'xref_id': 'GO:0046777',\n     'xref_name': 'protein autophosphorylation',\n     'xref_src_db': 'GoProcess'},\n    {'xref_id': 'GO:0048709',\n     'xref_name': 'oligodendrocyte differentiation',\n     'xref_src_db': 'GoProcess'},\n    {'xref_id': 'GO:0050679',\n     'xref_name': 'positive regulation of epithelial cell proliferation',\n     'xref_src_db': 'GoProcess'},\n    {'xref_id': 'GO:0051897',\n     'xref_name': 'positive regulation of protein kinase B signaling',\n     'xref_src_db': 'GoProcess'},\n    {'xref_id': 'GO:0070372',\n     'xref_name': 'regulation of ERK1 and ERK2 cascade',\n     'xref_src_db': 'GoProcess'},\n    {'xref_id': 'GO:0071363',\n     'xref_name': 'cellular response to growth factor stimulus',\n     'xref_src_db': 'GoProcess'},\n    {'xref_id': 'GO:0071364',\n     'xref_name': 'cellular response to epidermal growth factor stimulus',\n     'xref_src_db': 'GoProcess'},\n    {'xref_id': 'GO:0090314',\n     'xref_name': 'positive regulation of protein targeting to membrane',\n     'xref_src_db': 'GoProcess'},\n    {'xref_id': 'GO:1901185',\n     'xref_name': 'negative regulation of ERBB signaling pathway',\n     'xref_src_db': 'GoProcess'},\n    {'xref_id': 'GO:2000145',\n     'xref_name': 'regulation of cell motility',\n     'xref_src_db': 'GoProcess'},\n    {'xref_id': '2019',\n     'xref_name': None,\n     'xref_src_db': 'GuideToPHARMACOLOGY'},\n    {'xref_id': 'P04626', 'xref_name': None, 'xref_src_db': 'IntAct'},\n    {'xref_id': 'IPR000494',\n     'xref_name': 'Rcpt_L-dom.',\n     'xref_src_db': 'InterPro'},\n    {'xref_id': 'IPR000719',\n     'xref_name': 'Prot_kinase_dom.',\n     'xref_src_db': 'InterPro'},\n    {'xref_id': 'IPR001245',\n     'xref_name': 'Ser-Thr/Tyr_kinase_cat_dom.',\n     'xref_src_db': 'InterPro'},\n    {'xref_id': 'IPR006211',\n     'xref_name': 'Furin-like_Cys-rich_dom.',\n     'xref_src_db': 'InterPro'},\n    {'xref_id': 'IPR006212',\n     'xref_name': 'Furin_repeat.',\n     'xref_src_db': 'InterPro'},\n    {'xref_id': 'IPR008266',\n     'xref_name': 'Tyr_kinase_AS.',\n     'xref_src_db': 'InterPro'},\n    {'xref_id': 'IPR009030',\n     'xref_name': 'Growth_fac_rcpt_cys_sf.',\n     'xref_src_db': 'InterPro'},\n    {'xref_id': 'IPR011009',\n     'xref_name': 'Kinase-like_dom_sf.',\n     'xref_src_db': 'InterPro'},\n    {'xref_id': 'IPR016245',\n     'xref_name': 'Tyr_kinase_EGF/ERB/XmrK_rcpt.',\n     'xref_src_db': 'InterPro'},\n    {'xref_id': 'IPR017441',\n     'xref_name': 'Protein_kinase_ATP_BS.',\n     'xref_src_db': 'InterPro'},\n    {'xref_id': 'IPR020635',\n     'xref_name': 'Tyr_kinase_cat_dom.',\n     'xref_src_db': 'InterPro'},\n    {'xref_id': 'IPR032778',\n     'xref_name': 'GF_recep_IV.',\n     'xref_src_db': 'InterPro'},\n    {'xref_id': 'IPR036941',\n     'xref_name': 'Rcpt_L-dom_sf.',\n     'xref_src_db': 'InterPro'},\n    {'xref_id': '1MFG', 'xref_name': 'A', 'xref_src_db': 'PDBe'},\n    {'xref_id': '1MFL', 'xref_name': 'A', 'xref_src_db': 'PDBe'},\n    {'xref_id': '1N8Z', 'xref_name': 'A', 'xref_src_db': 'PDBe'},\n    {'xref_id': '1QR1', 'xref_name': 'A', 'xref_src_db': 'PDBe'},\n    {'xref_id': '1S78', 'xref_name': 'A', 'xref_src_db': 'PDBe'},\n    {'xref_id': '2A91', 'xref_name': 'A', 'xref_src_db': 'PDBe'},\n    {'xref_id': '3BE1', 'xref_name': 'A', 'xref_src_db': 'PDBe'},\n    {'xref_id': '3H3B', 'xref_name': 'A', 'xref_src_db': 'PDBe'},\n    {'xref_id': '3MZW', 'xref_name': 'A', 'xref_src_db': 'PDBe'},\n    {'xref_id': '3N85', 'xref_name': 'A', 'xref_src_db': 'PDBe'},\n    {'xref_id': '3PP0', 'xref_name': 'A', 'xref_src_db': 'PDBe'},\n    {'xref_id': '3RCD', 'xref_name': 'A', 'xref_src_db': 'PDBe'},\n    {'xref_id': '3WLW', 'xref_name': 'A', 'xref_src_db': 'PDBe'},\n    {'xref_id': '3WSQ', 'xref_name': 'A', 'xref_src_db': 'PDBe'},\n    {'xref_id': '4GFU', 'xref_name': 'A', 'xref_src_db': 'PDBe'},\n    {'xref_id': '4HRL', 'xref_name': 'A', 'xref_src_db': 'PDBe'},\n    {'xref_id': '4HRM', 'xref_name': 'A', 'xref_src_db': 'PDBe'},\n    {'xref_id': '4HRN', 'xref_name': 'A', 'xref_src_db': 'PDBe'},\n    {'xref_id': '5K33', 'xref_name': 'A', 'xref_src_db': 'PDBe'},\n    {'xref_id': '5KWG', 'xref_name': 'A', 'xref_src_db': 'PDBe'},\n    {'xref_id': '5MY6', 'xref_name': 'A', 'xref_src_db': 'PDBe'},\n    {'xref_id': '5O4G', 'xref_name': 'A', 'xref_src_db': 'PDBe'},\n    {'xref_id': '5TQS', 'xref_name': 'A', 'xref_src_db': 'PDBe'},\n    {'xref_id': '6ATT', 'xref_name': 'A', 'xref_src_db': 'PDBe'},\n    {'xref_id': '6BGT', 'xref_name': 'A', 'xref_src_db': 'PDBe'},\n    {'xref_id': '6J71', 'xref_name': 'A', 'xref_src_db': 'PDBe'},\n    {'xref_id': 'PF00757', 'xref_name': 'Furin-like', 'xref_src_db': 'Pfam'},\n    {'xref_id': 'PF01030',\n     'xref_name': 'Recep_L_domain',\n     'xref_src_db': 'Pfam'},\n    {'xref_id': 'PF07714', 'xref_name': 'Pkinase_Tyr', 'xref_src_db': 'Pfam'},\n    {'xref_id': 'PF14843', 'xref_name': 'GF_recep_IV', 'xref_src_db': 'Pfam'},\n    {'xref_id': 'PA27844',\n     'xref_name': 'v-erb-b2 erythroblastic leukemia viral oncogene homolog 2, neuro/glioblastoma derived oncogene homolog (avian)',\n     'xref_src_db': 'PharmGKB'},\n    {'xref_id': 'P04626', 'xref_name': 'Tclin', 'xref_src_db': 'Pharos'},\n    {'xref_id': 'R-HSA-1227986',\n     'xref_name': 'Signaling by ERBB2.',\n     'xref_src_db': 'Reactome'},\n    {'xref_id': 'R-HSA-1250196',\n     'xref_name': 'SHC1 events in ERBB2 signaling.',\n     'xref_src_db': 'Reactome'},\n    {'xref_id': 'R-HSA-1251932',\n     'xref_name': 'PLCG1 events in ERBB2 signaling.',\n     'xref_src_db': 'Reactome'},\n    {'xref_id': 'R-HSA-1257604',\n     'xref_name': 'PIP3 activates AKT signaling.',\n     'xref_src_db': 'Reactome'},\n    {'xref_id': 'R-HSA-1306955',\n     'xref_name': 'GRB7 events in ERBB2 signaling.',\n     'xref_src_db': 'Reactome'},\n    {'xref_id': 'R-HSA-1358803',\n     'xref_name': 'Downregulation of ERBB2:ERBB3 signaling.',\n     'xref_src_db': 'Reactome'},\n    {'xref_id': 'R-HSA-1963640',\n     'xref_name': 'GRB2 events in ERBB2 signaling.',\n     'xref_src_db': 'Reactome'},\n    {'xref_id': 'R-HSA-1963642',\n     'xref_name': 'PI3K events in ERBB2 signaling.',\n     'xref_src_db': 'Reactome'},\n    {'xref_id': 'R-HSA-2219530',\n     'xref_name': 'Constitutive Signaling by Aberrant PI3K in Cancer.',\n     'xref_src_db': 'Reactome'},\n    {'xref_id': 'R-HSA-416572',\n     'xref_name': 'Sema4D induced cell migration and growth-cone collapse.',\n     'xref_src_db': 'Reactome'},\n    {'xref_id': 'R-HSA-5673001',\n     'xref_name': 'RAF/MAP kinase cascade.',\n     'xref_src_db': 'Reactome'},\n    {'xref_id': 'R-HSA-6785631',\n     'xref_name': 'ERBB2 Regulates Cell Motility.',\n     'xref_src_db': 'Reactome'},\n    {'xref_id': 'R-HSA-6811558',\n     'xref_name': 'PI5P, PP2A and IER3 Regulate PI3K/AKT Signaling.',\n     'xref_src_db': 'Reactome'},\n    {'xref_id': 'R-HSA-8847993',\n     'xref_name': 'ERBB2 Activates PTK6 Signaling.',\n     'xref_src_db': 'Reactome'},\n    {'xref_id': 'R-HSA-8863795',\n     'xref_name': 'Downregulation of ERBB2 signaling.',\n     'xref_src_db': 'Reactome'},\n    {'xref_id': 'R-HSA-8866910',\n     'xref_name': 'TFAP2 (AP-2) family regulates transcription of growth factors and their receptors.',\n     'xref_src_db': 'Reactome'},\n    {'xref_id': 'B2RZG3', 'xref_name': None, 'xref_src_db': 'UniProt'},\n    {'xref_id': 'B4DHN3', 'xref_name': None, 'xref_src_db': 'UniProt'},\n    {'xref_id': 'P04626', 'xref_name': None, 'xref_src_db': 'UniProt'},\n    {'xref_id': 'Q14256', 'xref_name': None, 'xref_src_db': 'UniProt'},\n    {'xref_id': 'Q6LDV1', 'xref_name': None, 'xref_src_db': 'UniProt'},\n    {'xref_id': 'Q9UMK4', 'xref_name': None, 'xref_src_db': 'UniProt'},\n    {'xref_id': 'X5D2V5', 'xref_name': None, 'xref_src_db': 'UniProt'}]}],\n 'target_type': 'SINGLE PROTEIN',\n 'tax_id': 9606}"
     },
     "execution_count": 34,
     "metadata": {},
     "output_type": "execute_result"
    }
   ],
   "source": [
    "record = new_client.target.get(chembl_id)\n",
    "record"
   ]
  },
  {
   "cell_type": "markdown",
   "metadata": {},
   "source": [
    "Remember that all targets have ChEMBL IDs, not just proteins..."
   ]
  },
  {
   "cell_type": "code",
   "execution_count": 35,
   "metadata": {},
   "outputs": [],
   "source": [
    "# SK-BR-3, a cell line over-expressing erbB-2\n",
    "chembl_id = \"CHEMBL613834\" "
   ]
  },
  {
   "cell_type": "code",
   "execution_count": 36,
   "metadata": {},
   "outputs": [
    {
     "data": {
      "text/plain": "{'cross_references': [],\n 'organism': 'Homo sapiens',\n 'pref_name': 'SK-BR-3',\n 'species_group_flag': False,\n 'target_chembl_id': 'CHEMBL613834',\n 'target_components': [],\n 'target_type': 'CELL-LINE',\n 'tax_id': 9606}"
     },
     "execution_count": 36,
     "metadata": {},
     "output_type": "execute_result"
    }
   ],
   "source": [
    "record = new_client.target.get(chembl_id)\n",
    "record"
   ]
  },
  {
   "cell_type": "markdown",
   "metadata": {},
   "source": [
    "### UniProt ID\n",
    "\n",
    "Data on protein targets may also be obtained using UniProt ID."
   ]
  },
  {
   "cell_type": "code",
   "execution_count": 37,
   "metadata": {},
   "outputs": [],
   "source": [
    "# UniProt ID for erbB-2, a target of Lapatinib\n",
    "uniprot_id = \"P04626\""
   ]
  },
  {
   "cell_type": "code",
   "execution_count": 38,
   "metadata": {},
   "outputs": [
    {
     "name": "stdout",
     "output_type": "stream",
     "text": "[('CHEMBL1824', 'Receptor protein-tyrosine kinase erbB-2'), ('CHEMBL2111431', 'Epidermal growth factor receptor and ErbB2 (HER1 and HER2)'), ('CHEMBL2363049', 'Epidermal growth factor receptor'), ('CHEMBL4106134', 'FASN/HER2')]\n"
    }
   ],
   "source": [
    "records = new_client.target.filter(target_components__accession=uniprot_id)\n",
    "print([(x['target_chembl_id'], x['pref_name']) for x in records])"
   ]
  },
  {
   "cell_type": "markdown",
   "metadata": {},
   "source": [
    "### Bioactivities\n",
    "\n",
    "All bioactivities for a target may be retrieved."
   ]
  },
  {
   "cell_type": "code",
   "execution_count": 39,
   "metadata": {},
   "outputs": [],
   "source": [
    "# Receptor protein-tyrosine kinase erbB-2\n",
    "chembl_id = \"CHEMBL1824\""
   ]
  },
  {
   "cell_type": "code",
   "execution_count": 40,
   "metadata": {},
   "outputs": [
    {
     "data": {
      "text/plain": "6927"
     },
     "execution_count": 40,
     "metadata": {},
     "output_type": "execute_result"
    }
   ],
   "source": [
    "records = new_client.activity.filter(target_chembl_id=chembl_id)\n",
    "len(records)"
   ]
  },
  {
   "cell_type": "markdown",
   "metadata": {},
   "source": [
    "### Approved Drugs\n",
    "\n",
    "The approved drugs for a target may be retrieved."
   ]
  },
  {
   "cell_type": "code",
   "execution_count": 41,
   "metadata": {},
   "outputs": [],
   "source": [
    "# Receptor protein-tyrosine kinase erbB-2\n",
    "chembl_id = \"CHEMBL1824\""
   ]
  },
  {
   "cell_type": "code",
   "execution_count": 42,
   "metadata": {},
   "outputs": [
    {
     "name": "stdout",
     "output_type": "stream",
     "text": "CHEMBL180022 : NERATINIB\nCHEMBL1201179 : LAPATINIB DITOSYLATE\nCHEMBL1201585 : TRASTUZUMAB\nCHEMBL1743082 : TRASTUZUMAB EMTANSINE\nCHEMBL2007641 : PERTUZUMAB\nCHEMBL2105712 : AFATINIB DIMALEATE\nCHEMBL2105719 : DACOMITINIB\nCHEMBL2110732 : DACOMITINIB\nCHEMBL3989921 : NERATINIB MALEATE\n"
    }
   ],
   "source": [
    "activities = new_client.mechanism.filter(target_chembl_id=chembl_id)\n",
    "compound_ids = [x['molecule_chembl_id'] for x in activities]\n",
    "approved_drugs = new_client.molecule.filter(molecule_chembl_id__in=compound_ids).filter(max_phase=4)\n",
    "\n",
    "for record in approved_drugs:\n",
    "    print(\"{:10s} : {}\".format(record[\"molecule_chembl_id\"], record[\"pref_name\"]))"
   ]
  },
  {
   "cell_type": "markdown",
   "metadata": {},
   "source": [
    "### Assay details\n",
    "\n",
    "Details of an assay may be retrieved _via_ its ChEMBL ID."
   ]
  },
  {
   "cell_type": "code",
   "execution_count": 43,
   "metadata": {},
   "outputs": [],
   "source": [
    "# Inhibitory activity against epidermal growth factor receptor\n",
    "chembl_id = \"CHEMBL674106\""
   ]
  },
  {
   "cell_type": "code",
   "execution_count": 44,
   "metadata": {},
   "outputs": [
    {
     "data": {
      "text/plain": "{'assay_category': None,\n 'assay_cell_type': None,\n 'assay_chembl_id': 'CHEMBL674106',\n 'assay_classifications': [],\n 'assay_organism': None,\n 'assay_parameters': [],\n 'assay_strain': None,\n 'assay_subcellular_fraction': None,\n 'assay_tax_id': None,\n 'assay_test_type': None,\n 'assay_tissue': None,\n 'assay_type': 'B',\n 'assay_type_description': 'Binding',\n 'bao_format': 'BAO_0000357',\n 'bao_label': 'single protein format',\n 'cell_chembl_id': None,\n 'confidence_description': 'Homologous single protein target assigned',\n 'confidence_score': 8,\n 'description': 'Inhibitory activity against epidermal growth factor receptor',\n 'document_chembl_id': 'CHEMBL1146682',\n 'relationship_description': 'Homologous protein target assigned',\n 'relationship_type': 'H',\n 'src_assay_id': None,\n 'src_id': 1,\n 'target_chembl_id': 'CHEMBL203',\n 'tissue_chembl_id': None}"
     },
     "execution_count": 44,
     "metadata": {},
     "output_type": "execute_result"
    }
   ],
   "source": [
    "record = new_client.assay.get(chembl_id)\n",
    "record"
   ]
  },
  {
   "cell_type": "markdown",
   "metadata": {},
   "source": [
    "### Bioactivities\n",
    "\n",
    "All bioactivity records for an assay may be requested."
   ]
  },
  {
   "cell_type": "code",
   "execution_count": 45,
   "metadata": {},
   "outputs": [
    {
     "data": {
      "text/plain": "(16,\n [{'activity_comment': None, 'activity_id': 183887, 'activity_properties': [], 'assay_chembl_id': 'CHEMBL674106', 'assay_description': 'Inhibitory activity against epidermal growth factor receptor', 'assay_type': 'B', 'bao_endpoint': 'BAO_0000190', 'bao_format': 'BAO_0000357', 'bao_label': 'single protein format', 'canonical_smiles': 'Oc1ccc2ncnc(Nc3ccc(OCc4ccccc4)cc3)c2c1', 'data_validity_comment': None, 'data_validity_description': None, 'document_chembl_id': 'CHEMBL1146682', 'document_journal': 'Bioorg. Med. Chem. Lett.', 'document_year': 2004, 'ligand_efficiency': {'bei': '20.41', 'le': '0.37', 'lle': '2.35', 'sei': '10.42'}, 'molecule_chembl_id': 'CHEMBL14932', 'molecule_pref_name': None, 'parent_molecule_chembl_id': 'CHEMBL14932', 'pchembl_value': '7.01', 'potential_duplicate': True, 'qudt_units': 'http://www.openphacts.org/units/Nanomolar', 'record_id': 15404, 'relation': '=', 'src_id': 1, 'standard_flag': True, 'standard_relation': '=', 'standard_text_value': None, 'standard_type': 'IC50', 'standard_units': 'nM', 'standard_upper_value': None, 'standard_value': '98.0', 'target_chembl_id': 'CHEMBL203', 'target_organism': 'Homo sapiens', 'target_pref_name': 'Epidermal growth factor receptor erbB1', 'target_tax_id': '9606', 'text_value': None, 'toid': None, 'type': 'IC50', 'units': 'nM', 'uo_units': 'UO_0000065', 'upper_value': None, 'value': '98.0'}, {'activity_comment': None, 'activity_id': 186628, 'activity_properties': [], 'assay_chembl_id': 'CHEMBL674106', 'assay_description': 'Inhibitory activity against epidermal growth factor receptor', 'assay_type': 'B', 'bao_endpoint': 'BAO_0000190', 'bao_format': 'BAO_0000357', 'bao_label': 'single protein format', 'canonical_smiles': 'C#Cc1cccc(Nc2ncnc3cc(OCCOC)c(OCCOC)cc23)c1', 'data_validity_comment': None, 'data_validity_description': None, 'document_chembl_id': 'CHEMBL1146682', 'document_journal': 'Bioorg. Med. Chem. Lett.', 'document_year': 2004, 'ligand_efficiency': {'bei': '22.88', 'le': '0.42', 'lle': '5.59', 'sei': '12.04'}, 'molecule_chembl_id': 'CHEMBL553', 'molecule_pref_name': 'ERLOTINIB', 'parent_molecule_chembl_id': 'CHEMBL553', 'pchembl_value': '9.00', 'potential_duplicate': True, 'qudt_units': 'http://www.openphacts.org/units/Nanomolar', 'record_id': 15410, 'relation': '=', 'src_id': 1, 'standard_flag': True, 'standard_relation': '=', 'standard_text_value': None, 'standard_type': 'IC50', 'standard_units': 'nM', 'standard_upper_value': None, 'standard_value': '1.0', 'target_chembl_id': 'CHEMBL203', 'target_organism': 'Homo sapiens', 'target_pref_name': 'Epidermal growth factor receptor erbB1', 'target_tax_id': '9606', 'text_value': None, 'toid': None, 'type': 'IC50', 'units': 'uM', 'uo_units': 'UO_0000065', 'upper_value': None, 'value': '0.001'}])"
     },
     "execution_count": 45,
     "metadata": {},
     "output_type": "execute_result"
    }
   ],
   "source": [
    "records = new_client.activity.filter(assay_chembl_id=chembl_id)\n",
    "len(records), records[:2]"
   ]
  },
  {
   "cell_type": "markdown",
   "metadata": {},
   "source": [
    "## Other resources\n",
    "\n",
    "As noted previously, there are many other resources that can be useful. They won't be covered in this document in a great detail but some examples may be helpful."
   ]
  },
  {
   "cell_type": "code",
   "execution_count": 46,
   "metadata": {},
   "outputs": [
    {
     "name": "stdout",
     "output_type": "stream",
     "text": "[{'abstract': '', 'authors': 'Estenne G, Dodey P, Renaut P, Leclerc G', 'doc_type': 'PUBLICATION', 'document_chembl_id': 'CHEMBL1128135', 'doi': '10.1016/0960-894X(94)00451-K', 'doi_chembl': None, 'first_page': '15', 'issue': '1', 'journal': 'Bioorg. Med. Chem. Lett.', 'journal_full_title': 'Bioorganic & medicinal chemistry letters.', 'last_page': '18', 'patent_id': None, 'pubmed_id': None, 'src_id': 1, 'title': 'Synthesis and biological evaluation of new arylthiophene analogs of DuP 753', 'volume': '5', 'year': 1995}, {'abstract': '', 'authors': 'Hill DT, Girard GR, Weinstock J, Edwards RM, Weidley EF, Ohlstein E, Peishoff CE, Baker E, Aiyar N', 'doc_type': 'PUBLICATION', 'document_chembl_id': 'CHEMBL1128136', 'doi': '10.1016/0960-894X(94)00456-P', 'doi_chembl': None, 'first_page': '19', 'issue': '1', 'journal': 'Bioorg. Med. Chem. Lett.', 'journal_full_title': 'Bioorganic & medicinal chemistry letters.', 'last_page': '24', 'patent_id': None, 'pubmed_id': None, 'src_id': 1, 'title': 'and -N-[(1-benzyl-1H-imidazol-5-yl)-alkyl]-amino acids as angiotensin II AT-1 antagonists', 'volume': '5', 'year': 1995}, {'abstract': '', 'authors': 'Cornish JA, Murray H, Kemp GD, Gani D', 'doc_type': 'PUBLICATION', 'document_chembl_id': 'CHEMBL1150533', 'doi': '10.1016/0960-894X(94)00452-L', 'doi_chembl': None, 'first_page': '25', 'issue': '1', 'journal': 'Bioorg. Med. Chem. Lett.', 'journal_full_title': 'Bioorganic & medicinal chemistry letters.', 'last_page': '30', 'patent_id': None, 'pubmed_id': None, 'src_id': 1, 'title': 'Inhibitors of the adenovirus type 2 proteinase based on substrate-like tetrapeptide nitriles', 'volume': '5', 'year': 1995}, {'abstract': '', 'authors': 'Kosaka T, Ochiai K, Ohba S, Wakabayashi T, Murota S', 'doc_type': 'PUBLICATION', 'document_chembl_id': 'CHEMBL1128137', 'doi': '10.1016/0960-894X(94)00449-P', 'doi_chembl': None, 'first_page': '35', 'issue': '1', 'journal': 'Bioorg. Med. Chem. Lett.', 'journal_full_title': 'Bioorganic & medicinal chemistry letters.', 'last_page': '38', 'patent_id': None, 'pubmed_id': None, 'src_id': 1, 'title': 'A novel series of highly potent 5-lipoxygenase inhibitors; 2-aryldienylbenzoxazoles', 'volume': '5', 'year': 1995}, '...(remaining elements truncated)...']\n"
    }
   ],
   "source": [
    "# Documents - retrieve all publications published after 1985 in 5th volume.\n",
    "print(new_client.document.filter(doc_type='PUBLICATION').filter(year__gt=1985).filter(volume=5))"
   ]
  },
  {
   "cell_type": "code",
   "execution_count": 47,
   "metadata": {},
   "outputs": [
    {
     "name": "stdout",
     "output_type": "stream",
     "text": "{'cell_chembl_id': 'CHEMBL3307242', 'cell_description': 'P3HR-1', 'cell_id': 2, 'cell_name': 'P3HR-1', 'cell_source_organism': 'Homo sapiens', 'cell_source_tax_id': 9606, 'cell_source_tissue': 'Lyphoma', 'cellosaurus_id': 'CVCL_2676', 'cl_lincs_id': 'LCL-2024', 'clo_id': 'CLO_0008331', 'efo_id': 'EFO_0002312'}\n"
    }
   ],
   "source": [
    "# Cell lines:\n",
    "print(new_client.cell_line.get('CHEMBL3307242'))"
   ]
  },
  {
   "cell_type": "code",
   "execution_count": 48,
   "metadata": {},
   "outputs": [
    {
     "name": "stdout",
     "output_type": "stream",
     "text": "[{'l1': 'Enzyme', 'l2': 'Kinase', 'l3': 'Protein Kinase', 'l4': 'CAMK protein kinase group', 'l5': 'CAMK protein kinase CAMK1 family', 'l6': 'CAMK protein kinase AMPK subfamily', 'l7': None, 'l8': None, 'protein_class_id': 409}]\n"
    }
   ],
   "source": [
    "# Protein class:\n",
    "print(new_client.protein_class.filter(l6=\"CAMK protein kinase AMPK subfamily\"))"
   ]
  },
  {
   "cell_type": "code",
   "execution_count": 49,
   "metadata": {},
   "outputs": [
    {
     "name": "stdout",
     "output_type": "stream",
     "text": "[{'src_description': 'Gene Expression Atlas Compounds', 'src_id': 26, 'src_short_name': 'ATLAS'}]\n"
    }
   ],
   "source": [
    "# Source:\n",
    "print(new_client.source.filter(src_short_name=\"ATLAS\"))"
   ]
  },
  {
   "cell_type": "code",
   "execution_count": 50,
   "metadata": {},
   "outputs": [
    {
     "name": "stdout",
     "output_type": "stream",
     "text": "{'accession': 'Q72547', 'component_id': 375, 'component_type': 'PROTEIN', 'description': 'Reverse transcriptase/RNaseH', 'go_slims': [{'go_id': 'GO:0003676'}, {'go_id': 'GO:0004518'}, {'go_id': 'GO:0006259'}, {'go_id': 'GO:0009058'}, {'go_id': 'GO:0016740'}, {'go_id': 'GO:0016779'}, {'go_id': 'GO:0034641'}, {'go_id': 'GO:0042802'}, {'go_id': 'GO:0043167'}], 'organism': 'Human immunodeficiency virus 1', 'protein_classifications': [{'protein_classification_id': 646}], 'sequence': 'PISPIETVPVKLKPGMDGPKVKQWPLTEEKIKALVEICTEMEKEGKISKIGPENPYNTPVFAIKKKDSTKWRKLVDFRELNKRTQDFWEVQLGIPHPAGLKKRKSVTVLDVGDAYFSVPLDEDFRKYTAFTIPSINNETPGIRYQYNVLPQGWKGSPAIFQSSMTKILEPFRKQNPDIVIYQYMDDLYVGSDLEIGQHRTKIEELRQHLLRWGLTTPDKKHQKEPPFLWMGYELHPDKWTVQPIVLPEKDSWTVNDIQKLVGKLNWASQIYPGIRVRQLCKLLRGTKALTEVIPLTEEAELELAENREILKEPVHGVYYDPSKDLIAEIQKQGQGQWTYQIYQEPFKNLRTGKYARMRGAHTNDVKQLTEAVQKITTESIVIWGKTPKFKLPIQKETWETWWTEYWQATWIPEWEFVNTPPLVKLWYQLEKEPIVGAETFYVDGAANRETKLGKAGYVTNRGRQKVVTLTDTTNQKTELQAIYLALQDSGLEVNIVTDSQYALGIIQAQPDQSESELVNQIIEQLIKKEKVYLAWVPAHKGIGGNEQVDKLVSAGIRKVLFLDGID', 'target_component_synonyms': [{'component_synonym': 'pol', 'syn_type': 'GENE_SYMBOL'}, {'component_synonym': 'Reverse transcriptase/RNaseH', 'syn_type': 'UNIPROT'}], 'target_component_xrefs': [{'xref_id': 'GO:0003676', 'xref_name': 'nucleic acid binding', 'xref_src_db': 'GoFunction'}, {'xref_id': 'GO:0003964', 'xref_name': 'RNA-directed DNA polymerase activity', 'xref_src_db': 'GoFunction'}, {'xref_id': 'GO:0004523', 'xref_name': 'RNA-DNA hybrid ribonuclease activity', 'xref_src_db': 'GoFunction'}, {'xref_id': 'GO:0016740', 'xref_name': 'transferase activity', 'xref_src_db': 'GoFunction'}, {'xref_id': 'GO:0016779', 'xref_name': 'nucleotidyltransferase activity', 'xref_src_db': 'GoFunction'}, {'xref_id': 'GO:0042802', 'xref_name': 'identical protein binding', 'xref_src_db': 'GoFunction'}, {'xref_id': 'GO:0046872', 'xref_name': 'metal ion binding', 'xref_src_db': 'GoFunction'}, {'xref_id': 'GO:0006278', 'xref_name': 'RNA-dependent DNA biosynthetic process', 'xref_src_db': 'GoProcess'}, {'xref_id': 'GO:0090502', 'xref_name': 'RNA phosphodiester bond hydrolysis, endonucleolytic', 'xref_src_db': 'GoProcess'}, {'xref_id': 'Q72547', 'xref_name': None, 'xref_src_db': 'IntAct'}, {'xref_id': 'IPR000477', 'xref_name': 'RT_dom.', 'xref_src_db': 'InterPro'}, {'xref_id': 'IPR002156', 'xref_name': 'RNaseH_domain.', 'xref_src_db': 'InterPro'}, {'xref_id': 'IPR010659', 'xref_name': 'RVT_connect.', 'xref_src_db': 'InterPro'}, {'xref_id': 'IPR010661', 'xref_name': 'RVT_thumb.', 'xref_src_db': 'InterPro'}, {'xref_id': 'IPR012337', 'xref_name': 'RNaseH-like_sf.', 'xref_src_db': 'InterPro'}, {'xref_id': 'IPR036397', 'xref_name': 'RNaseH_sf.', 'xref_src_db': 'InterPro'}, {'xref_id': '2JLE', 'xref_name': 'A', 'xref_src_db': 'PDBe'}, {'xref_id': '3HYF', 'xref_name': 'A', 'xref_src_db': 'PDBe'}, {'xref_id': 'PF00075', 'xref_name': 'RNase_H', 'xref_src_db': 'Pfam'}, {'xref_id': 'PF00078', 'xref_name': 'RVT_1', 'xref_src_db': 'Pfam'}, {'xref_id': 'PF06815', 'xref_name': 'RVT_connect', 'xref_src_db': 'Pfam'}, {'xref_id': 'PF06817', 'xref_name': 'RVT_thumb', 'xref_src_db': 'Pfam'}, {'xref_id': 'Q72547', 'xref_name': None, 'xref_src_db': 'UniProt'}], 'targets': [{'target_chembl_id': 'CHEMBL247'}], 'tax_id': 11676}\n"
    }
   ],
   "source": [
    "# Target component:\n",
    "print(new_client.target_component.get(375))"
   ]
  },
  {
   "cell_type": "code",
   "execution_count": 51,
   "metadata": {},
   "outputs": [
    {
     "name": "stdout",
     "output_type": "stream",
     "text": "COMPOUND\n"
    }
   ],
   "source": [
    "# ChEMBL ID Lookup: check if CHEMBL1 is a molecule, assay or target:\n",
    "print(new_client.chembl_id_lookup.get(\"CHEMBL1\")['entity_type'])"
   ]
  },
  {
   "cell_type": "code",
   "execution_count": 52,
   "metadata": {},
   "outputs": [
    {
     "name": "stdout",
     "output_type": "stream",
     "text": "{'level1': 'H', 'level1_description': 'SYSTEMIC HORMONAL PREPARATIONS, EXCL. SEX HORMONES AND INSULINS', 'level2': 'H03', 'level2_description': 'THYROID THERAPY', 'level3': 'H03A', 'level3_description': 'THYROID PREPARATIONS', 'level4': 'H03AA', 'level4_description': 'Thyroid hormones', 'level5': 'H03AA03', 'who_name': 'combinations of levothyroxine and liothyronine'}\n"
    }
   ],
   "source": [
    "# ATC class:\n",
    "print(new_client.atc_class.get('H03AA03'))"
   ]
  },
  {
   "cell_type": "code",
   "execution_count": null,
   "metadata": {},
   "outputs": [],
   "source": []
  }
 ],
 "metadata": {
  "kernelspec": {
   "display_name": "Python 3",
   "language": "python",
   "name": "python3"
  },
  "language_info": {
   "codemirror_mode": {
    "name": "ipython",
    "version": 3
   },
   "file_extension": ".py",
   "mimetype": "text/x-python",
   "name": "python",
   "nbconvert_exporter": "python",
   "pygments_lexer": "ipython3",
   "version": "3.7.6-final"
  },
  "widgets": {
   "state": {},
   "version": "1.1.2"
  }
 },
 "nbformat": 4,
 "nbformat_minor": 1
}